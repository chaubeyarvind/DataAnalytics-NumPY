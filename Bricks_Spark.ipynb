{
  "nbformat": 4,
  "nbformat_minor": 0,
  "metadata": {
    "colab": {
      "provenance": [],
      "collapsed_sections": [],
      "authorship_tag": "ABX9TyOM+B+5THDe0Mv6/oEfEPNF",
      "include_colab_link": true
    },
    "kernelspec": {
      "name": "python3",
      "display_name": "Python 3"
    },
    "language_info": {
      "name": "python"
    }
  },
  "cells": [
    {
      "cell_type": "markdown",
      "metadata": {
        "id": "view-in-github",
        "colab_type": "text"
      },
      "source": [
        "<a href=\"https://colab.research.google.com/github/chaubeyarvind/DataAnalytics-NumPY/blob/main/Bricks_Spark.ipynb\" target=\"_parent\"><img src=\"https://colab.research.google.com/assets/colab-badge.svg\" alt=\"Open In Colab\"/></a>"
      ]
    },
    {
      "cell_type": "code",
      "execution_count": 2,
      "metadata": {
        "colab": {
          "base_uri": "https://localhost:8080/"
        },
        "id": "8nNBezCuQkj7",
        "outputId": "19b4a8bf-a7b5-432f-fcf3-596a6a8bf23c"
      },
      "outputs": [
        {
          "output_type": "stream",
          "name": "stdout",
          "text": [
            "Looking in indexes: https://pypi.org/simple, https://us-python.pkg.dev/colab-wheels/public/simple/\n",
            "Requirement already satisfied: pyspark in /usr/local/lib/python3.7/dist-packages (3.3.0)\n",
            "Requirement already satisfied: py4j==0.10.9.5 in /usr/local/lib/python3.7/dist-packages (from pyspark) (0.10.9.5)\n"
          ]
        }
      ],
      "source": [
        "!pip install pyspark"
      ]
    },
    {
      "cell_type": "code",
      "source": [
        "from pyspark.sql import SparkSession\n",
        "spark = SparkSession.builder.master(\"local[*]\").appName(\"Spark Regression\").getOrCreate()\n",
        "spark"
      ],
      "metadata": {
        "colab": {
          "base_uri": "https://localhost:8080/",
          "height": 221
        },
        "id": "TRpwIiAnRbjT",
        "outputId": "6f5a5775-4003-4e2b-e68f-acd5d3c94f5f"
      },
      "execution_count": 17,
      "outputs": [
        {
          "output_type": "execute_result",
          "data": {
            "text/plain": [
              "<pyspark.sql.session.SparkSession at 0x7f369ed8b810>"
            ],
            "text/html": [
              "\n",
              "            <div>\n",
              "                <p><b>SparkSession - in-memory</b></p>\n",
              "                \n",
              "        <div>\n",
              "            <p><b>SparkContext</b></p>\n",
              "\n",
              "            <p><a href=\"http://4c0130a0355e:4040\">Spark UI</a></p>\n",
              "\n",
              "            <dl>\n",
              "              <dt>Version</dt>\n",
              "                <dd><code>v3.3.0</code></dd>\n",
              "              <dt>Master</dt>\n",
              "                <dd><code>local[*]</code></dd>\n",
              "              <dt>AppName</dt>\n",
              "                <dd><code>Spark Regression</code></dd>\n",
              "            </dl>\n",
              "        </div>\n",
              "        \n",
              "            </div>\n",
              "        "
            ]
          },
          "metadata": {},
          "execution_count": 17
        }
      ]
    },
    {
      "cell_type": "code",
      "source": [
        "df1 = spark.read.csv(\"/content/sample_data/dataset1.csv\", header=True, inferSchema=True)\n",
        "df2 = spark.read.csv(\"/content/sample_data/CIC_DDoS.csv\", header=True, inferSchema=True)"
      ],
      "metadata": {
        "id": "aReWBpBBUaUR"
      },
      "execution_count": 19,
      "outputs": []
    },
    {
      "cell_type": "code",
      "source": [
        "df1"
      ],
      "metadata": {
        "colab": {
          "base_uri": "https://localhost:8080/"
        },
        "id": "YA9QUvR9U1M5",
        "outputId": "fca89cde-5a4e-4c66-977a-d264dce866cc"
      },
      "execution_count": 24,
      "outputs": [
        {
          "output_type": "execute_result",
          "data": {
            "text/plain": [
              "DataFrame[longitude: double, latitude: double, housing_median_age: double, total_rooms: double, total_bedrooms: double, population: double, households: double, median_income: double, median_house_value: double, ocean_proximity: string, housing_median_status: string]"
            ]
          },
          "metadata": {},
          "execution_count": 24
        }
      ]
    },
    {
      "cell_type": "code",
      "source": [
        "df1.show()"
      ],
      "metadata": {
        "colab": {
          "base_uri": "https://localhost:8080/"
        },
        "id": "MVYh0q-3VEqe",
        "outputId": "349c79b1-3081-41f9-d77b-eee4c02988bc"
      },
      "execution_count": 26,
      "outputs": [
        {
          "output_type": "stream",
          "name": "stdout",
          "text": [
            "+---------+--------+------------------+-----------+--------------+----------+----------+-------------+------------------+---------------+---------------------+\n",
            "|longitude|latitude|housing_median_age|total_rooms|total_bedrooms|population|households|median_income|median_house_value|ocean_proximity|housing_median_status|\n",
            "+---------+--------+------------------+-----------+--------------+----------+----------+-------------+------------------+---------------+---------------------+\n",
            "|  -122.23|   37.88|              41.0|      880.0|         129.0|     322.0|     126.0|       8.3252|          452600.0|       NEAR BAY|                  LOW|\n",
            "|  -122.22|   37.86|              21.0|     7099.0|        1106.0|    2401.0|    1138.0|       8.3014|          358500.0|       NEAR BAY|                  LOW|\n",
            "|  -122.24|   37.85|              52.0|     1467.0|         190.0|     496.0|     177.0|       7.2574|          352100.0|       NEAR BAY|                  LOW|\n",
            "|  -122.25|   37.85|              52.0|     1274.0|         235.0|     558.0|     219.0|       5.6431|          341300.0|       NEAR BAY|                  LOW|\n",
            "|  -122.25|   37.85|              52.0|     1627.0|         280.0|     565.0|     259.0|       3.8462|          342200.0|       NEAR BAY|                  LOW|\n",
            "|  -122.25|   37.85|              52.0|      919.0|         213.0|     413.0|     193.0|       4.0368|          269700.0|       NEAR BAY|                  LOW|\n",
            "|  -122.25|   37.84|              52.0|     2535.0|         489.0|    1094.0|     514.0|       3.6591|          299200.0|       NEAR BAY|                  LOW|\n",
            "|  -122.25|   37.84|              52.0|     3104.0|         687.0|    1157.0|     647.0|         3.12|          241400.0|       NEAR BAY|                  LOW|\n",
            "|  -122.26|   37.84|              42.0|     2555.0|         665.0|    1206.0|     595.0|       2.0804|          226700.0|       NEAR BAY|                  LOW|\n",
            "|  -122.25|   37.84|              52.0|     3549.0|         707.0|    1551.0|     714.0|       3.6912|          261100.0|       NEAR BAY|                  LOW|\n",
            "|  -122.26|   37.85|              52.0|     2202.0|         434.0|     910.0|     402.0|       3.2031|          281500.0|       NEAR BAY|                  LOW|\n",
            "|  -122.26|   37.85|              52.0|     3503.0|         752.0|    1504.0|     734.0|       3.2705|          241800.0|       NEAR BAY|                  LOW|\n",
            "|  -122.26|   37.85|              52.0|     2491.0|         474.0|    1098.0|     468.0|        3.075|          213500.0|       NEAR BAY|                  LOW|\n",
            "|  -122.26|   37.84|              52.0|      696.0|         191.0|     345.0|     174.0|       2.6736|          191300.0|       NEAR BAY|                  LOW|\n",
            "|  -122.26|   37.85|              52.0|     2643.0|         626.0|    1212.0|     620.0|       1.9167|          159200.0|       NEAR BAY|                  LOW|\n",
            "|  -122.26|   37.85|              50.0|     1120.0|         283.0|     697.0|     264.0|        2.125|          140000.0|       NEAR BAY|                  LOW|\n",
            "|  -122.27|   37.85|              52.0|     1966.0|         347.0|     793.0|     331.0|        2.775|          152500.0|       NEAR BAY|                  LOW|\n",
            "|  -122.27|   37.85|              52.0|     1228.0|         293.0|     648.0|     303.0|       2.1202|          155500.0|       NEAR BAY|                  LOW|\n",
            "|  -122.26|   37.84|              50.0|     2239.0|         455.0|     990.0|     419.0|       1.9911|          158700.0|       NEAR BAY|                  LOW|\n",
            "|  -122.27|   37.84|              52.0|     1503.0|         298.0|     690.0|     275.0|       2.6033|          162900.0|       NEAR BAY|                  LOW|\n",
            "+---------+--------+------------------+-----------+--------------+----------+----------+-------------+------------------+---------------+---------------------+\n",
            "only showing top 20 rows\n",
            "\n"
          ]
        }
      ]
    },
    {
      "cell_type": "code",
      "source": [
        "df1[df1['ocean_proximity'] == 'INLAND'].show()"
      ],
      "metadata": {
        "colab": {
          "base_uri": "https://localhost:8080/"
        },
        "id": "wADQ1kxjVbwQ",
        "outputId": "dc0cfece-3862-4c9b-ab7f-a54fccc3f130"
      },
      "execution_count": 28,
      "outputs": [
        {
          "output_type": "stream",
          "name": "stdout",
          "text": [
            "+---------+--------+------------------+-----------+--------------+----------+----------+-------------+------------------+---------------+---------------------+\n",
            "|longitude|latitude|housing_median_age|total_rooms|total_bedrooms|population|households|median_income|median_house_value|ocean_proximity|housing_median_status|\n",
            "+---------+--------+------------------+-----------+--------------+----------+----------+-------------+------------------+---------------+---------------------+\n",
            "|  -121.92|   37.64|              46.0|     1280.0|         209.0|     512.0|     208.0|       5.1406|          315600.0|         INLAND|                  LOW|\n",
            "|   -121.9|   37.66|              18.0|     7397.0|        1137.0|    3126.0|    1115.0|       6.4994|          323000.0|         INLAND|               MEDIUM|\n",
            "|  -121.88|   37.68|              23.0|     2234.0|         270.0|     854.0|     286.0|        7.333|          337200.0|         INLAND|                  LOW|\n",
            "|  -121.88|   37.67|              16.0|     4070.0|         624.0|    1543.0|     577.0|       6.5214|          311500.0|         INLAND|               MEDIUM|\n",
            "|  -121.88|   37.67|              25.0|     2244.0|         301.0|     937.0|     324.0|       6.4524|          296900.0|         INLAND|                  LOW|\n",
            "|  -121.89|   37.67|              20.0|     2948.0|         471.0|    1181.0|     474.0|       6.0604|          247900.0|         INLAND|               MEDIUM|\n",
            "|  -121.89|   37.67|              19.0|     2034.0|         288.0|     852.0|     295.0|       6.5285|          300400.0|         INLAND|               MEDIUM|\n",
            "|  -121.88|   37.66|              29.0|     2702.0|         680.0|    1360.0|     642.0|       3.1127|          233000.0|         INLAND|                  LOW|\n",
            "|  -121.87|   37.66|              39.0|      522.0|         116.0|     161.0|     102.0|       2.4896|          238500.0|         INLAND|                  LOW|\n",
            "|  -121.87|   37.66|              52.0|      775.0|         134.0|     315.0|     123.0|       5.0677|          233300.0|         INLAND|                  LOW|\n",
            "|  -121.89|   37.66|               3.0|     1565.0|         464.0|     769.0|     461.0|       2.1187|          231300.0|         INLAND|            VERY GOOD|\n",
            "|  -121.88|   37.64|              20.0|     1309.0|         184.0|     514.0|     172.0|      10.9506|          475800.0|         INLAND|               MEDIUM|\n",
            "|  -121.87|   37.67|              10.0|     4337.0|         800.0|    1813.0|     743.0|          5.5|          247200.0|         INLAND|                 GOOD|\n",
            "|  -121.87|   37.67|              28.0|     1812.0|         294.0|     853.0|     278.0|       4.9879|          229400.0|         INLAND|                  LOW|\n",
            "|  -121.85|   37.68|               4.0|     4719.0|         741.0|    1895.0|     742.0|       6.8132|          282500.0|         INLAND|            VERY GOOD|\n",
            "|  -121.85|   37.66|              14.0|     4236.0|         701.0|    1833.0|     663.0|       5.6399|          300600.0|         INLAND|               MEDIUM|\n",
            "|  -121.86|   37.66|              22.0|     3634.0|         664.0|    1699.0|     640.0|       4.1597|          293200.0|         INLAND|                  LOW|\n",
            "|  -121.87|   37.66|              27.0|     1569.0|         242.0|     583.0|     214.0|       5.7519|          278500.0|         INLAND|                  LOW|\n",
            "|  -121.84|   37.66|              13.0|    13182.0|        2074.0|    4847.0|    1950.0|       5.6417|          352900.0|         INLAND|               MEDIUM|\n",
            "|  -121.85|   37.72|              43.0|      228.0|          40.0|      83.0|      42.0|      10.3203|          400000.0|         INLAND|                  LOW|\n",
            "+---------+--------+------------------+-----------+--------------+----------+----------+-------------+------------------+---------------+---------------------+\n",
            "only showing top 20 rows\n",
            "\n"
          ]
        }
      ]
    },
    {
      "cell_type": "code",
      "source": [
        "df1[df1['ocean_proximity'] == 'NEAR OCEAN'].show()"
      ],
      "metadata": {
        "colab": {
          "base_uri": "https://localhost:8080/"
        },
        "id": "mJvQXARxVtJO",
        "outputId": "8f6c375d-d7d8-4a87-a111-76cba7a6f3ea"
      },
      "execution_count": 33,
      "outputs": [
        {
          "output_type": "stream",
          "name": "stdout",
          "text": [
            "+---------+--------+------------------+-----------+--------------+----------+----------+-------------+------------------+---------------+---------------------+\n",
            "|longitude|latitude|housing_median_age|total_rooms|total_bedrooms|population|households|median_income|median_house_value|ocean_proximity|housing_median_status|\n",
            "+---------+--------+------------------+-----------+--------------+----------+----------+-------------+------------------+---------------+---------------------+\n",
            "|  -124.17|    41.8|              16.0|     2739.0|         480.0|    1259.0|     436.0|       3.7557|          109400.0|     NEAR OCEAN|               MEDIUM|\n",
            "|   -124.3|    41.8|              19.0|     2672.0|         552.0|    1298.0|     478.0|       1.9797|           85800.0|     NEAR OCEAN|               MEDIUM|\n",
            "|  -124.23|   41.75|              11.0|     3159.0|         616.0|    1343.0|     479.0|       2.4805|           73200.0|     NEAR OCEAN|               MEDIUM|\n",
            "|  -124.21|   41.77|              17.0|     3461.0|         722.0|    1947.0|     647.0|       2.5795|           68400.0|     NEAR OCEAN|               MEDIUM|\n",
            "|  -124.19|   41.78|              15.0|     3140.0|         714.0|    1645.0|     640.0|       1.6654|           74600.0|     NEAR OCEAN|               MEDIUM|\n",
            "|  -124.22|   41.73|              28.0|     3003.0|         699.0|    1530.0|     653.0|       1.7038|           78300.0|     NEAR OCEAN|                  LOW|\n",
            "|  -124.21|   41.75|              20.0|     3810.0|         787.0|    1993.0|     721.0|       2.0074|           66900.0|     NEAR OCEAN|               MEDIUM|\n",
            "|  -124.17|   41.76|              20.0|     2673.0|         538.0|    1282.0|     514.0|       2.4605|          105900.0|     NEAR OCEAN|               MEDIUM|\n",
            "|  -124.16|   41.74|              15.0|     2715.0|         569.0|    1532.0|     530.0|       2.1829|           69500.0|     NEAR OCEAN|               MEDIUM|\n",
            "|  -124.14|   41.95|              21.0|     2696.0|         578.0|    1208.0|     494.0|        2.275|          122400.0|     NEAR OCEAN|                  LOW|\n",
            "|  -124.16|   41.92|              19.0|     1668.0|         324.0|     841.0|     283.0|       2.1336|           75000.0|     NEAR OCEAN|               MEDIUM|\n",
            "|   -124.3|   41.84|              17.0|     2677.0|         531.0|    1244.0|     456.0|       3.0313|          103600.0|     NEAR OCEAN|               MEDIUM|\n",
            "|  -124.15|   41.81|              17.0|     3276.0|         628.0|    3546.0|     585.0|       2.2868|          103100.0|     NEAR OCEAN|               MEDIUM|\n",
            "|  -123.92|   41.54|              22.0|     2920.0|         636.0|    1382.0|     499.0|       2.0202|           71100.0|     NEAR OCEAN|                  LOW|\n",
            "|  -124.17|    40.8|              52.0|      661.0|         316.0|     392.0|     244.0|        0.957|           60000.0|     NEAR OCEAN|                  LOW|\n",
            "|  -124.16|    40.8|              52.0|     2416.0|         618.0|    1150.0|     571.0|       1.7308|           80500.0|     NEAR OCEAN|                  LOW|\n",
            "|  -124.16|   40.79|              52.0|     1264.0|         277.0|     591.0|     284.0|       1.7778|           76900.0|     NEAR OCEAN|                  LOW|\n",
            "|  -124.17|    40.8|              52.0|     1606.0|         419.0|     891.0|     367.0|        1.585|           75500.0|     NEAR OCEAN|                  LOW|\n",
            "|  -124.17|    40.8|              52.0|     1557.0|         344.0|     758.0|     319.0|       1.8529|           62500.0|     NEAR OCEAN|                  LOW|\n",
            "|  -124.16|   40.79|              52.0|     2148.0|         421.0|     975.0|     430.0|       2.2566|           92700.0|     NEAR OCEAN|                  LOW|\n",
            "+---------+--------+------------------+-----------+--------------+----------+----------+-------------+------------------+---------------+---------------------+\n",
            "only showing top 20 rows\n",
            "\n"
          ]
        }
      ]
    },
    {
      "cell_type": "code",
      "source": [
        "df1.toPandas()"
      ],
      "metadata": {
        "colab": {
          "base_uri": "https://localhost:8080/",
          "height": 488
        },
        "id": "Jw3Ec3oLW8p0",
        "outputId": "f409fc60-b1bb-4dbb-a0b4-2e0d2e468c2e"
      },
      "execution_count": 35,
      "outputs": [
        {
          "output_type": "execute_result",
          "data": {
            "text/plain": [
              "       longitude  latitude  housing_median_age  total_rooms  total_bedrooms  \\\n",
              "0        -122.23     37.88                41.0        880.0           129.0   \n",
              "1        -122.22     37.86                21.0       7099.0          1106.0   \n",
              "2        -122.24     37.85                52.0       1467.0           190.0   \n",
              "3        -122.25     37.85                52.0       1274.0           235.0   \n",
              "4        -122.25     37.85                52.0       1627.0           280.0   \n",
              "...          ...       ...                 ...          ...             ...   \n",
              "20428    -121.09     39.48                25.0       1665.0           374.0   \n",
              "20429    -121.21     39.49                18.0        697.0           150.0   \n",
              "20430    -121.22     39.43                17.0       2254.0           485.0   \n",
              "20431    -121.32     39.43                18.0       1860.0           409.0   \n",
              "20432    -121.24     39.37                16.0       2785.0           616.0   \n",
              "\n",
              "       population  households  median_income  median_house_value  \\\n",
              "0           322.0       126.0         8.3252            452600.0   \n",
              "1          2401.0      1138.0         8.3014            358500.0   \n",
              "2           496.0       177.0         7.2574            352100.0   \n",
              "3           558.0       219.0         5.6431            341300.0   \n",
              "4           565.0       259.0         3.8462            342200.0   \n",
              "...           ...         ...            ...                 ...   \n",
              "20428       845.0       330.0         1.5603             78100.0   \n",
              "20429       356.0       114.0         2.5568             77100.0   \n",
              "20430      1007.0       433.0         1.7000             92300.0   \n",
              "20431       741.0       349.0         1.8672             84700.0   \n",
              "20432      1387.0       530.0         2.3886             89400.0   \n",
              "\n",
              "      ocean_proximity housing_median_status  \n",
              "0            NEAR BAY                   LOW  \n",
              "1            NEAR BAY                   LOW  \n",
              "2            NEAR BAY                   LOW  \n",
              "3            NEAR BAY                   LOW  \n",
              "4            NEAR BAY                   LOW  \n",
              "...               ...                   ...  \n",
              "20428          INLAND                   LOW  \n",
              "20429          INLAND                MEDIUM  \n",
              "20430          INLAND                MEDIUM  \n",
              "20431          INLAND                MEDIUM  \n",
              "20432          INLAND                MEDIUM  \n",
              "\n",
              "[20433 rows x 11 columns]"
            ],
            "text/html": [
              "\n",
              "  <div id=\"df-aa9617d3-9d89-4fe0-8b4a-5fe4d0e0864e\">\n",
              "    <div class=\"colab-df-container\">\n",
              "      <div>\n",
              "<style scoped>\n",
              "    .dataframe tbody tr th:only-of-type {\n",
              "        vertical-align: middle;\n",
              "    }\n",
              "\n",
              "    .dataframe tbody tr th {\n",
              "        vertical-align: top;\n",
              "    }\n",
              "\n",
              "    .dataframe thead th {\n",
              "        text-align: right;\n",
              "    }\n",
              "</style>\n",
              "<table border=\"1\" class=\"dataframe\">\n",
              "  <thead>\n",
              "    <tr style=\"text-align: right;\">\n",
              "      <th></th>\n",
              "      <th>longitude</th>\n",
              "      <th>latitude</th>\n",
              "      <th>housing_median_age</th>\n",
              "      <th>total_rooms</th>\n",
              "      <th>total_bedrooms</th>\n",
              "      <th>population</th>\n",
              "      <th>households</th>\n",
              "      <th>median_income</th>\n",
              "      <th>median_house_value</th>\n",
              "      <th>ocean_proximity</th>\n",
              "      <th>housing_median_status</th>\n",
              "    </tr>\n",
              "  </thead>\n",
              "  <tbody>\n",
              "    <tr>\n",
              "      <th>0</th>\n",
              "      <td>-122.23</td>\n",
              "      <td>37.88</td>\n",
              "      <td>41.0</td>\n",
              "      <td>880.0</td>\n",
              "      <td>129.0</td>\n",
              "      <td>322.0</td>\n",
              "      <td>126.0</td>\n",
              "      <td>8.3252</td>\n",
              "      <td>452600.0</td>\n",
              "      <td>NEAR BAY</td>\n",
              "      <td>LOW</td>\n",
              "    </tr>\n",
              "    <tr>\n",
              "      <th>1</th>\n",
              "      <td>-122.22</td>\n",
              "      <td>37.86</td>\n",
              "      <td>21.0</td>\n",
              "      <td>7099.0</td>\n",
              "      <td>1106.0</td>\n",
              "      <td>2401.0</td>\n",
              "      <td>1138.0</td>\n",
              "      <td>8.3014</td>\n",
              "      <td>358500.0</td>\n",
              "      <td>NEAR BAY</td>\n",
              "      <td>LOW</td>\n",
              "    </tr>\n",
              "    <tr>\n",
              "      <th>2</th>\n",
              "      <td>-122.24</td>\n",
              "      <td>37.85</td>\n",
              "      <td>52.0</td>\n",
              "      <td>1467.0</td>\n",
              "      <td>190.0</td>\n",
              "      <td>496.0</td>\n",
              "      <td>177.0</td>\n",
              "      <td>7.2574</td>\n",
              "      <td>352100.0</td>\n",
              "      <td>NEAR BAY</td>\n",
              "      <td>LOW</td>\n",
              "    </tr>\n",
              "    <tr>\n",
              "      <th>3</th>\n",
              "      <td>-122.25</td>\n",
              "      <td>37.85</td>\n",
              "      <td>52.0</td>\n",
              "      <td>1274.0</td>\n",
              "      <td>235.0</td>\n",
              "      <td>558.0</td>\n",
              "      <td>219.0</td>\n",
              "      <td>5.6431</td>\n",
              "      <td>341300.0</td>\n",
              "      <td>NEAR BAY</td>\n",
              "      <td>LOW</td>\n",
              "    </tr>\n",
              "    <tr>\n",
              "      <th>4</th>\n",
              "      <td>-122.25</td>\n",
              "      <td>37.85</td>\n",
              "      <td>52.0</td>\n",
              "      <td>1627.0</td>\n",
              "      <td>280.0</td>\n",
              "      <td>565.0</td>\n",
              "      <td>259.0</td>\n",
              "      <td>3.8462</td>\n",
              "      <td>342200.0</td>\n",
              "      <td>NEAR BAY</td>\n",
              "      <td>LOW</td>\n",
              "    </tr>\n",
              "    <tr>\n",
              "      <th>...</th>\n",
              "      <td>...</td>\n",
              "      <td>...</td>\n",
              "      <td>...</td>\n",
              "      <td>...</td>\n",
              "      <td>...</td>\n",
              "      <td>...</td>\n",
              "      <td>...</td>\n",
              "      <td>...</td>\n",
              "      <td>...</td>\n",
              "      <td>...</td>\n",
              "      <td>...</td>\n",
              "    </tr>\n",
              "    <tr>\n",
              "      <th>20428</th>\n",
              "      <td>-121.09</td>\n",
              "      <td>39.48</td>\n",
              "      <td>25.0</td>\n",
              "      <td>1665.0</td>\n",
              "      <td>374.0</td>\n",
              "      <td>845.0</td>\n",
              "      <td>330.0</td>\n",
              "      <td>1.5603</td>\n",
              "      <td>78100.0</td>\n",
              "      <td>INLAND</td>\n",
              "      <td>LOW</td>\n",
              "    </tr>\n",
              "    <tr>\n",
              "      <th>20429</th>\n",
              "      <td>-121.21</td>\n",
              "      <td>39.49</td>\n",
              "      <td>18.0</td>\n",
              "      <td>697.0</td>\n",
              "      <td>150.0</td>\n",
              "      <td>356.0</td>\n",
              "      <td>114.0</td>\n",
              "      <td>2.5568</td>\n",
              "      <td>77100.0</td>\n",
              "      <td>INLAND</td>\n",
              "      <td>MEDIUM</td>\n",
              "    </tr>\n",
              "    <tr>\n",
              "      <th>20430</th>\n",
              "      <td>-121.22</td>\n",
              "      <td>39.43</td>\n",
              "      <td>17.0</td>\n",
              "      <td>2254.0</td>\n",
              "      <td>485.0</td>\n",
              "      <td>1007.0</td>\n",
              "      <td>433.0</td>\n",
              "      <td>1.7000</td>\n",
              "      <td>92300.0</td>\n",
              "      <td>INLAND</td>\n",
              "      <td>MEDIUM</td>\n",
              "    </tr>\n",
              "    <tr>\n",
              "      <th>20431</th>\n",
              "      <td>-121.32</td>\n",
              "      <td>39.43</td>\n",
              "      <td>18.0</td>\n",
              "      <td>1860.0</td>\n",
              "      <td>409.0</td>\n",
              "      <td>741.0</td>\n",
              "      <td>349.0</td>\n",
              "      <td>1.8672</td>\n",
              "      <td>84700.0</td>\n",
              "      <td>INLAND</td>\n",
              "      <td>MEDIUM</td>\n",
              "    </tr>\n",
              "    <tr>\n",
              "      <th>20432</th>\n",
              "      <td>-121.24</td>\n",
              "      <td>39.37</td>\n",
              "      <td>16.0</td>\n",
              "      <td>2785.0</td>\n",
              "      <td>616.0</td>\n",
              "      <td>1387.0</td>\n",
              "      <td>530.0</td>\n",
              "      <td>2.3886</td>\n",
              "      <td>89400.0</td>\n",
              "      <td>INLAND</td>\n",
              "      <td>MEDIUM</td>\n",
              "    </tr>\n",
              "  </tbody>\n",
              "</table>\n",
              "<p>20433 rows × 11 columns</p>\n",
              "</div>\n",
              "      <button class=\"colab-df-convert\" onclick=\"convertToInteractive('df-aa9617d3-9d89-4fe0-8b4a-5fe4d0e0864e')\"\n",
              "              title=\"Convert this dataframe to an interactive table.\"\n",
              "              style=\"display:none;\">\n",
              "        \n",
              "  <svg xmlns=\"http://www.w3.org/2000/svg\" height=\"24px\"viewBox=\"0 0 24 24\"\n",
              "       width=\"24px\">\n",
              "    <path d=\"M0 0h24v24H0V0z\" fill=\"none\"/>\n",
              "    <path d=\"M18.56 5.44l.94 2.06.94-2.06 2.06-.94-2.06-.94-.94-2.06-.94 2.06-2.06.94zm-11 1L8.5 8.5l.94-2.06 2.06-.94-2.06-.94L8.5 2.5l-.94 2.06-2.06.94zm10 10l.94 2.06.94-2.06 2.06-.94-2.06-.94-.94-2.06-.94 2.06-2.06.94z\"/><path d=\"M17.41 7.96l-1.37-1.37c-.4-.4-.92-.59-1.43-.59-.52 0-1.04.2-1.43.59L10.3 9.45l-7.72 7.72c-.78.78-.78 2.05 0 2.83L4 21.41c.39.39.9.59 1.41.59.51 0 1.02-.2 1.41-.59l7.78-7.78 2.81-2.81c.8-.78.8-2.07 0-2.86zM5.41 20L4 18.59l7.72-7.72 1.47 1.35L5.41 20z\"/>\n",
              "  </svg>\n",
              "      </button>\n",
              "      \n",
              "  <style>\n",
              "    .colab-df-container {\n",
              "      display:flex;\n",
              "      flex-wrap:wrap;\n",
              "      gap: 12px;\n",
              "    }\n",
              "\n",
              "    .colab-df-convert {\n",
              "      background-color: #E8F0FE;\n",
              "      border: none;\n",
              "      border-radius: 50%;\n",
              "      cursor: pointer;\n",
              "      display: none;\n",
              "      fill: #1967D2;\n",
              "      height: 32px;\n",
              "      padding: 0 0 0 0;\n",
              "      width: 32px;\n",
              "    }\n",
              "\n",
              "    .colab-df-convert:hover {\n",
              "      background-color: #E2EBFA;\n",
              "      box-shadow: 0px 1px 2px rgba(60, 64, 67, 0.3), 0px 1px 3px 1px rgba(60, 64, 67, 0.15);\n",
              "      fill: #174EA6;\n",
              "    }\n",
              "\n",
              "    [theme=dark] .colab-df-convert {\n",
              "      background-color: #3B4455;\n",
              "      fill: #D2E3FC;\n",
              "    }\n",
              "\n",
              "    [theme=dark] .colab-df-convert:hover {\n",
              "      background-color: #434B5C;\n",
              "      box-shadow: 0px 1px 3px 1px rgba(0, 0, 0, 0.15);\n",
              "      filter: drop-shadow(0px 1px 2px rgba(0, 0, 0, 0.3));\n",
              "      fill: #FFFFFF;\n",
              "    }\n",
              "  </style>\n",
              "\n",
              "      <script>\n",
              "        const buttonEl =\n",
              "          document.querySelector('#df-aa9617d3-9d89-4fe0-8b4a-5fe4d0e0864e button.colab-df-convert');\n",
              "        buttonEl.style.display =\n",
              "          google.colab.kernel.accessAllowed ? 'block' : 'none';\n",
              "\n",
              "        async function convertToInteractive(key) {\n",
              "          const element = document.querySelector('#df-aa9617d3-9d89-4fe0-8b4a-5fe4d0e0864e');\n",
              "          const dataTable =\n",
              "            await google.colab.kernel.invokeFunction('convertToInteractive',\n",
              "                                                     [key], {});\n",
              "          if (!dataTable) return;\n",
              "\n",
              "          const docLinkHtml = 'Like what you see? Visit the ' +\n",
              "            '<a target=\"_blank\" href=https://colab.research.google.com/notebooks/data_table.ipynb>data table notebook</a>'\n",
              "            + ' to learn more about interactive tables.';\n",
              "          element.innerHTML = '';\n",
              "          dataTable['output_type'] = 'display_data';\n",
              "          await google.colab.output.renderOutput(dataTable, element);\n",
              "          const docLink = document.createElement('div');\n",
              "          docLink.innerHTML = docLinkHtml;\n",
              "          element.appendChild(docLink);\n",
              "        }\n",
              "      </script>\n",
              "    </div>\n",
              "  </div>\n",
              "  "
            ]
          },
          "metadata": {},
          "execution_count": 35
        }
      ]
    },
    {
      "cell_type": "code",
      "source": [
        "df1.toPandas()['ocean_proximity'].value_counts()"
      ],
      "metadata": {
        "colab": {
          "base_uri": "https://localhost:8080/"
        },
        "id": "OjTbRvIjZE3d",
        "outputId": "4273ea53-dc99-49b2-ad46-a7db61621555"
      },
      "execution_count": 46,
      "outputs": [
        {
          "output_type": "execute_result",
          "data": {
            "text/plain": [
              "<1H OCEAN     9034\n",
              "INLAND        6496\n",
              "NEAR OCEAN    2628\n",
              "NEAR BAY      2270\n",
              "ISLAND           5\n",
              "Name: ocean_proximity, dtype: int64"
            ]
          },
          "metadata": {},
          "execution_count": 46
        }
      ]
    },
    {
      "cell_type": "code",
      "source": [
        "df1[df1['housing_median_status'] == 'LOW'].show()"
      ],
      "metadata": {
        "colab": {
          "base_uri": "https://localhost:8080/"
        },
        "id": "rETq-V19Ze6F",
        "outputId": "8815d6eb-94dd-4a39-b3a8-a95628aa9cd7"
      },
      "execution_count": 40,
      "outputs": [
        {
          "output_type": "stream",
          "name": "stdout",
          "text": [
            "+---------+--------+------------------+-----------+--------------+----------+----------+-------------+------------------+---------------+---------------------+\n",
            "|longitude|latitude|housing_median_age|total_rooms|total_bedrooms|population|households|median_income|median_house_value|ocean_proximity|housing_median_status|\n",
            "+---------+--------+------------------+-----------+--------------+----------+----------+-------------+------------------+---------------+---------------------+\n",
            "|  -122.23|   37.88|              41.0|      880.0|         129.0|     322.0|     126.0|       8.3252|          452600.0|       NEAR BAY|                  LOW|\n",
            "|  -122.22|   37.86|              21.0|     7099.0|        1106.0|    2401.0|    1138.0|       8.3014|          358500.0|       NEAR BAY|                  LOW|\n",
            "|  -122.24|   37.85|              52.0|     1467.0|         190.0|     496.0|     177.0|       7.2574|          352100.0|       NEAR BAY|                  LOW|\n",
            "|  -122.25|   37.85|              52.0|     1274.0|         235.0|     558.0|     219.0|       5.6431|          341300.0|       NEAR BAY|                  LOW|\n",
            "|  -122.25|   37.85|              52.0|     1627.0|         280.0|     565.0|     259.0|       3.8462|          342200.0|       NEAR BAY|                  LOW|\n",
            "|  -122.25|   37.85|              52.0|      919.0|         213.0|     413.0|     193.0|       4.0368|          269700.0|       NEAR BAY|                  LOW|\n",
            "|  -122.25|   37.84|              52.0|     2535.0|         489.0|    1094.0|     514.0|       3.6591|          299200.0|       NEAR BAY|                  LOW|\n",
            "|  -122.25|   37.84|              52.0|     3104.0|         687.0|    1157.0|     647.0|         3.12|          241400.0|       NEAR BAY|                  LOW|\n",
            "|  -122.26|   37.84|              42.0|     2555.0|         665.0|    1206.0|     595.0|       2.0804|          226700.0|       NEAR BAY|                  LOW|\n",
            "|  -122.25|   37.84|              52.0|     3549.0|         707.0|    1551.0|     714.0|       3.6912|          261100.0|       NEAR BAY|                  LOW|\n",
            "|  -122.26|   37.85|              52.0|     2202.0|         434.0|     910.0|     402.0|       3.2031|          281500.0|       NEAR BAY|                  LOW|\n",
            "|  -122.26|   37.85|              52.0|     3503.0|         752.0|    1504.0|     734.0|       3.2705|          241800.0|       NEAR BAY|                  LOW|\n",
            "|  -122.26|   37.85|              52.0|     2491.0|         474.0|    1098.0|     468.0|        3.075|          213500.0|       NEAR BAY|                  LOW|\n",
            "|  -122.26|   37.84|              52.0|      696.0|         191.0|     345.0|     174.0|       2.6736|          191300.0|       NEAR BAY|                  LOW|\n",
            "|  -122.26|   37.85|              52.0|     2643.0|         626.0|    1212.0|     620.0|       1.9167|          159200.0|       NEAR BAY|                  LOW|\n",
            "|  -122.26|   37.85|              50.0|     1120.0|         283.0|     697.0|     264.0|        2.125|          140000.0|       NEAR BAY|                  LOW|\n",
            "|  -122.27|   37.85|              52.0|     1966.0|         347.0|     793.0|     331.0|        2.775|          152500.0|       NEAR BAY|                  LOW|\n",
            "|  -122.27|   37.85|              52.0|     1228.0|         293.0|     648.0|     303.0|       2.1202|          155500.0|       NEAR BAY|                  LOW|\n",
            "|  -122.26|   37.84|              50.0|     2239.0|         455.0|     990.0|     419.0|       1.9911|          158700.0|       NEAR BAY|                  LOW|\n",
            "|  -122.27|   37.84|              52.0|     1503.0|         298.0|     690.0|     275.0|       2.6033|          162900.0|       NEAR BAY|                  LOW|\n",
            "+---------+--------+------------------+-----------+--------------+----------+----------+-------------+------------------+---------------+---------------------+\n",
            "only showing top 20 rows\n",
            "\n"
          ]
        }
      ]
    },
    {
      "cell_type": "code",
      "source": [
        "df1[df1['housing_median_status'] == 'GOOD'].show()"
      ],
      "metadata": {
        "colab": {
          "base_uri": "https://localhost:8080/"
        },
        "id": "CU8Az-hnaDQ5",
        "outputId": "cbfca113-8efa-44e7-e003-866baa4105a8"
      },
      "execution_count": 98,
      "outputs": [
        {
          "output_type": "stream",
          "name": "stdout",
          "text": [
            "+---------+--------+------------------+-----------+--------------+----------+----------+-------------+------------------+---------------+---------------------+\n",
            "|longitude|latitude|housing_median_age|total_rooms|total_bedrooms|population|households|median_income|median_house_value|ocean_proximity|housing_median_status|\n",
            "+---------+--------+------------------+-----------+--------------+----------+----------+-------------+------------------+---------------+---------------------+\n",
            "|  -122.27|   37.81|              10.0|      875.0|         348.0|     546.0|     330.0|         0.76|          162500.0|       NEAR BAY|                 GOOD|\n",
            "|  -122.27|    37.8|              10.0|      105.0|          42.0|     125.0|      39.0|       0.9722|          137500.0|       NEAR BAY|                 GOOD|\n",
            "|   -122.3|   37.87|              10.0|      503.0|         118.0|     228.0|     100.0|       2.1705|          150000.0|       NEAR BAY|                 GOOD|\n",
            "|  -122.16|   37.72|              10.0|     2229.0|         601.0|     877.0|     485.0|       3.3431|          137500.0|       NEAR BAY|                 GOOD|\n",
            "|  -122.12|   37.69|              10.0|     2227.0|         560.0|    1140.0|     472.0|       2.3973|          167300.0|       NEAR BAY|                 GOOD|\n",
            "|  -122.02|   37.63|               6.0|     2445.0|         590.0|    1189.0|     573.0|       3.8958|          301100.0|       NEAR BAY|                 GOOD|\n",
            "|  -122.04|   37.66|              10.0|     2031.0|         357.0|     867.0|     352.0|       5.3169|          299200.0|       NEAR BAY|                 GOOD|\n",
            "|  -122.04|   37.65|              10.0|     8299.0|        1326.0|    3827.0|    1288.0|       6.2579|          315500.0|       NEAR BAY|                 GOOD|\n",
            "|  -122.11|   37.64|               8.0|     3592.0|         849.0|    1907.0|     746.0|       3.6708|          197900.0|       NEAR BAY|                 GOOD|\n",
            "|  -121.99|   37.61|               9.0|     3666.0|         711.0|    2341.0|     703.0|       4.6458|          217000.0|      <1H OCEAN|                 GOOD|\n",
            "|  -122.08|   37.61|               6.0|     2605.0|         474.0|    1568.0|     433.0|       5.0406|          261400.0|       NEAR BAY|                 GOOD|\n",
            "|  -122.08|    37.6|              10.0|     3046.0|         678.0|    2056.0|     628.0|       3.9022|          191700.0|       NEAR BAY|                 GOOD|\n",
            "|   -122.0|   37.58|               6.0|     4405.0|         717.0|    2071.0|     688.0|       5.8151|          295600.0|      <1H OCEAN|                 GOOD|\n",
            "|  -122.07|   37.57|               8.0|     8647.0|        1407.0|    5019.0|    1379.0|       6.5615|          318300.0|       NEAR BAY|                 GOOD|\n",
            "|  -122.05|   37.57|               7.0|    10648.0|        1818.0|    6075.0|    1797.0|       6.1047|          278200.0|       NEAR BAY|                 GOOD|\n",
            "|  -122.01|   37.56|               6.0|     3028.0|         778.0|    1531.0|     736.0|       4.4259|          158000.0|       NEAR BAY|                 GOOD|\n",
            "|  -121.92|   37.53|               7.0|    28258.0|        3864.0|   12203.0|    3701.0|       8.4045|          451100.0|      <1H OCEAN|                 GOOD|\n",
            "|  -121.89|   37.49|               9.0|     4909.0|         577.0|    1981.0|     591.0|       9.7194|          500001.0|      <1H OCEAN|                 GOOD|\n",
            "|  -121.92|   37.49|              10.0|     7441.0|        1588.0|    3571.0|    1466.0|       5.1643|          193100.0|      <1H OCEAN|                 GOOD|\n",
            "|  -122.03|   37.54|               6.0|     2918.0|         672.0|    1911.0|     639.0|       4.1406|          178200.0|       NEAR BAY|                 GOOD|\n",
            "+---------+--------+------------------+-----------+--------------+----------+----------+-------------+------------------+---------------+---------------------+\n",
            "only showing top 20 rows\n",
            "\n"
          ]
        }
      ]
    },
    {
      "cell_type": "code",
      "source": [
        "df1[df1['total_rooms'] <  500].show()"
      ],
      "metadata": {
        "colab": {
          "base_uri": "https://localhost:8080/"
        },
        "id": "9s7Nwyh9aF4e",
        "outputId": "321f36d9-d609-48d8-99ca-b0ac9012a6cf"
      },
      "execution_count": 47,
      "outputs": [
        {
          "output_type": "stream",
          "name": "stdout",
          "text": [
            "+---------+--------+------------------+-----------+--------------+----------+----------+-------------+------------------+---------------+---------------------+\n",
            "|longitude|latitude|housing_median_age|total_rooms|total_bedrooms|population|households|median_income|median_house_value|ocean_proximity|housing_median_status|\n",
            "+---------+--------+------------------+-----------+--------------+----------+----------+-------------+------------------+---------------+---------------------+\n",
            "|  -122.29|   37.82|               2.0|      158.0|          43.0|      94.0|      57.0|       2.5625|           60000.0|       NEAR BAY|            VERY GOOD|\n",
            "|  -122.29|   37.82|              49.0|      135.0|          29.0|      86.0|      23.0|       6.1183|           75000.0|       NEAR BAY|                  LOW|\n",
            "|  -122.29|   37.81|              46.0|       12.0|           4.0|      18.0|       7.0|       0.4999|           67500.0|       NEAR BAY|                  LOW|\n",
            "|  -122.27|   37.81|              52.0|      210.0|          56.0|     183.0|      56.0|       1.1667|          112500.0|       NEAR BAY|                  LOW|\n",
            "|  -122.28|   37.81|              52.0|      340.0|          97.0|     200.0|      87.0|       1.5208|          112500.0|       NEAR BAY|                  LOW|\n",
            "|  -122.28|   37.81|              52.0|      386.0|         164.0|     346.0|     155.0|       0.8075|          137500.0|       NEAR BAY|                  LOW|\n",
            "|  -122.27|    37.8|              10.0|      105.0|          42.0|     125.0|      39.0|       0.9722|          137500.0|       NEAR BAY|                 GOOD|\n",
            "|  -122.27|    37.8|              52.0|      249.0|          78.0|     396.0|      85.0|       1.2434|          500001.0|       NEAR BAY|                  LOW|\n",
            "|  -122.28|    37.8|              52.0|      215.0|          87.0|     904.0|      88.0|       0.8668|          137500.0|       NEAR BAY|                  LOW|\n",
            "|  -122.28|    37.8|              52.0|       96.0|          31.0|     191.0|      34.0|         0.75|          162500.0|       NEAR BAY|                  LOW|\n",
            "|  -122.26|   37.81|              29.0|      335.0|         107.0|     202.0|      91.0|       2.0062|          125000.0|       NEAR BAY|                  LOW|\n",
            "|  -122.24|   37.85|              37.0|      334.0|          54.0|      98.0|      47.0|       4.9643|          335000.0|       NEAR BAY|                  LOW|\n",
            "|  -122.18|   37.81|              30.0|      292.0|          38.0|     126.0|      52.0|       6.3624|          483300.0|       NEAR BAY|                  LOW|\n",
            "|  -122.25|   37.79|              51.0|      175.0|          43.0|     228.0|      55.0|          2.1|           75000.0|       NEAR BAY|                  LOW|\n",
            "|  -122.25|   37.79|              39.0|      461.0|         129.0|     381.0|     123.0|          1.6|          112500.0|       NEAR BAY|                  LOW|\n",
            "|  -122.22|   37.77|              52.0|      391.0|         128.0|     520.0|     138.0|       1.6471|           95000.0|       NEAR BAY|                  LOW|\n",
            "|  -122.23|   37.78|              52.0|      472.0|         146.0|     415.0|     126.0|       2.6429|           71300.0|       NEAR BAY|                  LOW|\n",
            "|  -122.22|   37.77|              40.0|      494.0|         114.0|     547.0|     135.0|       2.8015|          114800.0|       NEAR BAY|                  LOW|\n",
            "|  -122.18|   37.78|              33.0|      142.0|          31.0|     575.0|      47.0|        3.875|          225000.0|       NEAR BAY|                  LOW|\n",
            "|  -122.17|   37.74|              47.0|      463.0|         134.0|     327.0|     137.0|         2.15|           97200.0|       NEAR BAY|                  LOW|\n",
            "+---------+--------+------------------+-----------+--------------+----------+----------+-------------+------------------+---------------+---------------------+\n",
            "only showing top 20 rows\n",
            "\n"
          ]
        }
      ]
    },
    {
      "cell_type": "code",
      "source": [
        "df1[df1['total_rooms'] <  1000].show()"
      ],
      "metadata": {
        "colab": {
          "base_uri": "https://localhost:8080/"
        },
        "id": "SsSNU38QajJA",
        "outputId": "0ddda446-9320-4d1b-b3ec-11d19444dded"
      },
      "execution_count": 99,
      "outputs": [
        {
          "output_type": "stream",
          "name": "stdout",
          "text": [
            "+---------+--------+------------------+-----------+--------------+----------+----------+-------------+------------------+---------------+---------------------+\n",
            "|longitude|latitude|housing_median_age|total_rooms|total_bedrooms|population|households|median_income|median_house_value|ocean_proximity|housing_median_status|\n",
            "+---------+--------+------------------+-----------+--------------+----------+----------+-------------+------------------+---------------+---------------------+\n",
            "|  -122.23|   37.88|              41.0|      880.0|         129.0|     322.0|     126.0|       8.3252|          452600.0|       NEAR BAY|                  LOW|\n",
            "|  -122.25|   37.85|              52.0|      919.0|         213.0|     413.0|     193.0|       4.0368|          269700.0|       NEAR BAY|                  LOW|\n",
            "|  -122.26|   37.84|              52.0|      696.0|         191.0|     345.0|     174.0|       2.6736|          191300.0|       NEAR BAY|                  LOW|\n",
            "|  -122.27|   37.85|              40.0|      751.0|         184.0|     409.0|     166.0|       1.3578|          147500.0|       NEAR BAY|                  LOW|\n",
            "|  -122.28|   37.85|              41.0|      535.0|         123.0|     317.0|     119.0|       2.4038|          107500.0|       NEAR BAY|                  LOW|\n",
            "|  -122.28|   37.84|              52.0|      729.0|         160.0|     395.0|     155.0|       1.6875|          132000.0|       NEAR BAY|                  LOW|\n",
            "|  -122.26|   37.83|              51.0|      936.0|         311.0|     517.0|     249.0|       1.2852|          150000.0|       NEAR BAY|                  LOW|\n",
            "|  -122.26|   37.84|              49.0|      713.0|         202.0|     462.0|     189.0|        1.025|          118800.0|       NEAR BAY|                  LOW|\n",
            "|  -122.26|   37.84|              52.0|      950.0|         202.0|     467.0|     198.0|       3.9643|          188800.0|       NEAR BAY|                  LOW|\n",
            "|  -122.26|   37.82|              40.0|      624.0|         195.0|     423.0|     160.0|       0.9506|          187500.0|       NEAR BAY|                  LOW|\n",
            "|  -122.27|   37.82|              40.0|      946.0|         375.0|     700.0|     352.0|        1.775|          112500.0|       NEAR BAY|                  LOW|\n",
            "|  -122.27|   37.82|              21.0|      896.0|         453.0|     735.0|     438.0|       0.9218|          171900.0|       NEAR BAY|                  LOW|\n",
            "|  -122.28|   37.82|              52.0|      945.0|         243.0|     576.0|     220.0|       1.4113|           83100.0|       NEAR BAY|                  LOW|\n",
            "|  -122.29|   37.82|               2.0|      158.0|          43.0|      94.0|      57.0|       2.5625|           60000.0|       NEAR BAY|            VERY GOOD|\n",
            "|  -122.29|   37.82|              49.0|      135.0|          29.0|      86.0|      23.0|       6.1183|           75000.0|       NEAR BAY|                  LOW|\n",
            "|  -122.29|   37.81|              50.0|      760.0|         190.0|     377.0|     122.0|       0.9011|           86100.0|       NEAR BAY|                  LOW|\n",
            "|   -122.3|   37.81|              48.0|      828.0|         182.0|     392.0|     133.0|       2.5938|           73500.0|       NEAR BAY|                  LOW|\n",
            "|   -122.3|   37.81|              52.0|      572.0|         109.0|     274.0|      82.0|       1.8516|           85000.0|       NEAR BAY|                  LOW|\n",
            "|  -122.29|   37.81|              26.0|      768.0|         152.0|     392.0|     127.0|       1.7719|           82500.0|       NEAR BAY|                  LOW|\n",
            "|  -122.29|   37.81|              46.0|      935.0|         297.0|     582.0|     277.0|       0.7286|           95200.0|       NEAR BAY|                  LOW|\n",
            "+---------+--------+------------------+-----------+--------------+----------+----------+-------------+------------------+---------------+---------------------+\n",
            "only showing top 20 rows\n",
            "\n"
          ]
        }
      ]
    },
    {
      "cell_type": "code",
      "source": [
        "df1[df1['median_income'] > 8.2].show()"
      ],
      "metadata": {
        "colab": {
          "base_uri": "https://localhost:8080/"
        },
        "id": "Zh3LaLwxal9x",
        "outputId": "2eb9e749-f07a-4eb5-884e-5a0392ecad16"
      },
      "execution_count": 100,
      "outputs": [
        {
          "output_type": "stream",
          "name": "stdout",
          "text": [
            "+---------+--------+------------------+-----------+--------------+----------+----------+-------------+------------------+---------------+---------------------+\n",
            "|longitude|latitude|housing_median_age|total_rooms|total_bedrooms|population|households|median_income|median_house_value|ocean_proximity|housing_median_status|\n",
            "+---------+--------+------------------+-----------+--------------+----------+----------+-------------+------------------+---------------+---------------------+\n",
            "|  -122.23|   37.88|              41.0|      880.0|         129.0|     322.0|     126.0|       8.3252|          452600.0|       NEAR BAY|                  LOW|\n",
            "|  -122.22|   37.86|              21.0|     7099.0|        1106.0|    2401.0|    1138.0|       8.3014|          358500.0|       NEAR BAY|                  LOW|\n",
            "|  -122.19|   37.84|              18.0|     1617.0|         210.0|     533.0|     194.0|      11.6017|          392600.0|       NEAR BAY|               MEDIUM|\n",
            "|  -122.19|   37.83|              28.0|     1326.0|         184.0|     463.0|     190.0|       8.2049|          335200.0|       NEAR BAY|                  LOW|\n",
            "|   -122.2|   37.83|              26.0|     1589.0|         223.0|     542.0|     211.0|        8.401|          351200.0|       NEAR BAY|                  LOW|\n",
            "|  -122.19|   37.82|              32.0|     1835.0|         264.0|     635.0|     263.0|        8.317|          365900.0|       NEAR BAY|                  LOW|\n",
            "|  -122.23|   37.81|              52.0|     2315.0|         292.0|     861.0|     258.0|       8.8793|          410300.0|       NEAR BAY|                  LOW|\n",
            "|  -122.27|   37.89|              52.0|     3046.0|         373.0|     975.0|     365.0|       8.8342|          430500.0|       NEAR BAY|                  LOW|\n",
            "|  -122.28|    37.9|              52.0|     2003.0|         250.0|     658.0|     244.0|      10.0825|          397000.0|       NEAR BAY|                  LOW|\n",
            "|  -122.24|   37.85|              52.0|     3726.0|         474.0|    1366.0|     496.0|       9.3959|          500001.0|       NEAR BAY|                  LOW|\n",
            "|  -122.22|   37.82|              39.0|     2492.0|         310.0|     808.0|     315.0|      11.8603|          500001.0|       NEAR BAY|                  LOW|\n",
            "|  -122.22|   37.82|              42.0|     2991.0|         335.0|    1018.0|     335.0|       13.499|          500001.0|       NEAR BAY|                  LOW|\n",
            "|  -122.23|   37.82|              52.0|     3242.0|         366.0|    1001.0|     352.0|      12.2138|          500001.0|       NEAR BAY|                  LOW|\n",
            "|  -122.23|   37.82|              52.0|     3494.0|         396.0|    1192.0|     383.0|      12.3804|          500001.0|       NEAR BAY|                  LOW|\n",
            "|  -122.23|   37.82|              52.0|     1611.0|         203.0|     556.0|     179.0|       8.7477|          500001.0|       NEAR BAY|                  LOW|\n",
            "|  -121.94|   37.56|              15.0|     5674.0|         748.0|    2412.0|     714.0|       8.3996|          442900.0|      <1H OCEAN|               MEDIUM|\n",
            "|  -121.92|   37.53|               7.0|    28258.0|        3864.0|   12203.0|    3701.0|       8.4045|          451100.0|      <1H OCEAN|                 GOOD|\n",
            "|  -121.89|   37.49|               9.0|     4909.0|         577.0|    1981.0|     591.0|       9.7194|          500001.0|      <1H OCEAN|                 GOOD|\n",
            "|  -121.93|   37.66|              24.0|     3166.0|         424.0|    1081.0|     400.0|       8.3337|          500001.0|      <1H OCEAN|                  LOW|\n",
            "|  -121.88|   37.64|              20.0|     1309.0|         184.0|     514.0|     172.0|      10.9506|          475800.0|         INLAND|               MEDIUM|\n",
            "+---------+--------+------------------+-----------+--------------+----------+----------+-------------+------------------+---------------+---------------------+\n",
            "only showing top 20 rows\n",
            "\n"
          ]
        }
      ]
    },
    {
      "cell_type": "code",
      "source": [
        "df1[df1['longitude'] < -123.4].show()"
      ],
      "metadata": {
        "colab": {
          "base_uri": "https://localhost:8080/"
        },
        "id": "QZyRg022aw7w",
        "outputId": "8fe4e3fa-8813-4f1c-c93d-a6e5d37d45ed"
      },
      "execution_count": 53,
      "outputs": [
        {
          "output_type": "stream",
          "name": "stdout",
          "text": [
            "+---------+--------+------------------+-----------+--------------+----------+----------+-------------+------------------+---------------+---------------------+\n",
            "|longitude|latitude|housing_median_age|total_rooms|total_bedrooms|population|households|median_income|median_house_value|ocean_proximity|housing_median_status|\n",
            "+---------+--------+------------------+-----------+--------------+----------+----------+-------------+------------------+---------------+---------------------+\n",
            "|  -124.17|    41.8|              16.0|     2739.0|         480.0|    1259.0|     436.0|       3.7557|          109400.0|     NEAR OCEAN|               MEDIUM|\n",
            "|   -124.3|    41.8|              19.0|     2672.0|         552.0|    1298.0|     478.0|       1.9797|           85800.0|     NEAR OCEAN|               MEDIUM|\n",
            "|  -124.23|   41.75|              11.0|     3159.0|         616.0|    1343.0|     479.0|       2.4805|           73200.0|     NEAR OCEAN|               MEDIUM|\n",
            "|  -124.21|   41.77|              17.0|     3461.0|         722.0|    1947.0|     647.0|       2.5795|           68400.0|     NEAR OCEAN|               MEDIUM|\n",
            "|  -124.19|   41.78|              15.0|     3140.0|         714.0|    1645.0|     640.0|       1.6654|           74600.0|     NEAR OCEAN|               MEDIUM|\n",
            "|  -124.22|   41.73|              28.0|     3003.0|         699.0|    1530.0|     653.0|       1.7038|           78300.0|     NEAR OCEAN|                  LOW|\n",
            "|  -124.21|   41.75|              20.0|     3810.0|         787.0|    1993.0|     721.0|       2.0074|           66900.0|     NEAR OCEAN|               MEDIUM|\n",
            "|  -124.17|   41.76|              20.0|     2673.0|         538.0|    1282.0|     514.0|       2.4605|          105900.0|     NEAR OCEAN|               MEDIUM|\n",
            "|  -124.16|   41.74|              15.0|     2715.0|         569.0|    1532.0|     530.0|       2.1829|           69500.0|     NEAR OCEAN|               MEDIUM|\n",
            "|  -124.14|   41.95|              21.0|     2696.0|         578.0|    1208.0|     494.0|        2.275|          122400.0|     NEAR OCEAN|                  LOW|\n",
            "|  -124.16|   41.92|              19.0|     1668.0|         324.0|     841.0|     283.0|       2.1336|           75000.0|     NEAR OCEAN|               MEDIUM|\n",
            "|   -124.3|   41.84|              17.0|     2677.0|         531.0|    1244.0|     456.0|       3.0313|          103600.0|     NEAR OCEAN|               MEDIUM|\n",
            "|  -124.15|   41.81|              17.0|     3276.0|         628.0|    3546.0|     585.0|       2.2868|          103100.0|     NEAR OCEAN|               MEDIUM|\n",
            "|  -123.91|   41.68|              22.0|     1880.0|         360.0|     743.0|     314.0|       2.9688|          152700.0|      <1H OCEAN|                  LOW|\n",
            "|  -123.83|   41.88|              18.0|     1504.0|         357.0|     660.0|     258.0|         3.13|          116700.0|      <1H OCEAN|               MEDIUM|\n",
            "|  -123.92|   41.54|              22.0|     2920.0|         636.0|    1382.0|     499.0|       2.0202|           71100.0|     NEAR OCEAN|                  LOW|\n",
            "|  -124.17|    40.8|              52.0|      661.0|         316.0|     392.0|     244.0|        0.957|           60000.0|     NEAR OCEAN|                  LOW|\n",
            "|  -124.16|    40.8|              52.0|     2416.0|         618.0|    1150.0|     571.0|       1.7308|           80500.0|     NEAR OCEAN|                  LOW|\n",
            "|  -124.16|   40.79|              52.0|     1264.0|         277.0|     591.0|     284.0|       1.7778|           76900.0|     NEAR OCEAN|                  LOW|\n",
            "|  -124.17|    40.8|              52.0|     1606.0|         419.0|     891.0|     367.0|        1.585|           75500.0|     NEAR OCEAN|                  LOW|\n",
            "+---------+--------+------------------+-----------+--------------+----------+----------+-------------+------------------+---------------+---------------------+\n",
            "only showing top 20 rows\n",
            "\n"
          ]
        }
      ]
    },
    {
      "cell_type": "code",
      "source": [
        "df1[df1['median_income'] > 8.1].show()"
      ],
      "metadata": {
        "colab": {
          "base_uri": "https://localhost:8080/"
        },
        "id": "DC2tJTDba8kq",
        "outputId": "04a6f388-bde4-4a69-d829-bf0bcbf37885"
      },
      "execution_count": 55,
      "outputs": [
        {
          "output_type": "stream",
          "name": "stdout",
          "text": [
            "+---------+--------+------------------+-----------+--------------+----------+----------+-------------+------------------+---------------+---------------------+\n",
            "|longitude|latitude|housing_median_age|total_rooms|total_bedrooms|population|households|median_income|median_house_value|ocean_proximity|housing_median_status|\n",
            "+---------+--------+------------------+-----------+--------------+----------+----------+-------------+------------------+---------------+---------------------+\n",
            "|  -122.23|   37.88|              41.0|      880.0|         129.0|     322.0|     126.0|       8.3252|          452600.0|       NEAR BAY|                  LOW|\n",
            "|  -122.22|   37.86|              21.0|     7099.0|        1106.0|    2401.0|    1138.0|       8.3014|          358500.0|       NEAR BAY|                  LOW|\n",
            "|  -122.19|   37.84|              18.0|     1617.0|         210.0|     533.0|     194.0|      11.6017|          392600.0|       NEAR BAY|               MEDIUM|\n",
            "|  -122.19|   37.83|              28.0|     1326.0|         184.0|     463.0|     190.0|       8.2049|          335200.0|       NEAR BAY|                  LOW|\n",
            "|   -122.2|   37.83|              26.0|     1589.0|         223.0|     542.0|     211.0|        8.401|          351200.0|       NEAR BAY|                  LOW|\n",
            "|  -122.19|   37.82|              32.0|     1835.0|         264.0|     635.0|     263.0|        8.317|          365900.0|       NEAR BAY|                  LOW|\n",
            "|  -122.22|   37.81|              52.0|     2927.0|         402.0|    1021.0|     380.0|       8.1564|          390100.0|       NEAR BAY|                  LOW|\n",
            "|  -122.23|   37.81|              52.0|     2315.0|         292.0|     861.0|     258.0|       8.8793|          410300.0|       NEAR BAY|                  LOW|\n",
            "|  -122.27|   37.89|              52.0|     3046.0|         373.0|     975.0|     365.0|       8.8342|          430500.0|       NEAR BAY|                  LOW|\n",
            "|  -122.28|    37.9|              52.0|     2003.0|         250.0|     658.0|     244.0|      10.0825|          397000.0|       NEAR BAY|                  LOW|\n",
            "|  -122.24|   37.85|              52.0|     3726.0|         474.0|    1366.0|     496.0|       9.3959|          500001.0|       NEAR BAY|                  LOW|\n",
            "|  -122.22|   37.82|              39.0|     2492.0|         310.0|     808.0|     315.0|      11.8603|          500001.0|       NEAR BAY|                  LOW|\n",
            "|  -122.22|   37.82|              42.0|     2991.0|         335.0|    1018.0|     335.0|       13.499|          500001.0|       NEAR BAY|                  LOW|\n",
            "|  -122.23|   37.82|              52.0|     3242.0|         366.0|    1001.0|     352.0|      12.2138|          500001.0|       NEAR BAY|                  LOW|\n",
            "|  -122.23|   37.82|              52.0|     3051.0|         381.0|    1005.0|     369.0|       8.1872|          466100.0|       NEAR BAY|                  LOW|\n",
            "|  -122.23|   37.82|              52.0|     3494.0|         396.0|    1192.0|     383.0|      12.3804|          500001.0|       NEAR BAY|                  LOW|\n",
            "|  -122.24|   37.83|              52.0|     2449.0|         312.0|     916.0|     316.0|       8.1194|          471600.0|       NEAR BAY|                  LOW|\n",
            "|  -122.23|   37.82|              52.0|     1611.0|         203.0|     556.0|     179.0|       8.7477|          500001.0|       NEAR BAY|                  LOW|\n",
            "|  -121.94|   37.56|              15.0|     5674.0|         748.0|    2412.0|     714.0|       8.3996|          442900.0|      <1H OCEAN|               MEDIUM|\n",
            "|  -121.92|   37.53|               7.0|    28258.0|        3864.0|   12203.0|    3701.0|       8.4045|          451100.0|      <1H OCEAN|                 GOOD|\n",
            "+---------+--------+------------------+-----------+--------------+----------+----------+-------------+------------------+---------------+---------------------+\n",
            "only showing top 20 rows\n",
            "\n"
          ]
        }
      ]
    },
    {
      "cell_type": "code",
      "source": [
        "df1[(df1['median_income'] > 8.1) & (df1['ocean_proximity'] == 'NEAR BAY')].show()"
      ],
      "metadata": {
        "colab": {
          "base_uri": "https://localhost:8080/"
        },
        "id": "a1AzwiyNbdQA",
        "outputId": "26b3d316-af32-4d24-87be-5d605c00fac6"
      },
      "execution_count": 83,
      "outputs": [
        {
          "output_type": "stream",
          "name": "stdout",
          "text": [
            "+---------+--------+------------------+-----------+--------------+----------+----------+-------------+------------------+---------------+---------------------+\n",
            "|longitude|latitude|housing_median_age|total_rooms|total_bedrooms|population|households|median_income|median_house_value|ocean_proximity|housing_median_status|\n",
            "+---------+--------+------------------+-----------+--------------+----------+----------+-------------+------------------+---------------+---------------------+\n",
            "|  -122.23|   37.88|              41.0|      880.0|         129.0|     322.0|     126.0|       8.3252|          452600.0|       NEAR BAY|                  LOW|\n",
            "|  -122.22|   37.86|              21.0|     7099.0|        1106.0|    2401.0|    1138.0|       8.3014|          358500.0|       NEAR BAY|                  LOW|\n",
            "|  -122.19|   37.84|              18.0|     1617.0|         210.0|     533.0|     194.0|      11.6017|          392600.0|       NEAR BAY|               MEDIUM|\n",
            "|  -122.19|   37.83|              28.0|     1326.0|         184.0|     463.0|     190.0|       8.2049|          335200.0|       NEAR BAY|                  LOW|\n",
            "|   -122.2|   37.83|              26.0|     1589.0|         223.0|     542.0|     211.0|        8.401|          351200.0|       NEAR BAY|                  LOW|\n",
            "|  -122.19|   37.82|              32.0|     1835.0|         264.0|     635.0|     263.0|        8.317|          365900.0|       NEAR BAY|                  LOW|\n",
            "|  -122.22|   37.81|              52.0|     2927.0|         402.0|    1021.0|     380.0|       8.1564|          390100.0|       NEAR BAY|                  LOW|\n",
            "|  -122.23|   37.81|              52.0|     2315.0|         292.0|     861.0|     258.0|       8.8793|          410300.0|       NEAR BAY|                  LOW|\n",
            "|  -122.27|   37.89|              52.0|     3046.0|         373.0|     975.0|     365.0|       8.8342|          430500.0|       NEAR BAY|                  LOW|\n",
            "|  -122.28|    37.9|              52.0|     2003.0|         250.0|     658.0|     244.0|      10.0825|          397000.0|       NEAR BAY|                  LOW|\n",
            "|  -122.24|   37.85|              52.0|     3726.0|         474.0|    1366.0|     496.0|       9.3959|          500001.0|       NEAR BAY|                  LOW|\n",
            "|  -122.22|   37.82|              39.0|     2492.0|         310.0|     808.0|     315.0|      11.8603|          500001.0|       NEAR BAY|                  LOW|\n",
            "|  -122.22|   37.82|              42.0|     2991.0|         335.0|    1018.0|     335.0|       13.499|          500001.0|       NEAR BAY|                  LOW|\n",
            "|  -122.23|   37.82|              52.0|     3242.0|         366.0|    1001.0|     352.0|      12.2138|          500001.0|       NEAR BAY|                  LOW|\n",
            "|  -122.23|   37.82|              52.0|     3051.0|         381.0|    1005.0|     369.0|       8.1872|          466100.0|       NEAR BAY|                  LOW|\n",
            "|  -122.23|   37.82|              52.0|     3494.0|         396.0|    1192.0|     383.0|      12.3804|          500001.0|       NEAR BAY|                  LOW|\n",
            "|  -122.24|   37.83|              52.0|     2449.0|         312.0|     916.0|     316.0|       8.1194|          471600.0|       NEAR BAY|                  LOW|\n",
            "|  -122.23|   37.82|              52.0|     1611.0|         203.0|     556.0|     179.0|       8.7477|          500001.0|       NEAR BAY|                  LOW|\n",
            "|  -122.04|   37.85|              27.0|     6039.0|         780.0|    2181.0|     761.0|       9.5862|          469400.0|       NEAR BAY|                  LOW|\n",
            "|  -122.03|   37.83|              24.0|     5948.0|         738.0|    1997.0|     710.0|       9.8708|          500001.0|       NEAR BAY|                  LOW|\n",
            "+---------+--------+------------------+-----------+--------------+----------+----------+-------------+------------------+---------------+---------------------+\n",
            "only showing top 20 rows\n",
            "\n"
          ]
        }
      ]
    },
    {
      "cell_type": "code",
      "source": [
        "df1[(df1['population']>2000) & (df1['housing_median_status'] == 'MEDIUM')].show()"
      ],
      "metadata": {
        "colab": {
          "base_uri": "https://localhost:8080/"
        },
        "id": "AUF8bMVecLSG",
        "outputId": "dc72c13b-7f54-4656-a42b-28176a788e19"
      },
      "execution_count": 81,
      "outputs": [
        {
          "output_type": "stream",
          "name": "stdout",
          "text": [
            "+---------+--------+------------------+-----------+--------------+----------+----------+-------------+------------------+---------------+---------------------+\n",
            "|longitude|latitude|housing_median_age|total_rooms|total_bedrooms|population|households|median_income|median_house_value|ocean_proximity|housing_median_status|\n",
            "+---------+--------+------------------+-----------+--------------+----------+----------+-------------+------------------+---------------+---------------------+\n",
            "|   -122.3|    37.9|              15.0|     5083.0|        1212.0|    2420.0|    1146.0|       4.5824|          256100.0|       NEAR BAY|               MEDIUM|\n",
            "|   -122.3|   37.84|              14.0|     7355.0|        2408.0|    3100.0|    2051.0|       4.0018|          143800.0|       NEAR BAY|               MEDIUM|\n",
            "|  -122.06|   37.77|              12.0|    14316.0|        2045.0|    5781.0|    2007.0|       7.2634|          341600.0|       NEAR BAY|               MEDIUM|\n",
            "|  -122.15|   37.71|              18.0|     5778.0|        1526.0|    2441.0|    1352.0|       3.1682|          202700.0|       NEAR BAY|               MEDIUM|\n",
            "|  -122.14|   37.71|              18.0|     3905.0|        1007.0|    2197.0|    1044.0|       3.6932|          166800.0|       NEAR BAY|               MEDIUM|\n",
            "|  -122.08|   37.65|              17.0|     5018.0|        1439.0|    3069.0|    1299.0|       2.7694|          161900.0|       NEAR BAY|               MEDIUM|\n",
            "|   -122.1|   37.63|              18.0|     9963.0|        2031.0|    5613.0|    1946.0|       3.8171|          187200.0|       NEAR BAY|               MEDIUM|\n",
            "|  -122.11|   37.65|              18.0|     4335.0|         808.0|    2041.0|     734.0|       3.4861|          331600.0|       NEAR BAY|               MEDIUM|\n",
            "|  -122.06|   37.63|              12.0|     6711.0|        1374.0|    3388.0|    1289.0|       3.8625|          208900.0|       NEAR BAY|               MEDIUM|\n",
            "|  -122.06|    37.6|              17.0|     5159.0|         832.0|    3174.0|     817.0|       5.8704|          234400.0|       NEAR BAY|               MEDIUM|\n",
            "|  -122.08|   37.58|              16.0|     3349.0|         544.0|    2003.0|     488.0|       6.0074|          236500.0|       NEAR BAY|               MEDIUM|\n",
            "|  -122.07|   37.59|              15.0|     3475.0|         686.0|    2568.0|     653.0|       4.6211|          151400.0|       NEAR BAY|               MEDIUM|\n",
            "|  -122.05|   37.59|              15.0|     6243.0|        1273.0|    3163.0|    1274.0|       3.7462|          212500.0|       NEAR BAY|               MEDIUM|\n",
            "|  -122.03|   37.59|              16.0|     4371.0|         889.0|    2530.0|     817.0|       4.6786|          256000.0|       NEAR BAY|               MEDIUM|\n",
            "|  -122.02|   37.58|              15.0|     3052.0|         760.0|    2097.0|     728.0|       3.3617|          178100.0|       NEAR BAY|               MEDIUM|\n",
            "|  -122.01|   37.58|              17.0|     4313.0|         717.0|    2629.0|     721.0|       5.7579|          231800.0|       NEAR BAY|               MEDIUM|\n",
            "|  -121.98|   37.58|              20.0|     4126.0|        1031.0|    2079.0|     975.0|       3.6832|          216900.0|      <1H OCEAN|               MEDIUM|\n",
            "|  -122.01|   37.57|              14.0|    16199.0|        2993.0|    8117.0|    2847.0|       5.8322|          281800.0|       NEAR BAY|               MEDIUM|\n",
            "|  -122.04|   37.58|              14.0|    14917.0|        2708.0|    8012.0|    2606.0|       5.6277|          269800.0|       NEAR BAY|               MEDIUM|\n",
            "|  -122.04|   37.57|              12.0|     5719.0|        1064.0|    3436.0|    1057.0|       5.2879|          231200.0|       NEAR BAY|               MEDIUM|\n",
            "+---------+--------+------------------+-----------+--------------+----------+----------+-------------+------------------+---------------+---------------------+\n",
            "only showing top 20 rows\n",
            "\n"
          ]
        }
      ]
    },
    {
      "cell_type": "code",
      "source": [
        "df1[df1['population'] >2000].show()"
      ],
      "metadata": {
        "colab": {
          "base_uri": "https://localhost:8080/"
        },
        "id": "KCFd49Yid-NU",
        "outputId": "1611349e-96a0-48fb-ec78-81db30a73d8f"
      },
      "execution_count": 75,
      "outputs": [
        {
          "output_type": "stream",
          "name": "stdout",
          "text": [
            "+---------+--------+------------------+-----------+--------------+----------+----------+-------------+------------------+---------------+---------------------+\n",
            "|longitude|latitude|housing_median_age|total_rooms|total_bedrooms|population|households|median_income|median_house_value|ocean_proximity|housing_median_status|\n",
            "+---------+--------+------------------+-----------+--------------+----------+----------+-------------+------------------+---------------+---------------------+\n",
            "|  -122.22|   37.86|              21.0|     7099.0|        1106.0|    2401.0|    1138.0|       8.3014|          358500.0|       NEAR BAY|                  LOW|\n",
            "|  -122.26|    37.8|              36.0|     5329.0|        2477.0|    3469.0|    2323.0|       2.0096|          130000.0|       NEAR BAY|                  LOW|\n",
            "|  -122.26|   37.82|              31.0|     4596.0|        1331.0|    2048.0|    1180.0|       2.8345|          183800.0|       NEAR BAY|                  LOW|\n",
            "|  -122.26|   37.82|              22.0|     3682.0|        1270.0|    2024.0|    1250.0|       1.2185|          170000.0|       NEAR BAY|                  LOW|\n",
            "|  -122.25|   37.81|              29.0|     4656.0|        1414.0|    2304.0|    1250.0|       2.4912|          257800.0|       NEAR BAY|                  LOW|\n",
            "|  -122.25|   37.81|              28.0|     5806.0|        1603.0|    2563.0|    1497.0|       3.2177|          273400.0|       NEAR BAY|                  LOW|\n",
            "|  -122.26|   37.81|              34.0|     5871.0|        1914.0|    2689.0|    1789.0|       2.8406|          335700.0|       NEAR BAY|                  LOW|\n",
            "|  -122.25|   37.83|              28.0|     5022.0|        1750.0|    2558.0|    1661.0|       2.4234|          218500.0|       NEAR BAY|                  LOW|\n",
            "|  -122.22|   37.85|              28.0|     5287.0|        1048.0|    2031.0|     956.0|        5.457|          337300.0|       NEAR BAY|                  LOW|\n",
            "|  -122.23|   37.79|              43.0|     5963.0|        1344.0|    4367.0|    1231.0|       2.1917|          112800.0|       NEAR BAY|                  LOW|\n",
            "|  -122.23|   37.78|              44.0|     2340.0|         825.0|    2813.0|     751.0|       1.6009|          118100.0|       NEAR BAY|                  LOW|\n",
            "|  -122.22|   37.79|              52.0|     3424.0|         690.0|    2273.0|     685.0|       3.9048|          164700.0|       NEAR BAY|                  LOW|\n",
            "|  -122.22|   37.79|              38.0|     3049.0|         711.0|    2167.0|     659.0|       2.7969|          141700.0|       NEAR BAY|                  LOW|\n",
            "|  -122.22|   37.78|              44.0|     2968.0|         710.0|    2269.0|     610.0|       2.3906|          111700.0|       NEAR BAY|                  LOW|\n",
            "|  -122.16|   37.79|              22.0|    12842.0|        2048.0|    4985.0|    1967.0|       5.9849|          371000.0|       NEAR BAY|                  LOW|\n",
            "|  -122.18|   37.73|              42.0|     4074.0|         874.0|    2736.0|     780.0|        2.455|           82400.0|       NEAR BAY|                  LOW|\n",
            "|   -122.3|    37.9|              15.0|     5083.0|        1212.0|    2420.0|    1146.0|       4.5824|          256100.0|       NEAR BAY|               MEDIUM|\n",
            "|  -122.34|   37.88|              37.0|     3061.0|         930.0|    2556.0|     924.0|       1.7375|          350000.0|       NEAR BAY|                  LOW|\n",
            "|  -122.25|   37.87|              42.0|     1756.0|         465.0|    2184.0|     422.0|       2.5562|          371400.0|       NEAR BAY|                  LOW|\n",
            "|  -122.25|   37.87|              52.0|     1204.0|         460.0|    2016.0|     477.0|        0.949|          350000.0|       NEAR BAY|                  LOW|\n",
            "+---------+--------+------------------+-----------+--------------+----------+----------+-------------+------------------+---------------+---------------------+\n",
            "only showing top 20 rows\n",
            "\n"
          ]
        }
      ]
    },
    {
      "cell_type": "code",
      "source": [
        "df1[(df1['ocean_proximity'] == 'NEAR BAY') | (df1['ocean_proximity'] =='NEAR OCEAN')].show()"
      ],
      "metadata": {
        "colab": {
          "base_uri": "https://localhost:8080/"
        },
        "id": "S7Y4zLahekW_",
        "outputId": "1afab427-eb6c-438a-d278-a923067f8ce8"
      },
      "execution_count": 80,
      "outputs": [
        {
          "output_type": "stream",
          "name": "stdout",
          "text": [
            "+---------+--------+------------------+-----------+--------------+----------+----------+-------------+------------------+---------------+---------------------+\n",
            "|longitude|latitude|housing_median_age|total_rooms|total_bedrooms|population|households|median_income|median_house_value|ocean_proximity|housing_median_status|\n",
            "+---------+--------+------------------+-----------+--------------+----------+----------+-------------+------------------+---------------+---------------------+\n",
            "|  -122.23|   37.88|              41.0|      880.0|         129.0|     322.0|     126.0|       8.3252|          452600.0|       NEAR BAY|                  LOW|\n",
            "|  -122.22|   37.86|              21.0|     7099.0|        1106.0|    2401.0|    1138.0|       8.3014|          358500.0|       NEAR BAY|                  LOW|\n",
            "|  -122.24|   37.85|              52.0|     1467.0|         190.0|     496.0|     177.0|       7.2574|          352100.0|       NEAR BAY|                  LOW|\n",
            "|  -122.25|   37.85|              52.0|     1274.0|         235.0|     558.0|     219.0|       5.6431|          341300.0|       NEAR BAY|                  LOW|\n",
            "|  -122.25|   37.85|              52.0|     1627.0|         280.0|     565.0|     259.0|       3.8462|          342200.0|       NEAR BAY|                  LOW|\n",
            "|  -122.25|   37.85|              52.0|      919.0|         213.0|     413.0|     193.0|       4.0368|          269700.0|       NEAR BAY|                  LOW|\n",
            "|  -122.25|   37.84|              52.0|     2535.0|         489.0|    1094.0|     514.0|       3.6591|          299200.0|       NEAR BAY|                  LOW|\n",
            "|  -122.25|   37.84|              52.0|     3104.0|         687.0|    1157.0|     647.0|         3.12|          241400.0|       NEAR BAY|                  LOW|\n",
            "|  -122.26|   37.84|              42.0|     2555.0|         665.0|    1206.0|     595.0|       2.0804|          226700.0|       NEAR BAY|                  LOW|\n",
            "|  -122.25|   37.84|              52.0|     3549.0|         707.0|    1551.0|     714.0|       3.6912|          261100.0|       NEAR BAY|                  LOW|\n",
            "|  -122.26|   37.85|              52.0|     2202.0|         434.0|     910.0|     402.0|       3.2031|          281500.0|       NEAR BAY|                  LOW|\n",
            "|  -122.26|   37.85|              52.0|     3503.0|         752.0|    1504.0|     734.0|       3.2705|          241800.0|       NEAR BAY|                  LOW|\n",
            "|  -122.26|   37.85|              52.0|     2491.0|         474.0|    1098.0|     468.0|        3.075|          213500.0|       NEAR BAY|                  LOW|\n",
            "|  -122.26|   37.84|              52.0|      696.0|         191.0|     345.0|     174.0|       2.6736|          191300.0|       NEAR BAY|                  LOW|\n",
            "|  -122.26|   37.85|              52.0|     2643.0|         626.0|    1212.0|     620.0|       1.9167|          159200.0|       NEAR BAY|                  LOW|\n",
            "|  -122.26|   37.85|              50.0|     1120.0|         283.0|     697.0|     264.0|        2.125|          140000.0|       NEAR BAY|                  LOW|\n",
            "|  -122.27|   37.85|              52.0|     1966.0|         347.0|     793.0|     331.0|        2.775|          152500.0|       NEAR BAY|                  LOW|\n",
            "|  -122.27|   37.85|              52.0|     1228.0|         293.0|     648.0|     303.0|       2.1202|          155500.0|       NEAR BAY|                  LOW|\n",
            "|  -122.26|   37.84|              50.0|     2239.0|         455.0|     990.0|     419.0|       1.9911|          158700.0|       NEAR BAY|                  LOW|\n",
            "|  -122.27|   37.84|              52.0|     1503.0|         298.0|     690.0|     275.0|       2.6033|          162900.0|       NEAR BAY|                  LOW|\n",
            "+---------+--------+------------------+-----------+--------------+----------+----------+-------------+------------------+---------------+---------------------+\n",
            "only showing top 20 rows\n",
            "\n"
          ]
        }
      ]
    },
    {
      "cell_type": "code",
      "source": [],
      "metadata": {
        "id": "pXR37ZZqDy6f"
      },
      "execution_count": null,
      "outputs": []
    },
    {
      "cell_type": "code",
      "source": [
        "df1.agg({'total_rooms': 'mean'}).show()"
      ],
      "metadata": {
        "colab": {
          "base_uri": "https://localhost:8080/"
        },
        "id": "Bqinu70VfXoD",
        "outputId": "2b3cb825-d911-41d9-f5d0-d6e8a5b04d5a"
      },
      "execution_count": 85,
      "outputs": [
        {
          "output_type": "stream",
          "name": "stdout",
          "text": [
            "+------------------+\n",
            "|  avg(total_rooms)|\n",
            "+------------------+\n",
            "|2636.5042333480155|\n",
            "+------------------+\n",
            "\n"
          ]
        }
      ]
    },
    {
      "cell_type": "code",
      "source": [
        "df1.agg({'households': 'max'}).show()"
      ],
      "metadata": {
        "colab": {
          "base_uri": "https://localhost:8080/"
        },
        "id": "jCbdexnMgdOb",
        "outputId": "64292814-f4d6-463c-9f25-6cb440c4b8d2"
      },
      "execution_count": 88,
      "outputs": [
        {
          "output_type": "stream",
          "name": "stdout",
          "text": [
            "+---------------+\n",
            "|max(households)|\n",
            "+---------------+\n",
            "|         6082.0|\n",
            "+---------------+\n",
            "\n"
          ]
        }
      ]
    },
    {
      "cell_type": "code",
      "source": [
        "df1.agg({'housing_median_age':'min'}).show()"
      ],
      "metadata": {
        "colab": {
          "base_uri": "https://localhost:8080/"
        },
        "id": "aFIrFkRdgq05",
        "outputId": "e76aafaa-1157-439b-9536-e94bfae27aa9"
      },
      "execution_count": 90,
      "outputs": [
        {
          "output_type": "stream",
          "name": "stdout",
          "text": [
            "+-----------------------+\n",
            "|min(housing_median_age)|\n",
            "+-----------------------+\n",
            "|                    1.0|\n",
            "+-----------------------+\n",
            "\n"
          ]
        }
      ]
    },
    {
      "cell_type": "code",
      "source": [
        "df1.agg({'longitude':'max'}).show()"
      ],
      "metadata": {
        "colab": {
          "base_uri": "https://localhost:8080/"
        },
        "id": "otjxNHgGilEU",
        "outputId": "364c2730-5073-46e0-831a-98d119e1c961"
      },
      "execution_count": 92,
      "outputs": [
        {
          "output_type": "stream",
          "name": "stdout",
          "text": [
            "+--------------+\n",
            "|max(longitude)|\n",
            "+--------------+\n",
            "|       -114.31|\n",
            "+--------------+\n",
            "\n"
          ]
        }
      ]
    },
    {
      "cell_type": "code",
      "source": [
        "df1.agg({'longitude':'min', 'latitude':'max'}).show()"
      ],
      "metadata": {
        "colab": {
          "base_uri": "https://localhost:8080/"
        },
        "id": "w1F_bdaeizHI",
        "outputId": "e6827a00-66ce-4ed6-9cd1-1f8dd9221fe5"
      },
      "execution_count": 96,
      "outputs": [
        {
          "output_type": "stream",
          "name": "stdout",
          "text": [
            "+-------------+--------------+\n",
            "|max(latitude)|min(longitude)|\n",
            "+-------------+--------------+\n",
            "|        41.95|       -124.35|\n",
            "+-------------+--------------+\n",
            "\n"
          ]
        }
      ]
    },
    {
      "cell_type": "code",
      "source": [
        "df1.agg({'longitude':'min', 'latitude':'min'}).show()"
      ],
      "metadata": {
        "colab": {
          "base_uri": "https://localhost:8080/"
        },
        "id": "kdS9M3HpkLBC",
        "outputId": "384e3410-9b44-4a10-9f86-19b57508f871"
      },
      "execution_count": 102,
      "outputs": [
        {
          "output_type": "stream",
          "name": "stdout",
          "text": [
            "+-------------+--------------+\n",
            "|min(latitude)|min(longitude)|\n",
            "+-------------+--------------+\n",
            "|        32.54|       -124.35|\n",
            "+-------------+--------------+\n",
            "\n"
          ]
        }
      ]
    },
    {
      "cell_type": "code",
      "source": [
        "df1.select('total_rooms','total_bedrooms','population').show()"
      ],
      "metadata": {
        "colab": {
          "base_uri": "https://localhost:8080/"
        },
        "id": "nZ21dMtCCoZT",
        "outputId": "393538fa-1d00-469d-d18d-50c93bdb516a"
      },
      "execution_count": 104,
      "outputs": [
        {
          "output_type": "stream",
          "name": "stdout",
          "text": [
            "+-----------+--------------+----------+\n",
            "|total_rooms|total_bedrooms|population|\n",
            "+-----------+--------------+----------+\n",
            "|      880.0|         129.0|     322.0|\n",
            "|     7099.0|        1106.0|    2401.0|\n",
            "|     1467.0|         190.0|     496.0|\n",
            "|     1274.0|         235.0|     558.0|\n",
            "|     1627.0|         280.0|     565.0|\n",
            "|      919.0|         213.0|     413.0|\n",
            "|     2535.0|         489.0|    1094.0|\n",
            "|     3104.0|         687.0|    1157.0|\n",
            "|     2555.0|         665.0|    1206.0|\n",
            "|     3549.0|         707.0|    1551.0|\n",
            "|     2202.0|         434.0|     910.0|\n",
            "|     3503.0|         752.0|    1504.0|\n",
            "|     2491.0|         474.0|    1098.0|\n",
            "|      696.0|         191.0|     345.0|\n",
            "|     2643.0|         626.0|    1212.0|\n",
            "|     1120.0|         283.0|     697.0|\n",
            "|     1966.0|         347.0|     793.0|\n",
            "|     1228.0|         293.0|     648.0|\n",
            "|     2239.0|         455.0|     990.0|\n",
            "|     1503.0|         298.0|     690.0|\n",
            "+-----------+--------------+----------+\n",
            "only showing top 20 rows\n",
            "\n"
          ]
        }
      ]
    },
    {
      "cell_type": "code",
      "source": [
        "df1[(df1['ocean_proximity'] == 'NEAR BAY') | (df1['ocean_proximity'] =='NEAR OCEAN')].select('total_rooms','total_bedrooms','population','ocean_proximity').show()"
      ],
      "metadata": {
        "colab": {
          "base_uri": "https://localhost:8080/"
        },
        "id": "dpmZnsb8D3LW",
        "outputId": "5b1efd3e-33d5-4266-f6db-73ad75dbed82"
      },
      "execution_count": 106,
      "outputs": [
        {
          "output_type": "stream",
          "name": "stdout",
          "text": [
            "+-----------+--------------+----------+---------------+\n",
            "|total_rooms|total_bedrooms|population|ocean_proximity|\n",
            "+-----------+--------------+----------+---------------+\n",
            "|      880.0|         129.0|     322.0|       NEAR BAY|\n",
            "|     7099.0|        1106.0|    2401.0|       NEAR BAY|\n",
            "|     1467.0|         190.0|     496.0|       NEAR BAY|\n",
            "|     1274.0|         235.0|     558.0|       NEAR BAY|\n",
            "|     1627.0|         280.0|     565.0|       NEAR BAY|\n",
            "|      919.0|         213.0|     413.0|       NEAR BAY|\n",
            "|     2535.0|         489.0|    1094.0|       NEAR BAY|\n",
            "|     3104.0|         687.0|    1157.0|       NEAR BAY|\n",
            "|     2555.0|         665.0|    1206.0|       NEAR BAY|\n",
            "|     3549.0|         707.0|    1551.0|       NEAR BAY|\n",
            "|     2202.0|         434.0|     910.0|       NEAR BAY|\n",
            "|     3503.0|         752.0|    1504.0|       NEAR BAY|\n",
            "|     2491.0|         474.0|    1098.0|       NEAR BAY|\n",
            "|      696.0|         191.0|     345.0|       NEAR BAY|\n",
            "|     2643.0|         626.0|    1212.0|       NEAR BAY|\n",
            "|     1120.0|         283.0|     697.0|       NEAR BAY|\n",
            "|     1966.0|         347.0|     793.0|       NEAR BAY|\n",
            "|     1228.0|         293.0|     648.0|       NEAR BAY|\n",
            "|     2239.0|         455.0|     990.0|       NEAR BAY|\n",
            "|     1503.0|         298.0|     690.0|       NEAR BAY|\n",
            "+-----------+--------------+----------+---------------+\n",
            "only showing top 20 rows\n",
            "\n"
          ]
        }
      ]
    },
    {
      "cell_type": "code",
      "source": [
        "df1[(df1['ocean_proximity'] == 'NEAR BAY') | (df1['ocean_proximity'] =='NEAR OCEAN')].agg({'housing_median_age':'min'}).show()"
      ],
      "metadata": {
        "colab": {
          "base_uri": "https://localhost:8080/"
        },
        "id": "Q9pJFmwOEPic",
        "outputId": "e05372e5-c84c-4451-8afe-6e7232ee81a4"
      },
      "execution_count": 107,
      "outputs": [
        {
          "output_type": "stream",
          "name": "stdout",
          "text": [
            "+-----------------------+\n",
            "|min(housing_median_age)|\n",
            "+-----------------------+\n",
            "|                    2.0|\n",
            "+-----------------------+\n",
            "\n"
          ]
        }
      ]
    },
    {
      "cell_type": "code",
      "source": [
        "df1[df1['ocean_proximity'] == 'NEAR BAY'].agg({'total_rooms':'mean'}).show()"
      ],
      "metadata": {
        "colab": {
          "base_uri": "https://localhost:8080/"
        },
        "id": "TC44lX5pEe0K",
        "outputId": "5e1d7d3e-3839-464d-d01d-1c7a8781ebe0"
      },
      "execution_count": 114,
      "outputs": [
        {
          "output_type": "stream",
          "name": "stdout",
          "text": [
            "+------------------+\n",
            "|  avg(total_rooms)|\n",
            "+------------------+\n",
            "|2490.3352422907487|\n",
            "+------------------+\n",
            "\n"
          ]
        }
      ]
    },
    {
      "cell_type": "code",
      "source": [
        "df1[df1['housing_median_status'] =='LOW'].agg({'total_bedrooms':'mean','total_rooms':'max','population':'min'}).show()"
      ],
      "metadata": {
        "colab": {
          "base_uri": "https://localhost:8080/"
        },
        "id": "WR2Ui8ErF4v8",
        "outputId": "de49f1ad-da32-4ad8-bc59-329deea2321a"
      },
      "execution_count": 115,
      "outputs": [
        {
          "output_type": "stream",
          "name": "stdout",
          "text": [
            "+----------------+-------------------+---------------+\n",
            "|max(total_rooms)|avg(total_bedrooms)|min(population)|\n",
            "+----------------+-------------------+---------------+\n",
            "|         18132.0| 464.67155032753396|            5.0|\n",
            "+----------------+-------------------+---------------+\n",
            "\n"
          ]
        }
      ]
    },
    {
      "cell_type": "code",
      "source": [
        "df1[df1['housing_median_status'] =='LOW'].agg({'total_bedrooms':'min','total_rooms':'mean','population':'max'}).show()"
      ],
      "metadata": {
        "colab": {
          "base_uri": "https://localhost:8080/"
        },
        "id": "3YiJwA3oGomd",
        "outputId": "aed6de7c-6da6-482d-ae69-7236067e7367"
      },
      "execution_count": 120,
      "outputs": [
        {
          "output_type": "stream",
          "name": "stdout",
          "text": [
            "+------------------+-------------------+---------------+\n",
            "|  avg(total_rooms)|min(total_bedrooms)|max(population)|\n",
            "+------------------+-------------------+---------------+\n",
            "|2202.7895329999296|                1.0|        12427.0|\n",
            "+------------------+-------------------+---------------+\n",
            "\n"
          ]
        }
      ]
    },
    {
      "cell_type": "code",
      "source": [
        "df1.summary().show()"
      ],
      "metadata": {
        "colab": {
          "base_uri": "https://localhost:8080/"
        },
        "id": "OLAIEkMwHRp_",
        "outputId": "dca225e6-cfe3-4a2d-d9b8-af2f568494ac"
      },
      "execution_count": 124,
      "outputs": [
        {
          "output_type": "stream",
          "name": "stdout",
          "text": [
            "+-------+-------------------+------------------+------------------+------------------+------------------+------------------+------------------+------------------+------------------+---------------+---------------------+\n",
            "|summary|          longitude|          latitude|housing_median_age|       total_rooms|    total_bedrooms|        population|        households|     median_income|median_house_value|ocean_proximity|housing_median_status|\n",
            "+-------+-------------------+------------------+------------------+------------------+------------------+------------------+------------------+------------------+------------------+---------------+---------------------+\n",
            "|  count|              20433|             20433|             20433|             20433|             20433|             20433|             20433|             20433|             20433|          20433|                20433|\n",
            "|   mean|-119.57068859198068| 35.63322125972706|28.633093525179856|2636.5042333480155| 537.8705525375618|1424.9469485635982|499.43346547251997|3.8711616013312273|206864.41315519012|           null|                 null|\n",
            "| stddev|  2.003577890751096|2.1363476663779872|12.591805202182835| 2185.269566977601|421.38507007403115|1133.2084897449597| 382.2992258828481| 1.899291249306247|115435.66709858322|           null|                 null|\n",
            "|    min|            -124.35|             32.54|               1.0|               2.0|               1.0|               3.0|               1.0|            0.4999|           14999.0|      <1H OCEAN|                 GOOD|\n",
            "|    25%|             -121.8|             33.93|              18.0|            1450.0|             296.0|             787.0|             280.0|            2.5637|          119500.0|           null|                 null|\n",
            "|    50%|             -118.5|             34.26|              29.0|            2126.0|             435.0|            1166.0|             409.0|            3.5363|          179700.0|           null|                 null|\n",
            "|    75%|            -118.01|             37.72|              37.0|            3142.0|             647.0|            1722.0|             604.0|            4.7437|          264700.0|           null|                 null|\n",
            "|    max|            -114.31|             41.95|              52.0|           39320.0|            6445.0|           35682.0|            6082.0|           15.0001|          500001.0|     NEAR OCEAN|            VERY GOOD|\n",
            "+-------+-------------------+------------------+------------------+------------------+------------------+------------------+------------------+------------------+------------------+---------------+---------------------+\n",
            "\n"
          ]
        }
      ]
    },
    {
      "cell_type": "code",
      "source": [
        "df1.toPandas()['ocean_proximity'].value_counts()"
      ],
      "metadata": {
        "colab": {
          "base_uri": "https://localhost:8080/"
        },
        "id": "sRNwkSjwIAHu",
        "outputId": "d9239108-6a31-42ad-c2de-c415b5ef118f"
      },
      "execution_count": 126,
      "outputs": [
        {
          "output_type": "execute_result",
          "data": {
            "text/plain": [
              "<1H OCEAN     9034\n",
              "INLAND        6496\n",
              "NEAR OCEAN    2628\n",
              "NEAR BAY      2270\n",
              "ISLAND           5\n",
              "Name: ocean_proximity, dtype: int64"
            ]
          },
          "metadata": {},
          "execution_count": 126
        }
      ]
    },
    {
      "cell_type": "code",
      "source": [
        "df1.select('longitude').summary().show()"
      ],
      "metadata": {
        "colab": {
          "base_uri": "https://localhost:8080/"
        },
        "id": "U5dSHaBgIYn8",
        "outputId": "0b169800-1493-4fc4-ceea-fafb7dcc41b9"
      },
      "execution_count": 128,
      "outputs": [
        {
          "output_type": "stream",
          "name": "stdout",
          "text": [
            "+-------+-------------------+\n",
            "|summary|          longitude|\n",
            "+-------+-------------------+\n",
            "|  count|              20433|\n",
            "|   mean|-119.57068859198068|\n",
            "| stddev|  2.003577890751096|\n",
            "|    min|            -124.35|\n",
            "|    25%|             -121.8|\n",
            "|    50%|             -118.5|\n",
            "|    75%|            -118.01|\n",
            "|    max|            -114.31|\n",
            "+-------+-------------------+\n",
            "\n"
          ]
        }
      ]
    },
    {
      "cell_type": "code",
      "source": [
        "df1.summary().select('summary','longitude').show()"
      ],
      "metadata": {
        "colab": {
          "base_uri": "https://localhost:8080/"
        },
        "id": "CKcfmHDqIvdI",
        "outputId": "caa7e553-dceb-44fb-ba75-b468c521c9d4"
      },
      "execution_count": 130,
      "outputs": [
        {
          "output_type": "stream",
          "name": "stdout",
          "text": [
            "+-------+-------------------+\n",
            "|summary|          longitude|\n",
            "+-------+-------------------+\n",
            "|  count|              20433|\n",
            "|   mean|-119.57068859198068|\n",
            "| stddev|  2.003577890751096|\n",
            "|    min|            -124.35|\n",
            "|    25%|             -121.8|\n",
            "|    50%|             -118.5|\n",
            "|    75%|            -118.01|\n",
            "|    max|            -114.31|\n",
            "+-------+-------------------+\n",
            "\n"
          ]
        }
      ]
    },
    {
      "cell_type": "code",
      "source": [
        "df1.summary().select('summary','latitude').show()"
      ],
      "metadata": {
        "colab": {
          "base_uri": "https://localhost:8080/"
        },
        "id": "M3exAdj9JTLm",
        "outputId": "df9237bb-6149-44ab-a3d8-26e3f72ac0b4"
      },
      "execution_count": 133,
      "outputs": [
        {
          "output_type": "stream",
          "name": "stdout",
          "text": [
            "+-------+------------------+\n",
            "|summary|          latitude|\n",
            "+-------+------------------+\n",
            "|  count|             20433|\n",
            "|   mean| 35.63322125972706|\n",
            "| stddev|2.1363476663779872|\n",
            "|    min|             32.54|\n",
            "|    25%|             33.93|\n",
            "|    50%|             34.26|\n",
            "|    75%|             37.72|\n",
            "|    max|             41.95|\n",
            "+-------+------------------+\n",
            "\n"
          ]
        }
      ]
    },
    {
      "cell_type": "code",
      "source": [
        " df1[df1['housing_median_status'] =='LOW'].summary().show()"
      ],
      "metadata": {
        "colab": {
          "base_uri": "https://localhost:8080/"
        },
        "id": "DI1KtO0nJljp",
        "outputId": "300f9a38-56ac-4ec7-d216-8f0dd0e72621"
      },
      "execution_count": 135,
      "outputs": [
        {
          "output_type": "stream",
          "name": "stdout",
          "text": [
            "+-------+-------------------+------------------+------------------+------------------+------------------+------------------+------------------+------------------+------------------+---------------+---------------------+\n",
            "|summary|          longitude|          latitude|housing_median_age|       total_rooms|    total_bedrooms|        population|        households|     median_income|median_house_value|ocean_proximity|housing_median_status|\n",
            "+-------+-------------------+------------------+------------------+------------------+------------------+------------------+------------------+------------------+------------------+---------------+---------------------+\n",
            "|  count|              14197|             14197|             14197|             14197|             14197|             14197|             14197|             14197|             14197|          14197|                14197|\n",
            "|   mean|-119.61577516376387| 35.56066211171382| 35.14312883003451|2202.7895329999296|464.67155032753396|1258.4166373177432|438.07269141367897|3.7519537437486825|212851.86314010003|           null|                 null|\n",
            "| stddev|  1.972425311261201|2.0646962955626273| 8.908717930073083|1366.6444891933459| 298.2002856433735|  798.752608914219| 275.6482100157251|1.8890178363874752|120335.92133261815|           null|                 null|\n",
            "|    min|            -124.35|             32.56|              21.0|               8.0|               1.0|               5.0|               1.0|            0.4999|           14999.0|      <1H OCEAN|                  LOW|\n",
            "|    25%|             -121.9|             33.96|              28.0|            1353.0|             281.0|             760.0|             269.0|            2.4833|          120800.0|           null|                 null|\n",
            "|    50%|            -118.44|             34.19|              34.0|            1942.0|             401.0|            1091.0|             381.0|            3.4009|          185000.0|           null|                 null|\n",
            "|    75%|            -118.11|             37.69|              41.0|            2729.0|             572.0|            1551.0|             539.0|            4.5655|          272300.0|           null|                 null|\n",
            "|    max|            -114.57|             41.95|              52.0|           18132.0|            5419.0|           12427.0|            4930.0|           15.0001|          500001.0|     NEAR OCEAN|                  LOW|\n",
            "+-------+-------------------+------------------+------------------+------------------+------------------+------------------+------------------+------------------+------------------+---------------+---------------------+\n",
            "\n"
          ]
        }
      ]
    },
    {
      "cell_type": "code",
      "source": [
        "df1[df1['housing_median_status'] =='LOW'].select('population','total_rooms', 'median_income').summary().show()"
      ],
      "metadata": {
        "colab": {
          "base_uri": "https://localhost:8080/"
        },
        "id": "G34tr-lNKurd",
        "outputId": "da0cd8a1-778b-4a71-aea4-6a6b86b72445"
      },
      "execution_count": 137,
      "outputs": [
        {
          "output_type": "stream",
          "name": "stdout",
          "text": [
            "+-------+------------------+------------------+------------------+\n",
            "|summary|        population|       total_rooms|     median_income|\n",
            "+-------+------------------+------------------+------------------+\n",
            "|  count|             14197|             14197|             14197|\n",
            "|   mean|1258.4166373177432|2202.7895329999296|3.7519537437486825|\n",
            "| stddev|  798.752608914219|1366.6444891933459|1.8890178363874752|\n",
            "|    min|               5.0|               8.0|            0.4999|\n",
            "|    25%|             760.0|            1353.0|            2.4833|\n",
            "|    50%|            1091.0|            1942.0|            3.4009|\n",
            "|    75%|            1551.0|            2729.0|            4.5655|\n",
            "|    max|           12427.0|           18132.0|           15.0001|\n",
            "+-------+------------------+------------------+------------------+\n",
            "\n"
          ]
        }
      ]
    },
    {
      "cell_type": "code",
      "source": [
        "df1[df1['total_bedrooms'] > 1000].select('population','total_rooms', 'median_income').summary().show()"
      ],
      "metadata": {
        "colab": {
          "base_uri": "https://localhost:8080/"
        },
        "id": "0Us2wv3NLW66",
        "outputId": "1ee613ae-e723-4997-e56c-8fa95d7ff131"
      },
      "execution_count": 142,
      "outputs": [
        {
          "output_type": "stream",
          "name": "stdout",
          "text": [
            "+-------+------------------+-----------------+------------------+\n",
            "|summary|        population|      total_rooms|     median_income|\n",
            "+-------+------------------+-----------------+------------------+\n",
            "|  count|              1880|             1880|              1880|\n",
            "|   mean|3686.3606382978724|7313.393085106383| 3.907836968085095|\n",
            "| stddev|2062.0825096174126|3932.801633560444|1.6551772317118123|\n",
            "|    min|             265.0|           1714.0|            0.6775|\n",
            "|    25%|            2534.0|           4949.0|            2.7386|\n",
            "|    50%|            3221.0|           6296.0|            3.6071|\n",
            "|    75%|            4285.0|           8389.0|             4.744|\n",
            "|    max|           35682.0|          39320.0|            13.947|\n",
            "+-------+------------------+-----------------+------------------+\n",
            "\n"
          ]
        }
      ]
    },
    {
      "cell_type": "code",
      "source": [
        "df1[df1['total_bedrooms'] > 10000].select('population','total_rooms', 'median_income').summary().show()"
      ],
      "metadata": {
        "colab": {
          "base_uri": "https://localhost:8080/"
        },
        "id": "O8f39sqmMPGn",
        "outputId": "1a848fa7-3d48-4004-9ec6-84d53998e8c9"
      },
      "execution_count": 144,
      "outputs": [
        {
          "output_type": "stream",
          "name": "stdout",
          "text": [
            "+-------+----------+-----------+-------------+\n",
            "|summary|population|total_rooms|median_income|\n",
            "+-------+----------+-----------+-------------+\n",
            "|  count|         0|          0|            0|\n",
            "|   mean|      null|       null|         null|\n",
            "| stddev|      null|       null|         null|\n",
            "|    min|      null|       null|         null|\n",
            "|    25%|      null|       null|         null|\n",
            "|    50%|      null|       null|         null|\n",
            "|    75%|      null|       null|         null|\n",
            "|    max|      null|       null|         null|\n",
            "+-------+----------+-----------+-------------+\n",
            "\n"
          ]
        }
      ]
    },
    {
      "cell_type": "code",
      "source": [
        "df1.select('latitude').show()"
      ],
      "metadata": {
        "colab": {
          "base_uri": "https://localhost:8080/"
        },
        "id": "CdMfpzJKP-a7",
        "outputId": "0c7efcb4-f848-46f0-cce6-b1e1ea631c8a"
      },
      "execution_count": 146,
      "outputs": [
        {
          "output_type": "stream",
          "name": "stdout",
          "text": [
            "+--------+\n",
            "|latitude|\n",
            "+--------+\n",
            "|   37.88|\n",
            "|   37.86|\n",
            "|   37.85|\n",
            "|   37.85|\n",
            "|   37.85|\n",
            "|   37.85|\n",
            "|   37.84|\n",
            "|   37.84|\n",
            "|   37.84|\n",
            "|   37.84|\n",
            "|   37.85|\n",
            "|   37.85|\n",
            "|   37.85|\n",
            "|   37.84|\n",
            "|   37.85|\n",
            "|   37.85|\n",
            "|   37.85|\n",
            "|   37.85|\n",
            "|   37.84|\n",
            "|   37.84|\n",
            "+--------+\n",
            "only showing top 20 rows\n",
            "\n"
          ]
        }
      ]
    },
    {
      "cell_type": "markdown",
      "source": [
        "**Plotting and Graph using matplot Library**"
      ],
      "metadata": {
        "id": "Gk7r73q6SWca"
      }
    },
    {
      "cell_type": "code",
      "source": [
        "import matplotlib.pyplot as plt"
      ],
      "metadata": {
        "id": "egusnBnYQIZG"
      },
      "execution_count": 148,
      "outputs": []
    },
    {
      "cell_type": "code",
      "source": [
        "plt.scatter(df1.select('latitude').toPandas(), df1.select('longitude').toPandas() )"
      ],
      "metadata": {
        "colab": {
          "base_uri": "https://localhost:8080/",
          "height": 284
        },
        "id": "5lzsdCGeQVPo",
        "outputId": "c29c902a-5d73-4b05-caa7-77f5fe0a05ff"
      },
      "execution_count": 151,
      "outputs": [
        {
          "output_type": "execute_result",
          "data": {
            "text/plain": [
              "<matplotlib.collections.PathCollection at 0x7f369d541650>"
            ]
          },
          "metadata": {},
          "execution_count": 151
        },
        {
          "output_type": "display_data",
          "data": {
            "text/plain": [
              "<Figure size 432x288 with 1 Axes>"
            ],
            "image/png": "[encoded data removed]"
          },
          "metadata": {
            "needs_background": "light"
          }
        }
      ]
    },
    {
      "cell_type": "code",
      "source": [
        "plt.scatter(df1.select('median_income').toPandas(), df1.select('median_income').toPandas() )"
      ],
      "metadata": {
        "colab": {
          "base_uri": "https://localhost:8080/",
          "height": 283
        },
        "id": "Mzk3nhS-Q1s6",
        "outputId": "004a20df-be24-4ef9-c1cd-d0ca980c5f8f"
      },
      "execution_count": 153,
      "outputs": [
        {
          "output_type": "execute_result",
          "data": {
            "text/plain": [
              "<matplotlib.collections.PathCollection at 0x7f369cf5fd90>"
            ]
          },
          "metadata": {},
          "execution_count": 153
        },
        {
          "output_type": "display_data",
          "data": {
            "text/plain": [
              "<Figure size 432x288 with 1 Axes>"
            ],
            "image/png": "[encoded data removed]"
          },
          "metadata": {
            "needs_background": "light"
          }
        }
      ]
    },
    {
      "cell_type": "code",
      "source": [
        "plt.scatter(df1.select('population').toPandas(), df1.select('median_income').toPandas() )"
      ],
      "metadata": {
        "colab": {
          "base_uri": "https://localhost:8080/",
          "height": 283
        },
        "id": "QGpWCEVvROkY",
        "outputId": "fb35d4e2-4e06-41d6-e216-3134f530fbf8"
      },
      "execution_count": 155,
      "outputs": [
        {
          "output_type": "execute_result",
          "data": {
            "text/plain": [
              "<matplotlib.collections.PathCollection at 0x7f369cbdf890>"
            ]
          },
          "metadata": {},
          "execution_count": 155
        },
        {
          "output_type": "display_data",
          "data": {
            "text/plain": [
              "<Figure size 432x288 with 1 Axes>"
            ],
            "image/png": "[encoded data removed]"
          },
          "metadata": {
            "needs_background": "light"
          }
        }
      ]
    },
    {
      "cell_type": "code",
      "source": [
        "plt.scatter(df1.select('median_house_value').toPandas(), df1.select('households').toPandas())"
      ],
      "metadata": {
        "colab": {
          "base_uri": "https://localhost:8080/",
          "height": 283
        },
        "id": "ogwBD340R7yS",
        "outputId": "d84efc69-2e32-4cd5-c3f6-72b780b8c765"
      },
      "execution_count": 158,
      "outputs": [
        {
          "output_type": "execute_result",
          "data": {
            "text/plain": [
              "<matplotlib.collections.PathCollection at 0x7f369da0a9d0>"
            ]
          },
          "metadata": {},
          "execution_count": 158
        },
        {
          "output_type": "display_data",
          "data": {
            "text/plain": [
              "<Figure size 432x288 with 1 Axes>"
            ],
            "image/png": "[encoded data removed]"
          },
          "metadata": {
            "needs_background": "light"
          }
        }
      ]
    },
    {
      "cell_type": "markdown",
      "source": [
        "**Scattering plot by using seaborn library**"
      ],
      "metadata": {
        "id": "m8wVrErdTX5v"
      }
    },
    {
      "cell_type": "code",
      "source": [
        "import seaborn as sns"
      ],
      "metadata": {
        "id": "1jaXFwzySReh"
      },
      "execution_count": 160,
      "outputs": []
    },
    {
      "cell_type": "code",
      "source": [
        "sns.distplot(df1.select('total_bedrooms').toPandas())"
      ],
      "metadata": {
        "colab": {
          "base_uri": "https://localhost:8080/",
          "height": 339
        },
        "id": "tUZYiFuRS_dr",
        "outputId": "cb75d88d-7efe-4353-af15-a9dfa4642364"
      },
      "execution_count": 162,
      "outputs": [
        {
          "output_type": "stream",
          "name": "stderr",
          "text": [
            "/usr/local/lib/python3.7/dist-packages/seaborn/distributions.py:2619: FutureWarning: `distplot` is a deprecated function and will be removed in a future version. Please adapt your code to use either `displot` (a figure-level function with similar flexibility) or `histplot` (an axes-level function for histograms).\n",
            "  warnings.warn(msg, FutureWarning)\n"
          ]
        },
        {
          "output_type": "execute_result",
          "data": {
            "text/plain": [
              "<matplotlib.axes._subplots.AxesSubplot at 0x7f368ff2bb10>"
            ]
          },
          "metadata": {},
          "execution_count": 162
        },
        {
          "output_type": "display_data",
          "data": {
            "text/plain": [
              "<Figure size 432x288 with 1 Axes>"
            ],
            "image/png": "[encoded data removed]"
          },
          "metadata": {
            "needs_background": "light"
          }
        }
      ]
    },
    {
      "cell_type": "code",
      "source": [
        "sns.distplot(df1.select('total_rooms').toPandas())"
      ],
      "metadata": {
        "colab": {
          "base_uri": "https://localhost:8080/",
          "height": 339
        },
        "id": "WexZzTNATSxA",
        "outputId": "480bb6e2-1215-4208-9342-bb349e48871d"
      },
      "execution_count": 164,
      "outputs": [
        {
          "output_type": "stream",
          "name": "stderr",
          "text": [
            "/usr/local/lib/python3.7/dist-packages/seaborn/distributions.py:2619: FutureWarning: `distplot` is a deprecated function and will be removed in a future version. Please adapt your code to use either `displot` (a figure-level function with similar flexibility) or `histplot` (an axes-level function for histograms).\n",
            "  warnings.warn(msg, FutureWarning)\n"
          ]
        },
        {
          "output_type": "execute_result",
          "data": {
            "text/plain": [
              "<matplotlib.axes._subplots.AxesSubplot at 0x7f3690013c90>"
            ]
          },
          "metadata": {},
          "execution_count": 164
        },
        {
          "output_type": "display_data",
          "data": {
            "text/plain": [
              "<Figure size 432x288 with 1 Axes>"
            ],
            "image/png": "[encoded data removed]"
          },
          "metadata": {
            "needs_background": "light"
          }
        }
      ]
    },
    {
      "cell_type": "markdown",
      "source": [
        "**Correlation using heatmap Library**"
      ],
      "metadata": {
        "id": "PzbvLwNmU4Ip"
      }
    },
    {
      "cell_type": "code",
      "source": [
        "sns.heatmap(df1.toPandas().corr())"
      ],
      "metadata": {
        "colab": {
          "base_uri": "https://localhost:8080/",
          "height": 383
        },
        "id": "EuOrdxAuUORK",
        "outputId": "ee8db536-1b7a-4bcb-a81e-96c9848c5bc0"
      },
      "execution_count": 168,
      "outputs": [
        {
          "output_type": "execute_result",
          "data": {
            "text/plain": [
              "<matplotlib.axes._subplots.AxesSubplot at 0x7f36900b9250>"
            ]
          },
          "metadata": {},
          "execution_count": 168
        },
        {
          "output_type": "display_data",
          "data": {
            "text/plain": [
              "<Figure size 432x288 with 2 Axes>"
            ],
            "image/png": "[encoded data removed]"
          },
          "metadata": {
            "needs_background": "light"
          }
        }
      ]
    },
    {
      "cell_type": "markdown",
      "source": [
        "***Using SQL in Spark***"
      ],
      "metadata": {
        "id": "8mgiKLaHWQie"
      }
    },
    {
      "cell_type": "code",
      "source": [
        "df1.createOrReplaceTempView('df1')"
      ],
      "metadata": {
        "id": "a3rm8GEZWPP1"
      },
      "execution_count": 170,
      "outputs": []
    },
    {
      "cell_type": "code",
      "source": [
        "spark.sql(\"\"\" select * from df1 \"\"\").show()"
      ],
      "metadata": {
        "colab": {
          "base_uri": "https://localhost:8080/"
        },
        "id": "3uEkhzLCWhjo",
        "outputId": "8b1865fa-bb2e-4aeb-9c8d-d7ed8f564c2b"
      },
      "execution_count": 173,
      "outputs": [
        {
          "output_type": "stream",
          "name": "stdout",
          "text": [
            "+---------+--------+------------------+-----------+--------------+----------+----------+-------------+------------------+---------------+---------------------+\n",
            "|longitude|latitude|housing_median_age|total_rooms|total_bedrooms|population|households|median_income|median_house_value|ocean_proximity|housing_median_status|\n",
            "+---------+--------+------------------+-----------+--------------+----------+----------+-------------+------------------+---------------+---------------------+\n",
            "|  -122.23|   37.88|              41.0|      880.0|         129.0|     322.0|     126.0|       8.3252|          452600.0|       NEAR BAY|                  LOW|\n",
            "|  -122.22|   37.86|              21.0|     7099.0|        1106.0|    2401.0|    1138.0|       8.3014|          358500.0|       NEAR BAY|                  LOW|\n",
            "|  -122.24|   37.85|              52.0|     1467.0|         190.0|     496.0|     177.0|       7.2574|          352100.0|       NEAR BAY|                  LOW|\n",
            "|  -122.25|   37.85|              52.0|     1274.0|         235.0|     558.0|     219.0|       5.6431|          341300.0|       NEAR BAY|                  LOW|\n",
            "|  -122.25|   37.85|              52.0|     1627.0|         280.0|     565.0|     259.0|       3.8462|          342200.0|       NEAR BAY|                  LOW|\n",
            "|  -122.25|   37.85|              52.0|      919.0|         213.0|     413.0|     193.0|       4.0368|          269700.0|       NEAR BAY|                  LOW|\n",
            "|  -122.25|   37.84|              52.0|     2535.0|         489.0|    1094.0|     514.0|       3.6591|          299200.0|       NEAR BAY|                  LOW|\n",
            "|  -122.25|   37.84|              52.0|     3104.0|         687.0|    1157.0|     647.0|         3.12|          241400.0|       NEAR BAY|                  LOW|\n",
            "|  -122.26|   37.84|              42.0|     2555.0|         665.0|    1206.0|     595.0|       2.0804|          226700.0|       NEAR BAY|                  LOW|\n",
            "|  -122.25|   37.84|              52.0|     3549.0|         707.0|    1551.0|     714.0|       3.6912|          261100.0|       NEAR BAY|                  LOW|\n",
            "|  -122.26|   37.85|              52.0|     2202.0|         434.0|     910.0|     402.0|       3.2031|          281500.0|       NEAR BAY|                  LOW|\n",
            "|  -122.26|   37.85|              52.0|     3503.0|         752.0|    1504.0|     734.0|       3.2705|          241800.0|       NEAR BAY|                  LOW|\n",
            "|  -122.26|   37.85|              52.0|     2491.0|         474.0|    1098.0|     468.0|        3.075|          213500.0|       NEAR BAY|                  LOW|\n",
            "|  -122.26|   37.84|              52.0|      696.0|         191.0|     345.0|     174.0|       2.6736|          191300.0|       NEAR BAY|                  LOW|\n",
            "|  -122.26|   37.85|              52.0|     2643.0|         626.0|    1212.0|     620.0|       1.9167|          159200.0|       NEAR BAY|                  LOW|\n",
            "|  -122.26|   37.85|              50.0|     1120.0|         283.0|     697.0|     264.0|        2.125|          140000.0|       NEAR BAY|                  LOW|\n",
            "|  -122.27|   37.85|              52.0|     1966.0|         347.0|     793.0|     331.0|        2.775|          152500.0|       NEAR BAY|                  LOW|\n",
            "|  -122.27|   37.85|              52.0|     1228.0|         293.0|     648.0|     303.0|       2.1202|          155500.0|       NEAR BAY|                  LOW|\n",
            "|  -122.26|   37.84|              50.0|     2239.0|         455.0|     990.0|     419.0|       1.9911|          158700.0|       NEAR BAY|                  LOW|\n",
            "|  -122.27|   37.84|              52.0|     1503.0|         298.0|     690.0|     275.0|       2.6033|          162900.0|       NEAR BAY|                  LOW|\n",
            "+---------+--------+------------------+-----------+--------------+----------+----------+-------------+------------------+---------------+---------------------+\n",
            "only showing top 20 rows\n",
            "\n"
          ]
        }
      ]
    },
    {
      "cell_type": "code",
      "source": [
        "spark.sql(\"\"\" SELECT population  AS Population  FROM df1 \"\"\").show()"
      ],
      "metadata": {
        "colab": {
          "base_uri": "https://localhost:8080/"
        },
        "id": "FLKsYi60XBws",
        "outputId": "5c690f7c-9b3f-401a-dc1c-226c04ba5746"
      },
      "execution_count": 176,
      "outputs": [
        {
          "output_type": "stream",
          "name": "stdout",
          "text": [
            "+----------+\n",
            "|Population|\n",
            "+----------+\n",
            "|     322.0|\n",
            "|    2401.0|\n",
            "|     496.0|\n",
            "|     558.0|\n",
            "|     565.0|\n",
            "|     413.0|\n",
            "|    1094.0|\n",
            "|    1157.0|\n",
            "|    1206.0|\n",
            "|    1551.0|\n",
            "|     910.0|\n",
            "|    1504.0|\n",
            "|    1098.0|\n",
            "|     345.0|\n",
            "|    1212.0|\n",
            "|     697.0|\n",
            "|     793.0|\n",
            "|     648.0|\n",
            "|     990.0|\n",
            "|     690.0|\n",
            "+----------+\n",
            "only showing top 20 rows\n",
            "\n"
          ]
        }
      ]
    },
    {
      "cell_type": "code",
      "source": [
        "spark.sql(\"\"\" SELECT * FROM df1 WHERE total_rooms <100  \"\"\").show()"
      ],
      "metadata": {
        "colab": {
          "base_uri": "https://localhost:8080/"
        },
        "id": "aH9dQCi_XU1t",
        "outputId": "1ebd672c-4853-4798-9a86-09cc0b86ecab"
      },
      "execution_count": 179,
      "outputs": [
        {
          "output_type": "stream",
          "name": "stdout",
          "text": [
            "+---------+--------+------------------+-----------+--------------+----------+----------+-------------+------------------+---------------+---------------------+\n",
            "|longitude|latitude|housing_median_age|total_rooms|total_bedrooms|population|households|median_income|median_house_value|ocean_proximity|housing_median_status|\n",
            "+---------+--------+------------------+-----------+--------------+----------+----------+-------------+------------------+---------------+---------------------+\n",
            "|  -122.29|   37.81|              46.0|       12.0|           4.0|      18.0|       7.0|       0.4999|           67500.0|       NEAR BAY|                  LOW|\n",
            "|  -122.28|    37.8|              52.0|       96.0|          31.0|     191.0|      34.0|         0.75|          162500.0|       NEAR BAY|                  LOW|\n",
            "|  -121.84|   38.02|              46.0|       66.0|          22.0|      37.0|      21.0|        0.536|           87500.0|         INLAND|                  LOW|\n",
            "|  -122.05|   37.97|              16.0|       60.0|          10.0|      65.0|      19.0|       6.1359|          250000.0|       NEAR BAY|               MEDIUM|\n",
            "|  -122.22|   37.88|              20.0|       95.0|          13.0|      31.0|      15.0|       2.4444|          475000.0|       NEAR BAY|               MEDIUM|\n",
            "|  -122.39|    38.0|              33.0|       44.0|           6.0|      23.0|      11.0|        4.125|          212500.0|       NEAR BAY|                  LOW|\n",
            "|  -122.41|   37.98|              36.0|       60.0|          15.0|      42.0|      25.0|       1.4583|           67500.0|       NEAR BAY|                  LOW|\n",
            "|   -120.5|   38.87|              10.0|       81.0|          41.0|      55.0|      16.0|       4.9583|           87500.0|         INLAND|                 GOOD|\n",
            "|  -119.83|   36.72|              28.0|       60.0|          10.0|      46.0|      13.0|         4.35|           67500.0|         INLAND|                  LOW|\n",
            "|  -119.55|   36.51|              46.0|       55.0|          11.0|      26.0|       5.0|        4.125|           67500.0|         INLAND|                  LOW|\n",
            "|  -119.54|   36.51|              36.0|       49.0|           7.0|      28.0|       2.0|        4.625|          162500.0|         INLAND|                  LOW|\n",
            "|  -115.95|   33.28|              12.0|       99.0|          25.0|      37.0|      17.0|       1.8958|           53800.0|         INLAND|               MEDIUM|\n",
            "|   -115.8|   33.26|               2.0|       96.0|          18.0|      30.0|      16.0|       5.3374|           47500.0|         INLAND|            VERY GOOD|\n",
            "|  -114.65|   32.79|              21.0|       44.0|          33.0|      64.0|      27.0|       0.8571|           25000.0|         INLAND|                  LOW|\n",
            "|   -117.9|   36.95|              19.0|       99.0|          26.0|      51.0|      22.0|       1.7292|          137500.0|         INLAND|               MEDIUM|\n",
            "|  -119.02|   35.38|              52.0|       90.0|          35.0|      36.0|      31.0|       0.8054|           60000.0|         INLAND|                  LOW|\n",
            "|  -119.04|   35.32|              20.0|       37.0|          11.0|      34.0|       8.0|          1.2|           50000.0|         INLAND|               MEDIUM|\n",
            "|  -119.01|   35.24|               6.0|       80.0|          16.0|      66.0|      21.0|        3.125|           65000.0|         INLAND|                 GOOD|\n",
            "|  -117.76|   35.22|               4.0|       18.0|           3.0|       8.0|       6.0|        1.625|          275000.0|         INLAND|            VERY GOOD|\n",
            "|  -117.79|   35.21|               4.0|        2.0|           2.0|       6.0|       2.0|        2.375|          137500.0|         INLAND|            VERY GOOD|\n",
            "+---------+--------+------------------+-----------+--------------+----------+----------+-------------+------------------+---------------+---------------------+\n",
            "only showing top 20 rows\n",
            "\n"
          ]
        }
      ]
    },
    {
      "cell_type": "code",
      "source": [
        "spark.sql(\"\"\" SELECT * FROM df1 WHERE total_bedrooms >10000  \"\"\").show()"
      ],
      "metadata": {
        "colab": {
          "base_uri": "https://localhost:8080/"
        },
        "id": "WKqEbd77Xm3L",
        "outputId": "adb277c0-0eb5-4f69-9308-7e56df35a9f8"
      },
      "execution_count": 182,
      "outputs": [
        {
          "output_type": "stream",
          "name": "stdout",
          "text": [
            "+---------+--------+------------------+-----------+--------------+----------+----------+-------------+------------------+---------------+---------------------+\n",
            "|longitude|latitude|housing_median_age|total_rooms|total_bedrooms|population|households|median_income|median_house_value|ocean_proximity|housing_median_status|\n",
            "+---------+--------+------------------+-----------+--------------+----------+----------+-------------+------------------+---------------+---------------------+\n",
            "+---------+--------+------------------+-----------+--------------+----------+----------+-------------+------------------+---------------+---------------------+\n",
            "\n"
          ]
        }
      ]
    },
    {
      "cell_type": "code",
      "source": [
        "spark.sql(\"\"\" SELECT *  FROM df1 WHERE housing_median_age >50  \"\"\").show()"
      ],
      "metadata": {
        "colab": {
          "base_uri": "https://localhost:8080/"
        },
        "id": "RROql_7HXxsN",
        "outputId": "13713c60-f5d9-4c51-941c-f9e08b4b086d"
      },
      "execution_count": 185,
      "outputs": [
        {
          "output_type": "stream",
          "name": "stdout",
          "text": [
            "+---------+--------+------------------+-----------+--------------+----------+----------+-------------+------------------+---------------+---------------------+\n",
            "|longitude|latitude|housing_median_age|total_rooms|total_bedrooms|population|households|median_income|median_house_value|ocean_proximity|housing_median_status|\n",
            "+---------+--------+------------------+-----------+--------------+----------+----------+-------------+------------------+---------------+---------------------+\n",
            "|  -122.24|   37.85|              52.0|     1467.0|         190.0|     496.0|     177.0|       7.2574|          352100.0|       NEAR BAY|                  LOW|\n",
            "|  -122.25|   37.85|              52.0|     1274.0|         235.0|     558.0|     219.0|       5.6431|          341300.0|       NEAR BAY|                  LOW|\n",
            "|  -122.25|   37.85|              52.0|     1627.0|         280.0|     565.0|     259.0|       3.8462|          342200.0|       NEAR BAY|                  LOW|\n",
            "|  -122.25|   37.85|              52.0|      919.0|         213.0|     413.0|     193.0|       4.0368|          269700.0|       NEAR BAY|                  LOW|\n",
            "|  -122.25|   37.84|              52.0|     2535.0|         489.0|    1094.0|     514.0|       3.6591|          299200.0|       NEAR BAY|                  LOW|\n",
            "|  -122.25|   37.84|              52.0|     3104.0|         687.0|    1157.0|     647.0|         3.12|          241400.0|       NEAR BAY|                  LOW|\n",
            "|  -122.25|   37.84|              52.0|     3549.0|         707.0|    1551.0|     714.0|       3.6912|          261100.0|       NEAR BAY|                  LOW|\n",
            "|  -122.26|   37.85|              52.0|     2202.0|         434.0|     910.0|     402.0|       3.2031|          281500.0|       NEAR BAY|                  LOW|\n",
            "|  -122.26|   37.85|              52.0|     3503.0|         752.0|    1504.0|     734.0|       3.2705|          241800.0|       NEAR BAY|                  LOW|\n",
            "|  -122.26|   37.85|              52.0|     2491.0|         474.0|    1098.0|     468.0|        3.075|          213500.0|       NEAR BAY|                  LOW|\n",
            "|  -122.26|   37.84|              52.0|      696.0|         191.0|     345.0|     174.0|       2.6736|          191300.0|       NEAR BAY|                  LOW|\n",
            "|  -122.26|   37.85|              52.0|     2643.0|         626.0|    1212.0|     620.0|       1.9167|          159200.0|       NEAR BAY|                  LOW|\n",
            "|  -122.27|   37.85|              52.0|     1966.0|         347.0|     793.0|     331.0|        2.775|          152500.0|       NEAR BAY|                  LOW|\n",
            "|  -122.27|   37.85|              52.0|     1228.0|         293.0|     648.0|     303.0|       2.1202|          155500.0|       NEAR BAY|                  LOW|\n",
            "|  -122.27|   37.84|              52.0|     1503.0|         298.0|     690.0|     275.0|       2.6033|          162900.0|       NEAR BAY|                  LOW|\n",
            "|  -122.27|   37.84|              52.0|     2436.0|         541.0|    1015.0|     478.0|        1.725|          113900.0|       NEAR BAY|                  LOW|\n",
            "|  -122.27|   37.84|              52.0|     1688.0|         337.0|     853.0|     325.0|       2.1806|           99700.0|       NEAR BAY|                  LOW|\n",
            "|  -122.27|   37.84|              52.0|     2224.0|         437.0|    1006.0|     422.0|          2.6|          132600.0|       NEAR BAY|                  LOW|\n",
            "|  -122.28|   37.85|              52.0|     1898.0|         421.0|    1102.0|     397.0|        1.808|          105500.0|       NEAR BAY|                  LOW|\n",
            "|  -122.28|   37.84|              52.0|      729.0|         160.0|     395.0|     155.0|       1.6875|          132000.0|       NEAR BAY|                  LOW|\n",
            "+---------+--------+------------------+-----------+--------------+----------+----------+-------------+------------------+---------------+---------------------+\n",
            "only showing top 20 rows\n",
            "\n"
          ]
        }
      ]
    },
    {
      "cell_type": "code",
      "source": [
        "spark.sql(\"\"\" SELECT housing_median_status, MEAN(Population)  FROM df1 GROUP BY  housing_median_status   \"\"\").show()"
      ],
      "metadata": {
        "colab": {
          "base_uri": "https://localhost:8080/"
        },
        "id": "tdWefUaqYLlF",
        "outputId": "966c37a9-2a69-42cd-801e-53cb8c027051"
      },
      "execution_count": 187,
      "outputs": [
        {
          "output_type": "stream",
          "name": "stdout",
          "text": [
            "+---------------------+------------------+\n",
            "|housing_median_status|  mean(Population)|\n",
            "+---------------------+------------------+\n",
            "|                 GOOD|          2039.583|\n",
            "|                  LOW|1258.4166373177432|\n",
            "|               MEDIUM|1659.6568376068376|\n",
            "|            VERY GOOD| 2596.084532374101|\n",
            "+---------------------+------------------+\n",
            "\n"
          ]
        }
      ]
    },
    {
      "cell_type": "code",
      "source": [
        "spark.sql(\"\"\" SELECT housing_median_status, AVG(Population)  FROM df1 GROUP BY  housing_median_status   \"\"\").show()"
      ],
      "metadata": {
        "colab": {
          "base_uri": "https://localhost:8080/"
        },
        "id": "xGjRbRIcYzn2",
        "outputId": "957587e3-e760-487e-f798-67683759d561"
      },
      "execution_count": 190,
      "outputs": [
        {
          "output_type": "stream",
          "name": "stdout",
          "text": [
            "+---------------------+------------------+\n",
            "|housing_median_status|   avg(Population)|\n",
            "+---------------------+------------------+\n",
            "|                 GOOD|          2039.583|\n",
            "|                  LOW|1258.4166373177432|\n",
            "|               MEDIUM|1659.6568376068376|\n",
            "|            VERY GOOD| 2596.084532374101|\n",
            "+---------------------+------------------+\n",
            "\n"
          ]
        }
      ]
    },
    {
      "cell_type": "code",
      "source": [
        "  spark.sql(\"\"\" SELECT housing_median_status, MEAN(Population) AS people_mean   FROM df1 GROUP BY  housing_median_status  ORDER BY people_mean   \"\"\").show()"
      ],
      "metadata": {
        "colab": {
          "base_uri": "https://localhost:8080/"
        },
        "id": "8HRtTdNhY8qC",
        "outputId": "e9e3daf7-dc26-4a66-afcd-c0bc73e031ec"
      },
      "execution_count": 192,
      "outputs": [
        {
          "output_type": "stream",
          "name": "stdout",
          "text": [
            "+---------------------+------------------+\n",
            "|housing_median_status|       people_mean|\n",
            "+---------------------+------------------+\n",
            "|                  LOW|1258.4166373177432|\n",
            "|               MEDIUM|1659.6568376068376|\n",
            "|                 GOOD|          2039.583|\n",
            "|            VERY GOOD| 2596.084532374101|\n",
            "+---------------------+------------------+\n",
            "\n"
          ]
        }
      ]
    },
    {
      "cell_type": "code",
      "source": [
        "  spark.sql(\"\"\" SELECT housing_median_status, MEAN(population) AS people_mean   FROM df1  where total_bedrooms >1000   GROUP BY  housing_median_status  ORDER BY people_mean\"\"\").show()"
      ],
      "metadata": {
        "colab": {
          "base_uri": "https://localhost:8080/"
        },
        "id": "ZS8OXAaPZW1a",
        "outputId": "cd84d3ad-7b93-4e7f-9ee3-1d23378dd856"
      },
      "execution_count": 199,
      "outputs": [
        {
          "output_type": "stream",
          "name": "stdout",
          "text": [
            "+---------------------+------------------+\n",
            "|housing_median_status|       people_mean|\n",
            "+---------------------+------------------+\n",
            "|                  LOW| 3185.572443181818|\n",
            "|               MEDIUM|3672.2438356164384|\n",
            "|                 GOOD| 4252.107438016529|\n",
            "|            VERY GOOD| 4793.955882352941|\n",
            "+---------------------+------------------+\n",
            "\n"
          ]
        }
      ]
    }
  ]
}
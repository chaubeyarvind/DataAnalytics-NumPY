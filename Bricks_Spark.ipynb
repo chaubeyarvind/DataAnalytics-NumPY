{
  "nbformat": 4,
  "nbformat_minor": 0,
  "metadata": {
    "colab": {
      "provenance": [],
      "authorship_tag": "ABX9TyOY+nsUJe4MdpL1oFdLqN/2",
      "include_colab_link": true
    },
    "kernelspec": {
      "name": "python3",
      "display_name": "Python 3"
    },
    "language_info": {
      "name": "python"
    }
  },
  "cells": [
    {
      "cell_type": "markdown",
      "metadata": {
        "id": "view-in-github",
        "colab_type": "text"
      },
      "source": [
        "<a href=\"https://colab.research.google.com/github/chaubeyarvind/DataAnalytics-NumPY/blob/main/Bricks_Spark.ipynb\" target=\"_parent\"><img src=\"https://colab.research.google.com/assets/colab-badge.svg\" alt=\"Open In Colab\"/></a>"
      ]
    },
    {
      "cell_type": "code",
      "execution_count": 2,
      "metadata": {
        "colab": {
          "base_uri": "https://localhost:8080/"
        },
        "id": "8nNBezCuQkj7",
        "outputId": "19b4a8bf-a7b5-432f-fcf3-596a6a8bf23c"
      },
      "outputs": [
        {
          "output_type": "stream",
          "name": "stdout",
          "text": [
            "Looking in indexes: https://pypi.org/simple, https://us-python.pkg.dev/colab-wheels/public/simple/\n",
            "Requirement already satisfied: pyspark in /usr/local/lib/python3.7/dist-packages (3.3.0)\n",
            "Requirement already satisfied: py4j==0.10.9.5 in /usr/local/lib/python3.7/dist-packages (from pyspark) (0.10.9.5)\n"
          ]
        }
      ],
      "source": [
        "!pip install pyspark"
      ]
    },
    {
      "cell_type": "code",
      "source": [
        "from pyspark.sql import SparkSession\n",
        "spark = SparkSession.builder.master(\"local[*]\").appName(\"Spark Regression\").getOrCreate()\n",
        "spark"
      ],
      "metadata": {
        "colab": {
          "base_uri": "https://localhost:8080/",
          "height": 221
        },
        "id": "TRpwIiAnRbjT",
        "outputId": "6f5a5775-4003-4e2b-e68f-acd5d3c94f5f"
      },
      "execution_count": 17,
      "outputs": [
        {
          "output_type": "execute_result",
          "data": {
            "text/plain": [
              "<pyspark.sql.session.SparkSession at 0x7f369ed8b810>"
            ],
            "text/html": [
              "\n",
              "            <div>\n",
              "                <p><b>SparkSession - in-memory</b></p>\n",
              "                \n",
              "        <div>\n",
              "            <p><b>SparkContext</b></p>\n",
              "\n",
              "            <p><a href=\"http://4c0130a0355e:4040\">Spark UI</a></p>\n",
              "\n",
              "            <dl>\n",
              "              <dt>Version</dt>\n",
              "                <dd><code>v3.3.0</code></dd>\n",
              "              <dt>Master</dt>\n",
              "                <dd><code>local[*]</code></dd>\n",
              "              <dt>AppName</dt>\n",
              "                <dd><code>Spark Regression</code></dd>\n",
              "            </dl>\n",
              "        </div>\n",
              "        \n",
              "            </div>\n",
              "        "
            ]
          },
          "metadata": {},
          "execution_count": 17
        }
      ]
    },
    {
      "cell_type": "code",
      "source": [
        "df1 = spark.read.csv(\"/content/sample_data/dataset1.csv\", header=True, inferSchema=True)\n",
        "df2 = spark.read.csv(\"/content/sample_data/CIC_DDoS.csv\", header=True, inferSchema=True)"
      ],
      "metadata": {
        "id": "aReWBpBBUaUR"
      },
      "execution_count": 19,
      "outputs": []
    },
    {
      "cell_type": "code",
      "source": [
        "df1"
      ],
      "metadata": {
        "colab": {
          "base_uri": "https://localhost:8080/"
        },
        "id": "YA9QUvR9U1M5",
        "outputId": "fca89cde-5a4e-4c66-977a-d264dce866cc"
      },
      "execution_count": 24,
      "outputs": [
        {
          "output_type": "execute_result",
          "data": {
            "text/plain": [
              "DataFrame[longitude: double, latitude: double, housing_median_age: double, total_rooms: double, total_bedrooms: double, population: double, households: double, median_income: double, median_house_value: double, ocean_proximity: string, housing_median_status: string]"
            ]
          },
          "metadata": {},
          "execution_count": 24
        }
      ]
    },
    {
      "cell_type": "code",
      "source": [
        "df1.show()"
      ],
      "metadata": {
        "colab": {
          "base_uri": "https://localhost:8080/"
        },
        "id": "MVYh0q-3VEqe",
        "outputId": "349c79b1-3081-41f9-d77b-eee4c02988bc"
      },
      "execution_count": 26,
      "outputs": [
        {
          "output_type": "stream",
          "name": "stdout",
          "text": [
            "+---------+--------+------------------+-----------+--------------+----------+----------+-------------+------------------+---------------+---------------------+\n",
            "|longitude|latitude|housing_median_age|total_rooms|total_bedrooms|population|households|median_income|median_house_value|ocean_proximity|housing_median_status|\n",
            "+---------+--------+------------------+-----------+--------------+----------+----------+-------------+------------------+---------------+---------------------+\n",
            "|  -122.23|   37.88|              41.0|      880.0|         129.0|     322.0|     126.0|       8.3252|          452600.0|       NEAR BAY|                  LOW|\n",
            "|  -122.22|   37.86|              21.0|     7099.0|        1106.0|    2401.0|    1138.0|       8.3014|          358500.0|       NEAR BAY|                  LOW|\n",
            "|  -122.24|   37.85|              52.0|     1467.0|         190.0|     496.0|     177.0|       7.2574|          352100.0|       NEAR BAY|                  LOW|\n",
            "|  -122.25|   37.85|              52.0|     1274.0|         235.0|     558.0|     219.0|       5.6431|          341300.0|       NEAR BAY|                  LOW|\n",
            "|  -122.25|   37.85|              52.0|     1627.0|         280.0|     565.0|     259.0|       3.8462|          342200.0|       NEAR BAY|                  LOW|\n",
            "|  -122.25|   37.85|              52.0|      919.0|         213.0|     413.0|     193.0|       4.0368|          269700.0|       NEAR BAY|                  LOW|\n",
            "|  -122.25|   37.84|              52.0|     2535.0|         489.0|    1094.0|     514.0|       3.6591|          299200.0|       NEAR BAY|                  LOW|\n",
            "|  -122.25|   37.84|              52.0|     3104.0|         687.0|    1157.0|     647.0|         3.12|          241400.0|       NEAR BAY|                  LOW|\n",
            "|  -122.26|   37.84|              42.0|     2555.0|         665.0|    1206.0|     595.0|       2.0804|          226700.0|       NEAR BAY|                  LOW|\n",
            "|  -122.25|   37.84|              52.0|     3549.0|         707.0|    1551.0|     714.0|       3.6912|          261100.0|       NEAR BAY|                  LOW|\n",
            "|  -122.26|   37.85|              52.0|     2202.0|         434.0|     910.0|     402.0|       3.2031|          281500.0|       NEAR BAY|                  LOW|\n",
            "|  -122.26|   37.85|              52.0|     3503.0|         752.0|    1504.0|     734.0|       3.2705|          241800.0|       NEAR BAY|                  LOW|\n",
            "|  -122.26|   37.85|              52.0|     2491.0|         474.0|    1098.0|     468.0|        3.075|          213500.0|       NEAR BAY|                  LOW|\n",
            "|  -122.26|   37.84|              52.0|      696.0|         191.0|     345.0|     174.0|       2.6736|          191300.0|       NEAR BAY|                  LOW|\n",
            "|  -122.26|   37.85|              52.0|     2643.0|         626.0|    1212.0|     620.0|       1.9167|          159200.0|       NEAR BAY|                  LOW|\n",
            "|  -122.26|   37.85|              50.0|     1120.0|         283.0|     697.0|     264.0|        2.125|          140000.0|       NEAR BAY|                  LOW|\n",
            "|  -122.27|   37.85|              52.0|     1966.0|         347.0|     793.0|     331.0|        2.775|          152500.0|       NEAR BAY|                  LOW|\n",
            "|  -122.27|   37.85|              52.0|     1228.0|         293.0|     648.0|     303.0|       2.1202|          155500.0|       NEAR BAY|                  LOW|\n",
            "|  -122.26|   37.84|              50.0|     2239.0|         455.0|     990.0|     419.0|       1.9911|          158700.0|       NEAR BAY|                  LOW|\n",
            "|  -122.27|   37.84|              52.0|     1503.0|         298.0|     690.0|     275.0|       2.6033|          162900.0|       NEAR BAY|                  LOW|\n",
            "+---------+--------+------------------+-----------+--------------+----------+----------+-------------+------------------+---------------+---------------------+\n",
            "only showing top 20 rows\n",
            "\n"
          ]
        }
      ]
    },
    {
      "cell_type": "code",
      "source": [
        "df1[df1['ocean_proximity'] == 'INLAND'].show()"
      ],
      "metadata": {
        "colab": {
          "base_uri": "https://localhost:8080/"
        },
        "id": "wADQ1kxjVbwQ",
        "outputId": "dc0cfece-3862-4c9b-ab7f-a54fccc3f130"
      },
      "execution_count": 28,
      "outputs": [
        {
          "output_type": "stream",
          "name": "stdout",
          "text": [
            "+---------+--------+------------------+-----------+--------------+----------+----------+-------------+------------------+---------------+---------------------+\n",
            "|longitude|latitude|housing_median_age|total_rooms|total_bedrooms|population|households|median_income|median_house_value|ocean_proximity|housing_median_status|\n",
            "+---------+--------+------------------+-----------+--------------+----------+----------+-------------+------------------+---------------+---------------------+\n",
            "|  -121.92|   37.64|              46.0|     1280.0|         209.0|     512.0|     208.0|       5.1406|          315600.0|         INLAND|                  LOW|\n",
            "|   -121.9|   37.66|              18.0|     7397.0|        1137.0|    3126.0|    1115.0|       6.4994|          323000.0|         INLAND|               MEDIUM|\n",
            "|  -121.88|   37.68|              23.0|     2234.0|         270.0|     854.0|     286.0|        7.333|          337200.0|         INLAND|                  LOW|\n",
            "|  -121.88|   37.67|              16.0|     4070.0|         624.0|    1543.0|     577.0|       6.5214|          311500.0|         INLAND|               MEDIUM|\n",
            "|  -121.88|   37.67|              25.0|     2244.0|         301.0|     937.0|     324.0|       6.4524|          296900.0|         INLAND|                  LOW|\n",
            "|  -121.89|   37.67|              20.0|     2948.0|         471.0|    1181.0|     474.0|       6.0604|          247900.0|         INLAND|               MEDIUM|\n",
            "|  -121.89|   37.67|              19.0|     2034.0|         288.0|     852.0|     295.0|       6.5285|          300400.0|         INLAND|               MEDIUM|\n",
            "|  -121.88|   37.66|              29.0|     2702.0|         680.0|    1360.0|     642.0|       3.1127|          233000.0|         INLAND|                  LOW|\n",
            "|  -121.87|   37.66|              39.0|      522.0|         116.0|     161.0|     102.0|       2.4896|          238500.0|         INLAND|                  LOW|\n",
            "|  -121.87|   37.66|              52.0|      775.0|         134.0|     315.0|     123.0|       5.0677|          233300.0|         INLAND|                  LOW|\n",
            "|  -121.89|   37.66|               3.0|     1565.0|         464.0|     769.0|     461.0|       2.1187|          231300.0|         INLAND|            VERY GOOD|\n",
            "|  -121.88|   37.64|              20.0|     1309.0|         184.0|     514.0|     172.0|      10.9506|          475800.0|         INLAND|               MEDIUM|\n",
            "|  -121.87|   37.67|              10.0|     4337.0|         800.0|    1813.0|     743.0|          5.5|          247200.0|         INLAND|                 GOOD|\n",
            "|  -121.87|   37.67|              28.0|     1812.0|         294.0|     853.0|     278.0|       4.9879|          229400.0|         INLAND|                  LOW|\n",
            "|  -121.85|   37.68|               4.0|     4719.0|         741.0|    1895.0|     742.0|       6.8132|          282500.0|         INLAND|            VERY GOOD|\n",
            "|  -121.85|   37.66|              14.0|     4236.0|         701.0|    1833.0|     663.0|       5.6399|          300600.0|         INLAND|               MEDIUM|\n",
            "|  -121.86|   37.66|              22.0|     3634.0|         664.0|    1699.0|     640.0|       4.1597|          293200.0|         INLAND|                  LOW|\n",
            "|  -121.87|   37.66|              27.0|     1569.0|         242.0|     583.0|     214.0|       5.7519|          278500.0|         INLAND|                  LOW|\n",
            "|  -121.84|   37.66|              13.0|    13182.0|        2074.0|    4847.0|    1950.0|       5.6417|          352900.0|         INLAND|               MEDIUM|\n",
            "|  -121.85|   37.72|              43.0|      228.0|          40.0|      83.0|      42.0|      10.3203|          400000.0|         INLAND|                  LOW|\n",
            "+---------+--------+------------------+-----------+--------------+----------+----------+-------------+------------------+---------------+---------------------+\n",
            "only showing top 20 rows\n",
            "\n"
          ]
        }
      ]
    },
    {
      "cell_type": "code",
      "source": [
        "df1[df1['ocean_proximity'] == 'NEAR OCEAN'].show()"
      ],
      "metadata": {
        "colab": {
          "base_uri": "https://localhost:8080/"
        },
        "id": "mJvQXARxVtJO",
        "outputId": "c34b0a89-d223-4a95-f0bf-a135a531973c"
      },
      "execution_count": 32,
      "outputs": [
        {
          "output_type": "stream",
          "name": "stdout",
          "text": [
            "+---------+--------+------------------+-----------+--------------+----------+----------+-------------+------------------+---------------+---------------------+\n",
            "|longitude|latitude|housing_median_age|total_rooms|total_bedrooms|population|households|median_income|median_house_value|ocean_proximity|housing_median_status|\n",
            "+---------+--------+------------------+-----------+--------------+----------+----------+-------------+------------------+---------------+---------------------+\n",
            "|  -124.17|    41.8|              16.0|     2739.0|         480.0|    1259.0|     436.0|       3.7557|          109400.0|     NEAR OCEAN|               MEDIUM|\n",
            "|   -124.3|    41.8|              19.0|     2672.0|         552.0|    1298.0|     478.0|       1.9797|           85800.0|     NEAR OCEAN|               MEDIUM|\n",
            "|  -124.23|   41.75|              11.0|     3159.0|         616.0|    1343.0|     479.0|       2.4805|           73200.0|     NEAR OCEAN|               MEDIUM|\n",
            "|  -124.21|   41.77|              17.0|     3461.0|         722.0|    1947.0|     647.0|       2.5795|           68400.0|     NEAR OCEAN|               MEDIUM|\n",
            "|  -124.19|   41.78|              15.0|     3140.0|         714.0|    1645.0|     640.0|       1.6654|           74600.0|     NEAR OCEAN|               MEDIUM|\n",
            "|  -124.22|   41.73|              28.0|     3003.0|         699.0|    1530.0|     653.0|       1.7038|           78300.0|     NEAR OCEAN|                  LOW|\n",
            "|  -124.21|   41.75|              20.0|     3810.0|         787.0|    1993.0|     721.0|       2.0074|           66900.0|     NEAR OCEAN|               MEDIUM|\n",
            "|  -124.17|   41.76|              20.0|     2673.0|         538.0|    1282.0|     514.0|       2.4605|          105900.0|     NEAR OCEAN|               MEDIUM|\n",
            "|  -124.16|   41.74|              15.0|     2715.0|         569.0|    1532.0|     530.0|       2.1829|           69500.0|     NEAR OCEAN|               MEDIUM|\n",
            "|  -124.14|   41.95|              21.0|     2696.0|         578.0|    1208.0|     494.0|        2.275|          122400.0|     NEAR OCEAN|                  LOW|\n",
            "|  -124.16|   41.92|              19.0|     1668.0|         324.0|     841.0|     283.0|       2.1336|           75000.0|     NEAR OCEAN|               MEDIUM|\n",
            "|   -124.3|   41.84|              17.0|     2677.0|         531.0|    1244.0|     456.0|       3.0313|          103600.0|     NEAR OCEAN|               MEDIUM|\n",
            "|  -124.15|   41.81|              17.0|     3276.0|         628.0|    3546.0|     585.0|       2.2868|          103100.0|     NEAR OCEAN|               MEDIUM|\n",
            "|  -123.92|   41.54|              22.0|     2920.0|         636.0|    1382.0|     499.0|       2.0202|           71100.0|     NEAR OCEAN|                  LOW|\n",
            "|  -124.17|    40.8|              52.0|      661.0|         316.0|     392.0|     244.0|        0.957|           60000.0|     NEAR OCEAN|                  LOW|\n",
            "|  -124.16|    40.8|              52.0|     2416.0|         618.0|    1150.0|     571.0|       1.7308|           80500.0|     NEAR OCEAN|                  LOW|\n",
            "|  -124.16|   40.79|              52.0|     1264.0|         277.0|     591.0|     284.0|       1.7778|           76900.0|     NEAR OCEAN|                  LOW|\n",
            "|  -124.17|    40.8|              52.0|     1606.0|         419.0|     891.0|     367.0|        1.585|           75500.0|     NEAR OCEAN|                  LOW|\n",
            "|  -124.17|    40.8|              52.0|     1557.0|         344.0|     758.0|     319.0|       1.8529|           62500.0|     NEAR OCEAN|                  LOW|\n",
            "|  -124.16|   40.79|              52.0|     2148.0|         421.0|     975.0|     430.0|       2.2566|           92700.0|     NEAR OCEAN|                  LOW|\n",
            "+---------+--------+------------------+-----------+--------------+----------+----------+-------------+------------------+---------------+---------------------+\n",
            "only showing top 20 rows\n",
            "\n"
          ]
        }
      ]
    }
  ]
}
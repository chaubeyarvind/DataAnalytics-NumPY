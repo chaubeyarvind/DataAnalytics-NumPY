{
  "nbformat": 4,
  "nbformat_minor": 0,
  "metadata": {
    "colab": {
      "provenance": [],
      "authorship_tag": "ABX9TyNqJ/tDRuGfNhvxYJG3GA+R",
      "include_colab_link": true
    },
    "kernelspec": {
      "name": "python3",
      "display_name": "Python 3"
    },
    "language_info": {
      "name": "python"
    }
  },
  "cells": [
    {
      "cell_type": "markdown",
      "metadata": {
        "id": "view-in-github",
        "colab_type": "text"
      },
      "source": [
        "<a href=\"https://colab.research.google.com/github/chaubeyarvind/DataAnalytics-NumPY/blob/main/Bricks_Spark.ipynb\" target=\"_parent\"><img src=\"https://colab.research.google.com/assets/colab-badge.svg\" alt=\"Open In Colab\"/></a>"
      ]
    },
    {
      "cell_type": "code",
      "execution_count": 2,
      "metadata": {
        "colab": {
          "base_uri": "https://localhost:8080/"
        },
        "id": "8nNBezCuQkj7",
        "outputId": "19b4a8bf-a7b5-432f-fcf3-596a6a8bf23c"
      },
      "outputs": [
        {
          "output_type": "stream",
          "name": "stdout",
          "text": [
            "Looking in indexes: https://pypi.org/simple, https://us-python.pkg.dev/colab-wheels/public/simple/\n",
            "Requirement already satisfied: pyspark in /usr/local/lib/python3.7/dist-packages (3.3.0)\n",
            "Requirement already satisfied: py4j==0.10.9.5 in /usr/local/lib/python3.7/dist-packages (from pyspark) (0.10.9.5)\n"
          ]
        }
      ],
      "source": [
        "!pip install pyspark"
      ]
    },
    {
      "cell_type": "code",
      "source": [
        "from pyspark.sql import SparkSession\n",
        "spark = SparkSession.builder.master(\"local[*]\").appName(\"Spark Regression\").getOrCreate()\n",
        "spark"
      ],
      "metadata": {
        "colab": {
          "base_uri": "https://localhost:8080/",
          "height": 221
        },
        "id": "TRpwIiAnRbjT",
        "outputId": "6f5a5775-4003-4e2b-e68f-acd5d3c94f5f"
      },
      "execution_count": 17,
      "outputs": [
        {
          "output_type": "execute_result",
          "data": {
            "text/plain": [
              "<pyspark.sql.session.SparkSession at 0x7f369ed8b810>"
            ],
            "text/html": [
              "\n",
              "            <div>\n",
              "                <p><b>SparkSession - in-memory</b></p>\n",
              "                \n",
              "        <div>\n",
              "            <p><b>SparkContext</b></p>\n",
              "\n",
              "            <p><a href=\"http://4c0130a0355e:4040\">Spark UI</a></p>\n",
              "\n",
              "            <dl>\n",
              "              <dt>Version</dt>\n",
              "                <dd><code>v3.3.0</code></dd>\n",
              "              <dt>Master</dt>\n",
              "                <dd><code>local[*]</code></dd>\n",
              "              <dt>AppName</dt>\n",
              "                <dd><code>Spark Regression</code></dd>\n",
              "            </dl>\n",
              "        </div>\n",
              "        \n",
              "            </div>\n",
              "        "
            ]
          },
          "metadata": {},
          "execution_count": 17
        }
      ]
    },
    {
      "cell_type": "code",
      "source": [
        "df1 = spark.read.csv(\"/content/sample_data/dataset1.csv\", header=True, inferSchema=True)\n",
        "df2 = spark.read.csv(\"/content/sample_data/CIC_DDoS.csv\", header=True, inferSchema=True)"
      ],
      "metadata": {
        "id": "aReWBpBBUaUR"
      },
      "execution_count": 19,
      "outputs": []
    },
    {
      "cell_type": "code",
      "source": [
        "df1"
      ],
      "metadata": {
        "colab": {
          "base_uri": "https://localhost:8080/"
        },
        "id": "YA9QUvR9U1M5",
        "outputId": "fca89cde-5a4e-4c66-977a-d264dce866cc"
      },
      "execution_count": 24,
      "outputs": [
        {
          "output_type": "execute_result",
          "data": {
            "text/plain": [
              "DataFrame[longitude: double, latitude: double, housing_median_age: double, total_rooms: double, total_bedrooms: double, population: double, households: double, median_income: double, median_house_value: double, ocean_proximity: string, housing_median_status: string]"
            ]
          },
          "metadata": {},
          "execution_count": 24
        }
      ]
    },
    {
      "cell_type": "code",
      "source": [
        "df1.show()"
      ],
      "metadata": {
        "colab": {
          "base_uri": "https://localhost:8080/"
        },
        "id": "MVYh0q-3VEqe",
        "outputId": "349c79b1-3081-41f9-d77b-eee4c02988bc"
      },
      "execution_count": 26,
      "outputs": [
        {
          "output_type": "stream",
          "name": "stdout",
          "text": [
            "+---------+--------+------------------+-----------+--------------+----------+----------+-------------+------------------+---------------+---------------------+\n",
            "|longitude|latitude|housing_median_age|total_rooms|total_bedrooms|population|households|median_income|median_house_value|ocean_proximity|housing_median_status|\n",
            "+---------+--------+------------------+-----------+--------------+----------+----------+-------------+------------------+---------------+---------------------+\n",
            "|  -122.23|   37.88|              41.0|      880.0|         129.0|     322.0|     126.0|       8.3252|          452600.0|       NEAR BAY|                  LOW|\n",
            "|  -122.22|   37.86|              21.0|     7099.0|        1106.0|    2401.0|    1138.0|       8.3014|          358500.0|       NEAR BAY|                  LOW|\n",
            "|  -122.24|   37.85|              52.0|     1467.0|         190.0|     496.0|     177.0|       7.2574|          352100.0|       NEAR BAY|                  LOW|\n",
            "|  -122.25|   37.85|              52.0|     1274.0|         235.0|     558.0|     219.0|       5.6431|          341300.0|       NEAR BAY|                  LOW|\n",
            "|  -122.25|   37.85|              52.0|     1627.0|         280.0|     565.0|     259.0|       3.8462|          342200.0|       NEAR BAY|                  LOW|\n",
            "|  -122.25|   37.85|              52.0|      919.0|         213.0|     413.0|     193.0|       4.0368|          269700.0|       NEAR BAY|                  LOW|\n",
            "|  -122.25|   37.84|              52.0|     2535.0|         489.0|    1094.0|     514.0|       3.6591|          299200.0|       NEAR BAY|                  LOW|\n",
            "|  -122.25|   37.84|              52.0|     3104.0|         687.0|    1157.0|     647.0|         3.12|          241400.0|       NEAR BAY|                  LOW|\n",
            "|  -122.26|   37.84|              42.0|     2555.0|         665.0|    1206.0|     595.0|       2.0804|          226700.0|       NEAR BAY|                  LOW|\n",
            "|  -122.25|   37.84|              52.0|     3549.0|         707.0|    1551.0|     714.0|       3.6912|          261100.0|       NEAR BAY|                  LOW|\n",
            "|  -122.26|   37.85|              52.0|     2202.0|         434.0|     910.0|     402.0|       3.2031|          281500.0|       NEAR BAY|                  LOW|\n",
            "|  -122.26|   37.85|              52.0|     3503.0|         752.0|    1504.0|     734.0|       3.2705|          241800.0|       NEAR BAY|                  LOW|\n",
            "|  -122.26|   37.85|              52.0|     2491.0|         474.0|    1098.0|     468.0|        3.075|          213500.0|       NEAR BAY|                  LOW|\n",
            "|  -122.26|   37.84|              52.0|      696.0|         191.0|     345.0|     174.0|       2.6736|          191300.0|       NEAR BAY|                  LOW|\n",
            "|  -122.26|   37.85|              52.0|     2643.0|         626.0|    1212.0|     620.0|       1.9167|          159200.0|       NEAR BAY|                  LOW|\n",
            "|  -122.26|   37.85|              50.0|     1120.0|         283.0|     697.0|     264.0|        2.125|          140000.0|       NEAR BAY|                  LOW|\n",
            "|  -122.27|   37.85|              52.0|     1966.0|         347.0|     793.0|     331.0|        2.775|          152500.0|       NEAR BAY|                  LOW|\n",
            "|  -122.27|   37.85|              52.0|     1228.0|         293.0|     648.0|     303.0|       2.1202|          155500.0|       NEAR BAY|                  LOW|\n",
            "|  -122.26|   37.84|              50.0|     2239.0|         455.0|     990.0|     419.0|       1.9911|          158700.0|       NEAR BAY|                  LOW|\n",
            "|  -122.27|   37.84|              52.0|     1503.0|         298.0|     690.0|     275.0|       2.6033|          162900.0|       NEAR BAY|                  LOW|\n",
            "+---------+--------+------------------+-----------+--------------+----------+----------+-------------+------------------+---------------+---------------------+\n",
            "only showing top 20 rows\n",
            "\n"
          ]
        }
      ]
    },
    {
      "cell_type": "code",
      "source": [
        "df1[df1['ocean_proximity'] == 'INLAND'].show()"
      ],
      "metadata": {
        "colab": {
          "base_uri": "https://localhost:8080/"
        },
        "id": "wADQ1kxjVbwQ",
        "outputId": "dc0cfece-3862-4c9b-ab7f-a54fccc3f130"
      },
      "execution_count": 28,
      "outputs": [
        {
          "output_type": "stream",
          "name": "stdout",
          "text": [
            "+---------+--------+------------------+-----------+--------------+----------+----------+-------------+------------------+---------------+---------------------+\n",
            "|longitude|latitude|housing_median_age|total_rooms|total_bedrooms|population|households|median_income|median_house_value|ocean_proximity|housing_median_status|\n",
            "+---------+--------+------------------+-----------+--------------+----------+----------+-------------+------------------+---------------+---------------------+\n",
            "|  -121.92|   37.64|              46.0|     1280.0|         209.0|     512.0|     208.0|       5.1406|          315600.0|         INLAND|                  LOW|\n",
            "|   -121.9|   37.66|              18.0|     7397.0|        1137.0|    3126.0|    1115.0|       6.4994|          323000.0|         INLAND|               MEDIUM|\n",
            "|  -121.88|   37.68|              23.0|     2234.0|         270.0|     854.0|     286.0|        7.333|          337200.0|         INLAND|                  LOW|\n",
            "|  -121.88|   37.67|              16.0|     4070.0|         624.0|    1543.0|     577.0|       6.5214|          311500.0|         INLAND|               MEDIUM|\n",
            "|  -121.88|   37.67|              25.0|     2244.0|         301.0|     937.0|     324.0|       6.4524|          296900.0|         INLAND|                  LOW|\n",
            "|  -121.89|   37.67|              20.0|     2948.0|         471.0|    1181.0|     474.0|       6.0604|          247900.0|         INLAND|               MEDIUM|\n",
            "|  -121.89|   37.67|              19.0|     2034.0|         288.0|     852.0|     295.0|       6.5285|          300400.0|         INLAND|               MEDIUM|\n",
            "|  -121.88|   37.66|              29.0|     2702.0|         680.0|    1360.0|     642.0|       3.1127|          233000.0|         INLAND|                  LOW|\n",
            "|  -121.87|   37.66|              39.0|      522.0|         116.0|     161.0|     102.0|       2.4896|          238500.0|         INLAND|                  LOW|\n",
            "|  -121.87|   37.66|              52.0|      775.0|         134.0|     315.0|     123.0|       5.0677|          233300.0|         INLAND|                  LOW|\n",
            "|  -121.89|   37.66|               3.0|     1565.0|         464.0|     769.0|     461.0|       2.1187|          231300.0|         INLAND|            VERY GOOD|\n",
            "|  -121.88|   37.64|              20.0|     1309.0|         184.0|     514.0|     172.0|      10.9506|          475800.0|         INLAND|               MEDIUM|\n",
            "|  -121.87|   37.67|              10.0|     4337.0|         800.0|    1813.0|     743.0|          5.5|          247200.0|         INLAND|                 GOOD|\n",
            "|  -121.87|   37.67|              28.0|     1812.0|         294.0|     853.0|     278.0|       4.9879|          229400.0|         INLAND|                  LOW|\n",
            "|  -121.85|   37.68|               4.0|     4719.0|         741.0|    1895.0|     742.0|       6.8132|          282500.0|         INLAND|            VERY GOOD|\n",
            "|  -121.85|   37.66|              14.0|     4236.0|         701.0|    1833.0|     663.0|       5.6399|          300600.0|         INLAND|               MEDIUM|\n",
            "|  -121.86|   37.66|              22.0|     3634.0|         664.0|    1699.0|     640.0|       4.1597|          293200.0|         INLAND|                  LOW|\n",
            "|  -121.87|   37.66|              27.0|     1569.0|         242.0|     583.0|     214.0|       5.7519|          278500.0|         INLAND|                  LOW|\n",
            "|  -121.84|   37.66|              13.0|    13182.0|        2074.0|    4847.0|    1950.0|       5.6417|          352900.0|         INLAND|               MEDIUM|\n",
            "|  -121.85|   37.72|              43.0|      228.0|          40.0|      83.0|      42.0|      10.3203|          400000.0|         INLAND|                  LOW|\n",
            "+---------+--------+------------------+-----------+--------------+----------+----------+-------------+------------------+---------------+---------------------+\n",
            "only showing top 20 rows\n",
            "\n"
          ]
        }
      ]
    },
    {
      "cell_type": "code",
      "source": [
        "df1[df1['ocean_proximity'] == 'NEAR OCEAN'].show()"
      ],
      "metadata": {
        "colab": {
          "base_uri": "https://localhost:8080/"
        },
        "id": "mJvQXARxVtJO",
        "outputId": "8f6c375d-d7d8-4a87-a111-76cba7a6f3ea"
      },
      "execution_count": 33,
      "outputs": [
        {
          "output_type": "stream",
          "name": "stdout",
          "text": [
            "+---------+--------+------------------+-----------+--------------+----------+----------+-------------+------------------+---------------+---------------------+\n",
            "|longitude|latitude|housing_median_age|total_rooms|total_bedrooms|population|households|median_income|median_house_value|ocean_proximity|housing_median_status|\n",
            "+---------+--------+------------------+-----------+--------------+----------+----------+-------------+------------------+---------------+---------------------+\n",
            "|  -124.17|    41.8|              16.0|     2739.0|         480.0|    1259.0|     436.0|       3.7557|          109400.0|     NEAR OCEAN|               MEDIUM|\n",
            "|   -124.3|    41.8|              19.0|     2672.0|         552.0|    1298.0|     478.0|       1.9797|           85800.0|     NEAR OCEAN|               MEDIUM|\n",
            "|  -124.23|   41.75|              11.0|     3159.0|         616.0|    1343.0|     479.0|       2.4805|           73200.0|     NEAR OCEAN|               MEDIUM|\n",
            "|  -124.21|   41.77|              17.0|     3461.0|         722.0|    1947.0|     647.0|       2.5795|           68400.0|     NEAR OCEAN|               MEDIUM|\n",
            "|  -124.19|   41.78|              15.0|     3140.0|         714.0|    1645.0|     640.0|       1.6654|           74600.0|     NEAR OCEAN|               MEDIUM|\n",
            "|  -124.22|   41.73|              28.0|     3003.0|         699.0|    1530.0|     653.0|       1.7038|           78300.0|     NEAR OCEAN|                  LOW|\n",
            "|  -124.21|   41.75|              20.0|     3810.0|         787.0|    1993.0|     721.0|       2.0074|           66900.0|     NEAR OCEAN|               MEDIUM|\n",
            "|  -124.17|   41.76|              20.0|     2673.0|         538.0|    1282.0|     514.0|       2.4605|          105900.0|     NEAR OCEAN|               MEDIUM|\n",
            "|  -124.16|   41.74|              15.0|     2715.0|         569.0|    1532.0|     530.0|       2.1829|           69500.0|     NEAR OCEAN|               MEDIUM|\n",
            "|  -124.14|   41.95|              21.0|     2696.0|         578.0|    1208.0|     494.0|        2.275|          122400.0|     NEAR OCEAN|                  LOW|\n",
            "|  -124.16|   41.92|              19.0|     1668.0|         324.0|     841.0|     283.0|       2.1336|           75000.0|     NEAR OCEAN|               MEDIUM|\n",
            "|   -124.3|   41.84|              17.0|     2677.0|         531.0|    1244.0|     456.0|       3.0313|          103600.0|     NEAR OCEAN|               MEDIUM|\n",
            "|  -124.15|   41.81|              17.0|     3276.0|         628.0|    3546.0|     585.0|       2.2868|          103100.0|     NEAR OCEAN|               MEDIUM|\n",
            "|  -123.92|   41.54|              22.0|     2920.0|         636.0|    1382.0|     499.0|       2.0202|           71100.0|     NEAR OCEAN|                  LOW|\n",
            "|  -124.17|    40.8|              52.0|      661.0|         316.0|     392.0|     244.0|        0.957|           60000.0|     NEAR OCEAN|                  LOW|\n",
            "|  -124.16|    40.8|              52.0|     2416.0|         618.0|    1150.0|     571.0|       1.7308|           80500.0|     NEAR OCEAN|                  LOW|\n",
            "|  -124.16|   40.79|              52.0|     1264.0|         277.0|     591.0|     284.0|       1.7778|           76900.0|     NEAR OCEAN|                  LOW|\n",
            "|  -124.17|    40.8|              52.0|     1606.0|         419.0|     891.0|     367.0|        1.585|           75500.0|     NEAR OCEAN|                  LOW|\n",
            "|  -124.17|    40.8|              52.0|     1557.0|         344.0|     758.0|     319.0|       1.8529|           62500.0|     NEAR OCEAN|                  LOW|\n",
            "|  -124.16|   40.79|              52.0|     2148.0|         421.0|     975.0|     430.0|       2.2566|           92700.0|     NEAR OCEAN|                  LOW|\n",
            "+---------+--------+------------------+-----------+--------------+----------+----------+-------------+------------------+---------------+---------------------+\n",
            "only showing top 20 rows\n",
            "\n"
          ]
        }
      ]
    },
    {
      "cell_type": "code",
      "source": [
        "df1.toPandas()"
      ],
      "metadata": {
        "colab": {
          "base_uri": "https://localhost:8080/",
          "height": 488
        },
        "id": "Jw3Ec3oLW8p0",
        "outputId": "f409fc60-b1bb-4dbb-a0b4-2e0d2e468c2e"
      },
      "execution_count": 35,
      "outputs": [
        {
          "output_type": "execute_result",
          "data": {
            "text/plain": [
              "       longitude  latitude  housing_median_age  total_rooms  total_bedrooms  \\\n",
              "0        -122.23     37.88                41.0        880.0           129.0   \n",
              "1        -122.22     37.86                21.0       7099.0          1106.0   \n",
              "2        -122.24     37.85                52.0       1467.0           190.0   \n",
              "3        -122.25     37.85                52.0       1274.0           235.0   \n",
              "4        -122.25     37.85                52.0       1627.0           280.0   \n",
              "...          ...       ...                 ...          ...             ...   \n",
              "20428    -121.09     39.48                25.0       1665.0           374.0   \n",
              "20429    -121.21     39.49                18.0        697.0           150.0   \n",
              "20430    -121.22     39.43                17.0       2254.0           485.0   \n",
              "20431    -121.32     39.43                18.0       1860.0           409.0   \n",
              "20432    -121.24     39.37                16.0       2785.0           616.0   \n",
              "\n",
              "       population  households  median_income  median_house_value  \\\n",
              "0           322.0       126.0         8.3252            452600.0   \n",
              "1          2401.0      1138.0         8.3014            358500.0   \n",
              "2           496.0       177.0         7.2574            352100.0   \n",
              "3           558.0       219.0         5.6431            341300.0   \n",
              "4           565.0       259.0         3.8462            342200.0   \n",
              "...           ...         ...            ...                 ...   \n",
              "20428       845.0       330.0         1.5603             78100.0   \n",
              "20429       356.0       114.0         2.5568             77100.0   \n",
              "20430      1007.0       433.0         1.7000             92300.0   \n",
              "20431       741.0       349.0         1.8672             84700.0   \n",
              "20432      1387.0       530.0         2.3886             89400.0   \n",
              "\n",
              "      ocean_proximity housing_median_status  \n",
              "0            NEAR BAY                   LOW  \n",
              "1            NEAR BAY                   LOW  \n",
              "2            NEAR BAY                   LOW  \n",
              "3            NEAR BAY                   LOW  \n",
              "4            NEAR BAY                   LOW  \n",
              "...               ...                   ...  \n",
              "20428          INLAND                   LOW  \n",
              "20429          INLAND                MEDIUM  \n",
              "20430          INLAND                MEDIUM  \n",
              "20431          INLAND                MEDIUM  \n",
              "20432          INLAND                MEDIUM  \n",
              "\n",
              "[20433 rows x 11 columns]"
            ],
            "text/html": [
              "\n",
              "  <div id=\"df-aa9617d3-9d89-4fe0-8b4a-5fe4d0e0864e\">\n",
              "    <div class=\"colab-df-container\">\n",
              "      <div>\n",
              "<style scoped>\n",
              "    .dataframe tbody tr th:only-of-type {\n",
              "        vertical-align: middle;\n",
              "    }\n",
              "\n",
              "    .dataframe tbody tr th {\n",
              "        vertical-align: top;\n",
              "    }\n",
              "\n",
              "    .dataframe thead th {\n",
              "        text-align: right;\n",
              "    }\n",
              "</style>\n",
              "<table border=\"1\" class=\"dataframe\">\n",
              "  <thead>\n",
              "    <tr style=\"text-align: right;\">\n",
              "      <th></th>\n",
              "      <th>longitude</th>\n",
              "      <th>latitude</th>\n",
              "      <th>housing_median_age</th>\n",
              "      <th>total_rooms</th>\n",
              "      <th>total_bedrooms</th>\n",
              "      <th>population</th>\n",
              "      <th>households</th>\n",
              "      <th>median_income</th>\n",
              "      <th>median_house_value</th>\n",
              "      <th>ocean_proximity</th>\n",
              "      <th>housing_median_status</th>\n",
              "    </tr>\n",
              "  </thead>\n",
              "  <tbody>\n",
              "    <tr>\n",
              "      <th>0</th>\n",
              "      <td>-122.23</td>\n",
              "      <td>37.88</td>\n",
              "      <td>41.0</td>\n",
              "      <td>880.0</td>\n",
              "      <td>129.0</td>\n",
              "      <td>322.0</td>\n",
              "      <td>126.0</td>\n",
              "      <td>8.3252</td>\n",
              "      <td>452600.0</td>\n",
              "      <td>NEAR BAY</td>\n",
              "      <td>LOW</td>\n",
              "    </tr>\n",
              "    <tr>\n",
              "      <th>1</th>\n",
              "      <td>-122.22</td>\n",
              "      <td>37.86</td>\n",
              "      <td>21.0</td>\n",
              "      <td>7099.0</td>\n",
              "      <td>1106.0</td>\n",
              "      <td>2401.0</td>\n",
              "      <td>1138.0</td>\n",
              "      <td>8.3014</td>\n",
              "      <td>358500.0</td>\n",
              "      <td>NEAR BAY</td>\n",
              "      <td>LOW</td>\n",
              "    </tr>\n",
              "    <tr>\n",
              "      <th>2</th>\n",
              "      <td>-122.24</td>\n",
              "      <td>37.85</td>\n",
              "      <td>52.0</td>\n",
              "      <td>1467.0</td>\n",
              "      <td>190.0</td>\n",
              "      <td>496.0</td>\n",
              "      <td>177.0</td>\n",
              "      <td>7.2574</td>\n",
              "      <td>352100.0</td>\n",
              "      <td>NEAR BAY</td>\n",
              "      <td>LOW</td>\n",
              "    </tr>\n",
              "    <tr>\n",
              "      <th>3</th>\n",
              "      <td>-122.25</td>\n",
              "      <td>37.85</td>\n",
              "      <td>52.0</td>\n",
              "      <td>1274.0</td>\n",
              "      <td>235.0</td>\n",
              "      <td>558.0</td>\n",
              "      <td>219.0</td>\n",
              "      <td>5.6431</td>\n",
              "      <td>341300.0</td>\n",
              "      <td>NEAR BAY</td>\n",
              "      <td>LOW</td>\n",
              "    </tr>\n",
              "    <tr>\n",
              "      <th>4</th>\n",
              "      <td>-122.25</td>\n",
              "      <td>37.85</td>\n",
              "      <td>52.0</td>\n",
              "      <td>1627.0</td>\n",
              "      <td>280.0</td>\n",
              "      <td>565.0</td>\n",
              "      <td>259.0</td>\n",
              "      <td>3.8462</td>\n",
              "      <td>342200.0</td>\n",
              "      <td>NEAR BAY</td>\n",
              "      <td>LOW</td>\n",
              "    </tr>\n",
              "    <tr>\n",
              "      <th>...</th>\n",
              "      <td>...</td>\n",
              "      <td>...</td>\n",
              "      <td>...</td>\n",
              "      <td>...</td>\n",
              "      <td>...</td>\n",
              "      <td>...</td>\n",
              "      <td>...</td>\n",
              "      <td>...</td>\n",
              "      <td>...</td>\n",
              "      <td>...</td>\n",
              "      <td>...</td>\n",
              "    </tr>\n",
              "    <tr>\n",
              "      <th>20428</th>\n",
              "      <td>-121.09</td>\n",
              "      <td>39.48</td>\n",
              "      <td>25.0</td>\n",
              "      <td>1665.0</td>\n",
              "      <td>374.0</td>\n",
              "      <td>845.0</td>\n",
              "      <td>330.0</td>\n",
              "      <td>1.5603</td>\n",
              "      <td>78100.0</td>\n",
              "      <td>INLAND</td>\n",
              "      <td>LOW</td>\n",
              "    </tr>\n",
              "    <tr>\n",
              "      <th>20429</th>\n",
              "      <td>-121.21</td>\n",
              "      <td>39.49</td>\n",
              "      <td>18.0</td>\n",
              "      <td>697.0</td>\n",
              "      <td>150.0</td>\n",
              "      <td>356.0</td>\n",
              "      <td>114.0</td>\n",
              "      <td>2.5568</td>\n",
              "      <td>77100.0</td>\n",
              "      <td>INLAND</td>\n",
              "      <td>MEDIUM</td>\n",
              "    </tr>\n",
              "    <tr>\n",
              "      <th>20430</th>\n",
              "      <td>-121.22</td>\n",
              "      <td>39.43</td>\n",
              "      <td>17.0</td>\n",
              "      <td>2254.0</td>\n",
              "      <td>485.0</td>\n",
              "      <td>1007.0</td>\n",
              "      <td>433.0</td>\n",
              "      <td>1.7000</td>\n",
              "      <td>92300.0</td>\n",
              "      <td>INLAND</td>\n",
              "      <td>MEDIUM</td>\n",
              "    </tr>\n",
              "    <tr>\n",
              "      <th>20431</th>\n",
              "      <td>-121.32</td>\n",
              "      <td>39.43</td>\n",
              "      <td>18.0</td>\n",
              "      <td>1860.0</td>\n",
              "      <td>409.0</td>\n",
              "      <td>741.0</td>\n",
              "      <td>349.0</td>\n",
              "      <td>1.8672</td>\n",
              "      <td>84700.0</td>\n",
              "      <td>INLAND</td>\n",
              "      <td>MEDIUM</td>\n",
              "    </tr>\n",
              "    <tr>\n",
              "      <th>20432</th>\n",
              "      <td>-121.24</td>\n",
              "      <td>39.37</td>\n",
              "      <td>16.0</td>\n",
              "      <td>2785.0</td>\n",
              "      <td>616.0</td>\n",
              "      <td>1387.0</td>\n",
              "      <td>530.0</td>\n",
              "      <td>2.3886</td>\n",
              "      <td>89400.0</td>\n",
              "      <td>INLAND</td>\n",
              "      <td>MEDIUM</td>\n",
              "    </tr>\n",
              "  </tbody>\n",
              "</table>\n",
              "<p>20433 rows × 11 columns</p>\n",
              "</div>\n",
              "      <button class=\"colab-df-convert\" onclick=\"convertToInteractive('df-aa9617d3-9d89-4fe0-8b4a-5fe4d0e0864e')\"\n",
              "              title=\"Convert this dataframe to an interactive table.\"\n",
              "              style=\"display:none;\">\n",
              "        \n",
              "  <svg xmlns=\"http://www.w3.org/2000/svg\" height=\"24px\"viewBox=\"0 0 24 24\"\n",
              "       width=\"24px\">\n",
              "    <path d=\"M0 0h24v24H0V0z\" fill=\"none\"/>\n",
              "    <path d=\"M18.56 5.44l.94 2.06.94-2.06 2.06-.94-2.06-.94-.94-2.06-.94 2.06-2.06.94zm-11 1L8.5 8.5l.94-2.06 2.06-.94-2.06-.94L8.5 2.5l-.94 2.06-2.06.94zm10 10l.94 2.06.94-2.06 2.06-.94-2.06-.94-.94-2.06-.94 2.06-2.06.94z\"/><path d=\"M17.41 7.96l-1.37-1.37c-.4-.4-.92-.59-1.43-.59-.52 0-1.04.2-1.43.59L10.3 9.45l-7.72 7.72c-.78.78-.78 2.05 0 2.83L4 21.41c.39.39.9.59 1.41.59.51 0 1.02-.2 1.41-.59l7.78-7.78 2.81-2.81c.8-.78.8-2.07 0-2.86zM5.41 20L4 18.59l7.72-7.72 1.47 1.35L5.41 20z\"/>\n",
              "  </svg>\n",
              "      </button>\n",
              "      \n",
              "  <style>\n",
              "    .colab-df-container {\n",
              "      display:flex;\n",
              "      flex-wrap:wrap;\n",
              "      gap: 12px;\n",
              "    }\n",
              "\n",
              "    .colab-df-convert {\n",
              "      background-color: #E8F0FE;\n",
              "      border: none;\n",
              "      border-radius: 50%;\n",
              "      cursor: pointer;\n",
              "      display: none;\n",
              "      fill: #1967D2;\n",
              "      height: 32px;\n",
              "      padding: 0 0 0 0;\n",
              "      width: 32px;\n",
              "    }\n",
              "\n",
              "    .colab-df-convert:hover {\n",
              "      background-color: #E2EBFA;\n",
              "      box-shadow: 0px 1px 2px rgba(60, 64, 67, 0.3), 0px 1px 3px 1px rgba(60, 64, 67, 0.15);\n",
              "      fill: #174EA6;\n",
              "    }\n",
              "\n",
              "    [theme=dark] .colab-df-convert {\n",
              "      background-color: #3B4455;\n",
              "      fill: #D2E3FC;\n",
              "    }\n",
              "\n",
              "    [theme=dark] .colab-df-convert:hover {\n",
              "      background-color: #434B5C;\n",
              "      box-shadow: 0px 1px 3px 1px rgba(0, 0, 0, 0.15);\n",
              "      filter: drop-shadow(0px 1px 2px rgba(0, 0, 0, 0.3));\n",
              "      fill: #FFFFFF;\n",
              "    }\n",
              "  </style>\n",
              "\n",
              "      <script>\n",
              "        const buttonEl =\n",
              "          document.querySelector('#df-aa9617d3-9d89-4fe0-8b4a-5fe4d0e0864e button.colab-df-convert');\n",
              "        buttonEl.style.display =\n",
              "          google.colab.kernel.accessAllowed ? 'block' : 'none';\n",
              "\n",
              "        async function convertToInteractive(key) {\n",
              "          const element = document.querySelector('#df-aa9617d3-9d89-4fe0-8b4a-5fe4d0e0864e');\n",
              "          const dataTable =\n",
              "            await google.colab.kernel.invokeFunction('convertToInteractive',\n",
              "                                                     [key], {});\n",
              "          if (!dataTable) return;\n",
              "\n",
              "          const docLinkHtml = 'Like what you see? Visit the ' +\n",
              "            '<a target=\"_blank\" href=https://colab.research.google.com/notebooks/data_table.ipynb>data table notebook</a>'\n",
              "            + ' to learn more about interactive tables.';\n",
              "          element.innerHTML = '';\n",
              "          dataTable['output_type'] = 'display_data';\n",
              "          await google.colab.output.renderOutput(dataTable, element);\n",
              "          const docLink = document.createElement('div');\n",
              "          docLink.innerHTML = docLinkHtml;\n",
              "          element.appendChild(docLink);\n",
              "        }\n",
              "      </script>\n",
              "    </div>\n",
              "  </div>\n",
              "  "
            ]
          },
          "metadata": {},
          "execution_count": 35
        }
      ]
    },
    {
      "cell_type": "code",
      "source": [
        "df1.toPandas()['ocean_proximity'].value_counts()"
      ],
      "metadata": {
        "colab": {
          "base_uri": "https://localhost:8080/"
        },
        "id": "OjTbRvIjZE3d",
        "outputId": "4273ea53-dc99-49b2-ad46-a7db61621555"
      },
      "execution_count": 46,
      "outputs": [
        {
          "output_type": "execute_result",
          "data": {
            "text/plain": [
              "<1H OCEAN     9034\n",
              "INLAND        6496\n",
              "NEAR OCEAN    2628\n",
              "NEAR BAY      2270\n",
              "ISLAND           5\n",
              "Name: ocean_proximity, dtype: int64"
            ]
          },
          "metadata": {},
          "execution_count": 46
        }
      ]
    },
    {
      "cell_type": "code",
      "source": [
        "df1[df1['housing_median_status'] == 'LOW'].show()"
      ],
      "metadata": {
        "colab": {
          "base_uri": "https://localhost:8080/"
        },
        "id": "rETq-V19Ze6F",
        "outputId": "8815d6eb-94dd-4a39-b3a8-a95628aa9cd7"
      },
      "execution_count": 40,
      "outputs": [
        {
          "output_type": "stream",
          "name": "stdout",
          "text": [
            "+---------+--------+------------------+-----------+--------------+----------+----------+-------------+------------------+---------------+---------------------+\n",
            "|longitude|latitude|housing_median_age|total_rooms|total_bedrooms|population|households|median_income|median_house_value|ocean_proximity|housing_median_status|\n",
            "+---------+--------+------------------+-----------+--------------+----------+----------+-------------+------------------+---------------+---------------------+\n",
            "|  -122.23|   37.88|              41.0|      880.0|         129.0|     322.0|     126.0|       8.3252|          452600.0|       NEAR BAY|                  LOW|\n",
            "|  -122.22|   37.86|              21.0|     7099.0|        1106.0|    2401.0|    1138.0|       8.3014|          358500.0|       NEAR BAY|                  LOW|\n",
            "|  -122.24|   37.85|              52.0|     1467.0|         190.0|     496.0|     177.0|       7.2574|          352100.0|       NEAR BAY|                  LOW|\n",
            "|  -122.25|   37.85|              52.0|     1274.0|         235.0|     558.0|     219.0|       5.6431|          341300.0|       NEAR BAY|                  LOW|\n",
            "|  -122.25|   37.85|              52.0|     1627.0|         280.0|     565.0|     259.0|       3.8462|          342200.0|       NEAR BAY|                  LOW|\n",
            "|  -122.25|   37.85|              52.0|      919.0|         213.0|     413.0|     193.0|       4.0368|          269700.0|       NEAR BAY|                  LOW|\n",
            "|  -122.25|   37.84|              52.0|     2535.0|         489.0|    1094.0|     514.0|       3.6591|          299200.0|       NEAR BAY|                  LOW|\n",
            "|  -122.25|   37.84|              52.0|     3104.0|         687.0|    1157.0|     647.0|         3.12|          241400.0|       NEAR BAY|                  LOW|\n",
            "|  -122.26|   37.84|              42.0|     2555.0|         665.0|    1206.0|     595.0|       2.0804|          226700.0|       NEAR BAY|                  LOW|\n",
            "|  -122.25|   37.84|              52.0|     3549.0|         707.0|    1551.0|     714.0|       3.6912|          261100.0|       NEAR BAY|                  LOW|\n",
            "|  -122.26|   37.85|              52.0|     2202.0|         434.0|     910.0|     402.0|       3.2031|          281500.0|       NEAR BAY|                  LOW|\n",
            "|  -122.26|   37.85|              52.0|     3503.0|         752.0|    1504.0|     734.0|       3.2705|          241800.0|       NEAR BAY|                  LOW|\n",
            "|  -122.26|   37.85|              52.0|     2491.0|         474.0|    1098.0|     468.0|        3.075|          213500.0|       NEAR BAY|                  LOW|\n",
            "|  -122.26|   37.84|              52.0|      696.0|         191.0|     345.0|     174.0|       2.6736|          191300.0|       NEAR BAY|                  LOW|\n",
            "|  -122.26|   37.85|              52.0|     2643.0|         626.0|    1212.0|     620.0|       1.9167|          159200.0|       NEAR BAY|                  LOW|\n",
            "|  -122.26|   37.85|              50.0|     1120.0|         283.0|     697.0|     264.0|        2.125|          140000.0|       NEAR BAY|                  LOW|\n",
            "|  -122.27|   37.85|              52.0|     1966.0|         347.0|     793.0|     331.0|        2.775|          152500.0|       NEAR BAY|                  LOW|\n",
            "|  -122.27|   37.85|              52.0|     1228.0|         293.0|     648.0|     303.0|       2.1202|          155500.0|       NEAR BAY|                  LOW|\n",
            "|  -122.26|   37.84|              50.0|     2239.0|         455.0|     990.0|     419.0|       1.9911|          158700.0|       NEAR BAY|                  LOW|\n",
            "|  -122.27|   37.84|              52.0|     1503.0|         298.0|     690.0|     275.0|       2.6033|          162900.0|       NEAR BAY|                  LOW|\n",
            "+---------+--------+------------------+-----------+--------------+----------+----------+-------------+------------------+---------------+---------------------+\n",
            "only showing top 20 rows\n",
            "\n"
          ]
        }
      ]
    },
    {
      "cell_type": "code",
      "source": [
        "df1[df1['housing_median_status'] == 'GOOD'].show()"
      ],
      "metadata": {
        "colab": {
          "base_uri": "https://localhost:8080/"
        },
        "id": "CU8Az-hnaDQ5",
        "outputId": "2e0a48dc-a4b3-46b2-f472-c6e98502b8bb"
      },
      "execution_count": 42,
      "outputs": [
        {
          "output_type": "stream",
          "name": "stdout",
          "text": [
            "+---------+--------+------------------+-----------+--------------+----------+----------+-------------+------------------+---------------+---------------------+\n",
            "|longitude|latitude|housing_median_age|total_rooms|total_bedrooms|population|households|median_income|median_house_value|ocean_proximity|housing_median_status|\n",
            "+---------+--------+------------------+-----------+--------------+----------+----------+-------------+------------------+---------------+---------------------+\n",
            "|  -122.27|   37.81|              10.0|      875.0|         348.0|     546.0|     330.0|         0.76|          162500.0|       NEAR BAY|                 GOOD|\n",
            "|  -122.27|    37.8|              10.0|      105.0|          42.0|     125.0|      39.0|       0.9722|          137500.0|       NEAR BAY|                 GOOD|\n",
            "|   -122.3|   37.87|              10.0|      503.0|         118.0|     228.0|     100.0|       2.1705|          150000.0|       NEAR BAY|                 GOOD|\n",
            "|  -122.16|   37.72|              10.0|     2229.0|         601.0|     877.0|     485.0|       3.3431|          137500.0|       NEAR BAY|                 GOOD|\n",
            "|  -122.12|   37.69|              10.0|     2227.0|         560.0|    1140.0|     472.0|       2.3973|          167300.0|       NEAR BAY|                 GOOD|\n",
            "|  -122.02|   37.63|               6.0|     2445.0|         590.0|    1189.0|     573.0|       3.8958|          301100.0|       NEAR BAY|                 GOOD|\n",
            "|  -122.04|   37.66|              10.0|     2031.0|         357.0|     867.0|     352.0|       5.3169|          299200.0|       NEAR BAY|                 GOOD|\n",
            "|  -122.04|   37.65|              10.0|     8299.0|        1326.0|    3827.0|    1288.0|       6.2579|          315500.0|       NEAR BAY|                 GOOD|\n",
            "|  -122.11|   37.64|               8.0|     3592.0|         849.0|    1907.0|     746.0|       3.6708|          197900.0|       NEAR BAY|                 GOOD|\n",
            "|  -121.99|   37.61|               9.0|     3666.0|         711.0|    2341.0|     703.0|       4.6458|          217000.0|      <1H OCEAN|                 GOOD|\n",
            "|  -122.08|   37.61|               6.0|     2605.0|         474.0|    1568.0|     433.0|       5.0406|          261400.0|       NEAR BAY|                 GOOD|\n",
            "|  -122.08|    37.6|              10.0|     3046.0|         678.0|    2056.0|     628.0|       3.9022|          191700.0|       NEAR BAY|                 GOOD|\n",
            "|   -122.0|   37.58|               6.0|     4405.0|         717.0|    2071.0|     688.0|       5.8151|          295600.0|      <1H OCEAN|                 GOOD|\n",
            "|  -122.07|   37.57|               8.0|     8647.0|        1407.0|    5019.0|    1379.0|       6.5615|          318300.0|       NEAR BAY|                 GOOD|\n",
            "|  -122.05|   37.57|               7.0|    10648.0|        1818.0|    6075.0|    1797.0|       6.1047|          278200.0|       NEAR BAY|                 GOOD|\n",
            "|  -122.01|   37.56|               6.0|     3028.0|         778.0|    1531.0|     736.0|       4.4259|          158000.0|       NEAR BAY|                 GOOD|\n",
            "|  -121.92|   37.53|               7.0|    28258.0|        3864.0|   12203.0|    3701.0|       8.4045|          451100.0|      <1H OCEAN|                 GOOD|\n",
            "|  -121.89|   37.49|               9.0|     4909.0|         577.0|    1981.0|     591.0|       9.7194|          500001.0|      <1H OCEAN|                 GOOD|\n",
            "|  -121.92|   37.49|              10.0|     7441.0|        1588.0|    3571.0|    1466.0|       5.1643|          193100.0|      <1H OCEAN|                 GOOD|\n",
            "|  -122.03|   37.54|               6.0|     2918.0|         672.0|    1911.0|     639.0|       4.1406|          178200.0|       NEAR BAY|                 GOOD|\n",
            "+---------+--------+------------------+-----------+--------------+----------+----------+-------------+------------------+---------------+---------------------+\n",
            "only showing top 20 rows\n",
            "\n"
          ]
        }
      ]
    },
    {
      "cell_type": "code",
      "source": [
        "df1[df1['total_rooms'] <  500].show()"
      ],
      "metadata": {
        "colab": {
          "base_uri": "https://localhost:8080/"
        },
        "id": "9s7Nwyh9aF4e",
        "outputId": "5a3fa638-2402-4df6-bd7e-ddac4eee2eef"
      },
      "execution_count": 43,
      "outputs": [
        {
          "output_type": "stream",
          "name": "stdout",
          "text": [
            "+---------+--------+------------------+-----------+--------------+----------+----------+-------------+------------------+---------------+---------------------+\n",
            "|longitude|latitude|housing_median_age|total_rooms|total_bedrooms|population|households|median_income|median_house_value|ocean_proximity|housing_median_status|\n",
            "+---------+--------+------------------+-----------+--------------+----------+----------+-------------+------------------+---------------+---------------------+\n",
            "|  -122.29|   37.82|               2.0|      158.0|          43.0|      94.0|      57.0|       2.5625|           60000.0|       NEAR BAY|            VERY GOOD|\n",
            "|  -122.29|   37.82|              49.0|      135.0|          29.0|      86.0|      23.0|       6.1183|           75000.0|       NEAR BAY|                  LOW|\n",
            "|  -122.29|   37.81|              46.0|       12.0|           4.0|      18.0|       7.0|       0.4999|           67500.0|       NEAR BAY|                  LOW|\n",
            "|  -122.27|   37.81|              52.0|      210.0|          56.0|     183.0|      56.0|       1.1667|          112500.0|       NEAR BAY|                  LOW|\n",
            "|  -122.28|   37.81|              52.0|      340.0|          97.0|     200.0|      87.0|       1.5208|          112500.0|       NEAR BAY|                  LOW|\n",
            "|  -122.28|   37.81|              52.0|      386.0|         164.0|     346.0|     155.0|       0.8075|          137500.0|       NEAR BAY|                  LOW|\n",
            "|  -122.27|    37.8|              10.0|      105.0|          42.0|     125.0|      39.0|       0.9722|          137500.0|       NEAR BAY|                 GOOD|\n",
            "|  -122.27|    37.8|              52.0|      249.0|          78.0|     396.0|      85.0|       1.2434|          500001.0|       NEAR BAY|                  LOW|\n",
            "|  -122.28|    37.8|              52.0|      215.0|          87.0|     904.0|      88.0|       0.8668|          137500.0|       NEAR BAY|                  LOW|\n",
            "|  -122.28|    37.8|              52.0|       96.0|          31.0|     191.0|      34.0|         0.75|          162500.0|       NEAR BAY|                  LOW|\n",
            "|  -122.26|   37.81|              29.0|      335.0|         107.0|     202.0|      91.0|       2.0062|          125000.0|       NEAR BAY|                  LOW|\n",
            "|  -122.24|   37.85|              37.0|      334.0|          54.0|      98.0|      47.0|       4.9643|          335000.0|       NEAR BAY|                  LOW|\n",
            "|  -122.18|   37.81|              30.0|      292.0|          38.0|     126.0|      52.0|       6.3624|          483300.0|       NEAR BAY|                  LOW|\n",
            "|  -122.25|   37.79|              51.0|      175.0|          43.0|     228.0|      55.0|          2.1|           75000.0|       NEAR BAY|                  LOW|\n",
            "|  -122.25|   37.79|              39.0|      461.0|         129.0|     381.0|     123.0|          1.6|          112500.0|       NEAR BAY|                  LOW|\n",
            "|  -122.22|   37.77|              52.0|      391.0|         128.0|     520.0|     138.0|       1.6471|           95000.0|       NEAR BAY|                  LOW|\n",
            "|  -122.23|   37.78|              52.0|      472.0|         146.0|     415.0|     126.0|       2.6429|           71300.0|       NEAR BAY|                  LOW|\n",
            "|  -122.22|   37.77|              40.0|      494.0|         114.0|     547.0|     135.0|       2.8015|          114800.0|       NEAR BAY|                  LOW|\n",
            "|  -122.18|   37.78|              33.0|      142.0|          31.0|     575.0|      47.0|        3.875|          225000.0|       NEAR BAY|                  LOW|\n",
            "|  -122.17|   37.74|              47.0|      463.0|         134.0|     327.0|     137.0|         2.15|           97200.0|       NEAR BAY|                  LOW|\n",
            "+---------+--------+------------------+-----------+--------------+----------+----------+-------------+------------------+---------------+---------------------+\n",
            "only showing top 20 rows\n",
            "\n"
          ]
        }
      ]
    }
  ]
}
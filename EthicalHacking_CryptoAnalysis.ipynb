{
  "nbformat": 4,
  "nbformat_minor": 0,
  "metadata": {
    "colab": {
      "provenance": [],
      "authorship_tag": "ABX9TyOWWjIzR7WnU65aaKTX66i2",
      "include_colab_link": true
    },
    "kernelspec": {
      "name": "python3",
      "display_name": "Python 3"
    },
    "language_info": {
      "name": "python"
    }
  },
  "cells": [
    {
      "cell_type": "markdown",
      "metadata": {
        "id": "view-in-github",
        "colab_type": "text"
      },
      "source": [
        "<a href=\"https://colab.research.google.com/github/chaubeyarvind/DataAnalytics-NumPY/blob/main/EthicalHacking_CryptoAnalysis.ipynb\" target=\"_parent\"><img src=\"https://colab.research.google.com/assets/colab-badge.svg\" alt=\"Open In Colab\"/></a>"
      ]
    },
    {
      "cell_type": "markdown",
      "source": [
        "**Reverse Cipher**"
      ],
      "metadata": {
        "id": "AdYgRpLU-aR0"
      }
    },
    {
      "cell_type": "code",
      "source": [
        "plaintext1 = 'computer science is the study of computers and computing, including their theoretical and algorithmic foundations, hardware and software, and their uses for processing information. The discipline of computer science includes the study of algorithms and data structures, computer and network design, modeling data and information processes, and artificial intelligence. Computer science draws some of its foundations from mathematics and engineering and therefore incorporates techniques from areas such as queueing theory, probability and statistics, and electronic circuit design. Computer science also makes heavy use of hypothesis testing and experimentation during the conceptualization, design, measurement, and refinement of new algorithms' "
      ],
      "metadata": {
        "id": "L74hZohl-hIJ"
      },
      "execution_count": null,
      "outputs": []
    },
    {
      "cell_type": "code",
      "source": [
        " plaintext2 = 'common sense is not so common'"
      ],
      "metadata": {
        "id": "AMh-3crh_dap"
      },
      "execution_count": null,
      "outputs": []
    },
    {
      "cell_type": "code",
      "source": [
        "def reverse_enc(plaintext_input):\n",
        "  reverse_cip = ''\n",
        "  i = len(plaintext_input) - 1\n",
        "  while i>= 0:\n",
        "    reverse_cip = reverse_cip + plaintext_input[i]\n",
        "    i = i - 1\n",
        "  return reverse_cip"
      ],
      "metadata": {
        "id": "Q4x-BQev_TNG"
      },
      "execution_count": 8,
      "outputs": []
    },
    {
      "cell_type": "code",
      "source": [
        "reverse_cip1 = reverse_enc(plaintext1)\n",
        "reverse_cip2 = reverse_enc(plaintext2)"
      ],
      "metadata": {
        "id": "7jW5nx-9EITq"
      },
      "execution_count": 9,
      "outputs": []
    },
    {
      "cell_type": "code",
      "source": [
        "reverse_cip1"
      ],
      "metadata": {
        "colab": {
          "base_uri": "https://localhost:8080/",
          "height": 88
        },
        "id": "1sRh3c8jEJmZ",
        "outputId": "6c79d5e0-68bb-44b5-95cf-1c952c6a8a24"
      },
      "execution_count": 10,
      "outputs": [
        {
          "output_type": "execute_result",
          "data": {
            "text/plain": [
              "'smhtirogla wen fo tnemenifer dna ,tnemerusaem ,ngised ,noitazilautpecnoc eht gnirud noitatnemirepxe dna gnitset sisehtopyh fo esu yvaeh sekam osla ecneics retupmoC .ngised tiucric cinortcele dna ,scitsitats dna ytilibaborp ,yroeht gnieueuq sa hcus saera morf seuqinhcet setaroprocni erofereht dna gnireenigne dna scitamehtam morf snoitadnuof sti fo emos sward ecneics retupmoC .ecnegilletni laicifitra dna ,sessecorp noitamrofni dna atad gniledom ,ngised krowten dna retupmoc ,serutcurts atad dna smhtirogla fo yduts eht sedulcni ecneics retupmoc fo enilpicsid ehT .noitamrofni gnissecorp rof sesu rieht dna ,erawtfos dna erawdrah ,snoitadnuof cimhtirogla dna laciteroeht rieht gnidulcni ,gnitupmoc dna sretupmoc fo yduts eht si ecneics retupmoc'"
            ],
            "application/vnd.google.colaboratory.intrinsic+json": {
              "type": "string"
            }
          },
          "metadata": {},
          "execution_count": 10
        }
      ]
    },
    {
      "cell_type": "code",
      "source": [
        "reverse_cip2"
      ],
      "metadata": {
        "colab": {
          "base_uri": "https://localhost:8080/",
          "height": 35
        },
        "id": "FubiPM8xEMuI",
        "outputId": "c28fa4a9-66d8-4673-8dbc-cbe4d5ea4f86"
      },
      "execution_count": 11,
      "outputs": [
        {
          "output_type": "execute_result",
          "data": {
            "text/plain": [
              "'nommoc os ton si esnes nommoc'"
            ],
            "application/vnd.google.colaboratory.intrinsic+json": {
              "type": "string"
            }
          },
          "metadata": {},
          "execution_count": 11
        }
      ]
    },
    {
      "cell_type": "code",
      "source": [
        "def reverse_dec(ciphertext_input):\n",
        "  reverse_plain = ''\n",
        "  i = len(ciphertext_input) - 1\n",
        "  while i >= 0:\n",
        "    reverse_plain = reverse_plain + ciphertext_input[i]\n",
        "    i = i - 1\n",
        "  return reverse_plain"
      ],
      "metadata": {
        "id": "fj_4Z_D9ERd_"
      },
      "execution_count": 15,
      "outputs": []
    },
    {
      "cell_type": "code",
      "source": [
        "rever_plain1 = reverse_dec(reverse_cip1)\n",
        "rever_plain2 = reverse_dec(reverse_cip2)"
      ],
      "metadata": {
        "id": "SurJ1FmTEUUI"
      },
      "execution_count": 14,
      "outputs": []
    },
    {
      "cell_type": "code",
      "source": [
        "rever_plain1"
      ],
      "metadata": {
        "colab": {
          "base_uri": "https://localhost:8080/",
          "height": 88
        },
        "id": "kiyMFTi1EX9L",
        "outputId": "680d79a4-8745-4553-fcbc-13a11f89431a"
      },
      "execution_count": 16,
      "outputs": [
        {
          "output_type": "execute_result",
          "data": {
            "text/plain": [
              "'computer science is the study of computers and computing, including their theoretical and algorithmic foundations, hardware and software, and their uses for processing information. The discipline of computer science includes the study of algorithms and data structures, computer and network design, modeling data and information processes, and artificial intelligence. Computer science draws some of its foundations from mathematics and engineering and therefore incorporates techniques from areas such as queueing theory, probability and statistics, and electronic circuit design. Computer science also makes heavy use of hypothesis testing and experimentation during the conceptualization, design, measurement, and refinement of new algorithms'"
            ],
            "application/vnd.google.colaboratory.intrinsic+json": {
              "type": "string"
            }
          },
          "metadata": {},
          "execution_count": 16
        }
      ]
    },
    {
      "cell_type": "code",
      "source": [
        "rever_plain2"
      ],
      "metadata": {
        "colab": {
          "base_uri": "https://localhost:8080/",
          "height": 35
        },
        "id": "OUR_hj2BEmqE",
        "outputId": "20a08214-36e8-4531-f65d-c5524f671e75"
      },
      "execution_count": 17,
      "outputs": [
        {
          "output_type": "execute_result",
          "data": {
            "text/plain": [
              "'common sense is not so common'"
            ],
            "application/vnd.google.colaboratory.intrinsic+json": {
              "type": "string"
            }
          },
          "metadata": {},
          "execution_count": 17
        }
      ]
    },
    {
      "cell_type": "markdown",
      "source": [
        "**Caesar Cipher**"
      ],
      "metadata": {
        "id": "w7alqLGdEss2"
      }
    },
    {
      "cell_type": "code",
      "source": [
        "Letters = 'abcdefghijklmnopqrstuvwxyz '"
      ],
      "metadata": {
        "id": "_DDZv7cSEwSM"
      },
      "execution_count": 18,
      "outputs": []
    },
    {
      "cell_type": "code",
      "source": [
        "def caesar_enc(plaintext_input, key_input):\n",
        "  caesar_cipher = ''\n",
        "  for token in plaintext_input:\n",
        "    if token in Letters:\n",
        "      num = Letters.find(token)\n",
        "      num_new = (num + key_input)%len(Letters)\n",
        "      caesar_cipher = caesar_cipher + Letters[num_new]\n",
        "  return caesar_cipher"
      ],
      "metadata": {
        "id": "2oVjba0AEy9c"
      },
      "execution_count": 19,
      "outputs": []
    },
    {
      "cell_type": "code",
      "source": [],
      "metadata": {
        "id": "iLg1NrcHE1n_"
      },
      "execution_count": null,
      "outputs": []
    }
  ]
}
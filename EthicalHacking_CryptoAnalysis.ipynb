{
  "nbformat": 4,
  "nbformat_minor": 0,
  "metadata": {
    "colab": {
      "provenance": [],
      "collapsed_sections": [],
      "authorship_tag": "ABX9TyM2C8px5tOsQ+T/t9D+AbYt",
      "include_colab_link": true
    },
    "kernelspec": {
      "name": "python3",
      "display_name": "Python 3"
    },
    "language_info": {
      "name": "python"
    }
  },
  "cells": [
    {
      "cell_type": "markdown",
      "metadata": {
        "id": "view-in-github",
        "colab_type": "text"
      },
      "source": [
        "<a href=\"https://colab.research.google.com/github/chaubeyarvind/DataAnalytics-NumPY/blob/main/EthicalHacking_CryptoAnalysis.ipynb\" target=\"_parent\"><img src=\"https://colab.research.google.com/assets/colab-badge.svg\" alt=\"Open In Colab\"/></a>"
      ]
    },
    {
      "cell_type": "markdown",
      "source": [
        "**Reverse Cipher**"
      ],
      "metadata": {
        "id": "AdYgRpLU-aR0"
      }
    },
    {
      "cell_type": "code",
      "source": [
        "plaintext1 = 'computer science is the study of computers and computing, including their theoretical and algorithmic foundations, hardware and software, and their uses for processing information. The discipline of computer science includes the study of algorithms and data structures, computer and network design, modeling data and information processes, and artificial intelligence. Computer science draws some of its foundations from mathematics and engineering and therefore incorporates techniques from areas such as queueing theory, probability and statistics, and electronic circuit design. Computer science also makes heavy use of hypothesis testing and experimentation during the conceptualization, design, measurement, and refinement of new algorithms' "
      ],
      "metadata": {
        "id": "L74hZohl-hIJ"
      },
      "execution_count": 1,
      "outputs": []
    },
    {
      "cell_type": "code",
      "source": [
        " plaintext2 = 'common sense is not so common'"
      ],
      "metadata": {
        "id": "AMh-3crh_dap"
      },
      "execution_count": 2,
      "outputs": []
    },
    {
      "cell_type": "code",
      "source": [
        "def reverse_enc(plaintext_input):\n",
        "  reverse_cip = ''\n",
        "  i = len(plaintext_input) - 1\n",
        "  while i>= 0:\n",
        "    reverse_cip = reverse_cip + plaintext_input[i]\n",
        "    i = i - 1\n",
        "  return reverse_cip"
      ],
      "metadata": {
        "id": "Q4x-BQev_TNG"
      },
      "execution_count": 3,
      "outputs": []
    },
    {
      "cell_type": "code",
      "source": [
        "reverse_cip1 = reverse_enc(plaintext1)\n",
        "reverse_cip2 = reverse_enc(plaintext2)"
      ],
      "metadata": {
        "id": "7jW5nx-9EITq"
      },
      "execution_count": 4,
      "outputs": []
    },
    {
      "cell_type": "code",
      "source": [
        "reverse_cip1"
      ],
      "metadata": {
        "colab": {
          "base_uri": "https://localhost:8080/",
          "height": 106
        },
        "id": "1sRh3c8jEJmZ",
        "outputId": "cde90372-3030-4015-e881-e462e8f5a26d"
      },
      "execution_count": 5,
      "outputs": [
        {
          "output_type": "execute_result",
          "data": {
            "text/plain": [
              "'smhtirogla wen fo tnemenifer dna ,tnemerusaem ,ngised ,noitazilautpecnoc eht gnirud noitatnemirepxe dna gnitset sisehtopyh fo esu yvaeh sekam osla ecneics retupmoC .ngised tiucric cinortcele dna ,scitsitats dna ytilibaborp ,yroeht gnieueuq sa hcus saera morf seuqinhcet setaroprocni erofereht dna gnireenigne dna scitamehtam morf snoitadnuof sti fo emos sward ecneics retupmoC .ecnegilletni laicifitra dna ,sessecorp noitamrofni dna atad gniledom ,ngised krowten dna retupmoc ,serutcurts atad dna smhtirogla fo yduts eht sedulcni ecneics retupmoc fo enilpicsid ehT .noitamrofni gnissecorp rof sesu rieht dna ,erawtfos dna erawdrah ,snoitadnuof cimhtirogla dna laciteroeht rieht gnidulcni ,gnitupmoc dna sretupmoc fo yduts eht si ecneics retupmoc'"
            ],
            "application/vnd.google.colaboratory.intrinsic+json": {
              "type": "string"
            }
          },
          "metadata": {},
          "execution_count": 5
        }
      ]
    },
    {
      "cell_type": "code",
      "source": [
        "reverse_cip2"
      ],
      "metadata": {
        "colab": {
          "base_uri": "https://localhost:8080/",
          "height": 35
        },
        "id": "FubiPM8xEMuI",
        "outputId": "5f013795-ea69-4347-b649-314aaa405696"
      },
      "execution_count": 6,
      "outputs": [
        {
          "output_type": "execute_result",
          "data": {
            "text/plain": [
              "'nommoc os ton si esnes nommoc'"
            ],
            "application/vnd.google.colaboratory.intrinsic+json": {
              "type": "string"
            }
          },
          "metadata": {},
          "execution_count": 6
        }
      ]
    },
    {
      "cell_type": "code",
      "source": [
        "def reverse_dec(ciphertext_input):\n",
        "  reverse_plain = ''\n",
        "  i = len(ciphertext_input) - 1\n",
        "  while i >= 0:\n",
        "    reverse_plain = reverse_plain + ciphertext_input[i]\n",
        "    i = i - 1\n",
        "  return reverse_plain"
      ],
      "metadata": {
        "id": "fj_4Z_D9ERd_"
      },
      "execution_count": 7,
      "outputs": []
    },
    {
      "cell_type": "code",
      "source": [
        "rever_plain1 = reverse_dec(reverse_cip1)\n",
        "rever_plain2 = reverse_dec(reverse_cip2)"
      ],
      "metadata": {
        "id": "SurJ1FmTEUUI"
      },
      "execution_count": 8,
      "outputs": []
    },
    {
      "cell_type": "code",
      "source": [
        "rever_plain1"
      ],
      "metadata": {
        "colab": {
          "base_uri": "https://localhost:8080/",
          "height": 106
        },
        "id": "kiyMFTi1EX9L",
        "outputId": "e5a2ddcc-fcf0-44b5-f905-aff08726d1d4"
      },
      "execution_count": 9,
      "outputs": [
        {
          "output_type": "execute_result",
          "data": {
            "text/plain": [
              "'computer science is the study of computers and computing, including their theoretical and algorithmic foundations, hardware and software, and their uses for processing information. The discipline of computer science includes the study of algorithms and data structures, computer and network design, modeling data and information processes, and artificial intelligence. Computer science draws some of its foundations from mathematics and engineering and therefore incorporates techniques from areas such as queueing theory, probability and statistics, and electronic circuit design. Computer science also makes heavy use of hypothesis testing and experimentation during the conceptualization, design, measurement, and refinement of new algorithms'"
            ],
            "application/vnd.google.colaboratory.intrinsic+json": {
              "type": "string"
            }
          },
          "metadata": {},
          "execution_count": 9
        }
      ]
    },
    {
      "cell_type": "code",
      "source": [
        "rever_plain2"
      ],
      "metadata": {
        "colab": {
          "base_uri": "https://localhost:8080/",
          "height": 35
        },
        "id": "OUR_hj2BEmqE",
        "outputId": "5c79c206-8454-47a7-d068-b45e037fe6bb"
      },
      "execution_count": 10,
      "outputs": [
        {
          "output_type": "execute_result",
          "data": {
            "text/plain": [
              "'common sense is not so common'"
            ],
            "application/vnd.google.colaboratory.intrinsic+json": {
              "type": "string"
            }
          },
          "metadata": {},
          "execution_count": 10
        }
      ]
    },
    {
      "cell_type": "markdown",
      "source": [
        "**Caesar Cipher**"
      ],
      "metadata": {
        "id": "w7alqLGdEss2"
      }
    },
    {
      "cell_type": "code",
      "source": [
        "Letters = 'abcdefghijklmnopqrstuvwxyz '"
      ],
      "metadata": {
        "id": "_DDZv7cSEwSM"
      },
      "execution_count": 11,
      "outputs": []
    },
    {
      "cell_type": "code",
      "source": [
        "def caesar_enc(plaintext_input, key_input):\n",
        "  caesar_cipher = ''\n",
        "  for token in plaintext_input:\n",
        "    if token in Letters:\n",
        "      num = Letters.find(token)\n",
        "      num_new = (num + key_input)%len(Letters)\n",
        "      caesar_cipher = caesar_cipher + Letters[num_new]\n",
        "  return caesar_cipher"
      ],
      "metadata": {
        "id": "2oVjba0AEy9c"
      },
      "execution_count": 12,
      "outputs": []
    },
    {
      "cell_type": "code",
      "source": [
        "def caesar_dec(ciphertext_input, key_input):\n",
        "  caesar_plain = ''\n",
        "  for token in ciphertext_input:\n",
        "    if token in Letters:\n",
        "      num = Letters.find(token)\n",
        "      num_new = (num - key_input)%len(Letters)\n",
        "      caesar_plain = caesar_plain + Letters[num_new]\n",
        "  return caesar_plain"
      ],
      "metadata": {
        "id": "iLg1NrcHE1n_"
      },
      "execution_count": 13,
      "outputs": []
    },
    {
      "cell_type": "code",
      "source": [
        "caesar_key = 12\n",
        "caesar_cip1 = caesar_enc(plaintext1, caesar_key)\n",
        "caesar_cip2 = caesar_enc(plaintext2, caesar_key)"
      ],
      "metadata": {
        "id": "CSPh-fyCF4ay"
      },
      "execution_count": 14,
      "outputs": []
    },
    {
      "cell_type": "code",
      "source": [
        "caesar_cip1"
      ],
      "metadata": {
        "colab": {
          "base_uri": "https://localhost:8080/",
          "height": 106
        },
        "id": "TbW-cfUyGkn-",
        "outputId": "676ee293-efc3-4e46-a710-a1ec2deb14c2"
      },
      "execution_count": 15,
      "outputs": [
        {
          "output_type": "execute_result",
          "data": {
            "text/plain": [
              "'o yafeqcldouqzoqludletqldefpjl rlo yafeqcdlmzplo yafeuzsluzoxfpuzsletqucletq cqeuomxlmzplmxs cuetyuolr fzpmeu zdltmcphmcqlmzpld rehmcqlmzpletquclfdqdlr clac oqdduzsluzr cymeu zltqlpudouaxuzql rlo yafeqcldouqzoqluzoxfpqdletqldefpjl rlmxs cuetydlmzplpmemldecfoefcqdlo yafeqclmzplzqeh cwlpqduszly pqxuzslpmemlmzpluzr cymeu zlac oqddqdlmzplmceuruoumxluzeqxxusqzoql yafeqcldouqzoqlpcmhdld yql rluedlr fzpmeu zdlrc ylymetqymeuodlmzplqzsuzqqcuzslmzpletqcqr cqluzo ca cmeqdleqotzubfqdlrc ylmcqmdldfotlmdlbfqfquzsletq cjlac nmnuxuejlmzpldemeudeuodlmzplqxqoec zuoloucofuelpqduszl yafeqcldouqzoqlmxd lymwqdltqmgjlfdql rltja etqdudleqdeuzslmzplqiaqcuyqzemeu zlpfcuzsletqlo zoqaefmxukmeu zlpqduszlyqmdfcqyqzelmzplcqruzqyqzel rlzqhlmxs cuetyd'"
            ],
            "application/vnd.google.colaboratory.intrinsic+json": {
              "type": "string"
            }
          },
          "metadata": {},
          "execution_count": 15
        }
      ]
    },
    {
      "cell_type": "code",
      "source": [
        "caesar_cip2"
      ],
      "metadata": {
        "colab": {
          "base_uri": "https://localhost:8080/",
          "height": 35
        },
        "id": "J1BfvlL8mGXR",
        "outputId": "7458733c-4636-4d1d-ad9a-3ceae5794d7b"
      },
      "execution_count": 16,
      "outputs": [
        {
          "output_type": "execute_result",
          "data": {
            "text/plain": [
              "'o yy zldqzdqludlz eld lo yy z'"
            ],
            "application/vnd.google.colaboratory.intrinsic+json": {
              "type": "string"
            }
          },
          "metadata": {},
          "execution_count": 16
        }
      ]
    },
    {
      "cell_type": "code",
      "source": [
        "caesar_pla1 = caesar_dec(caesar_cip1, caesar_key)\n",
        "caesar_pla2 = caesar_dec(caesar_cip2, caesar_key)"
      ],
      "metadata": {
        "id": "Bkfx3nGpGpvS"
      },
      "execution_count": 17,
      "outputs": []
    },
    {
      "cell_type": "code",
      "source": [
        "caesar_pla1"
      ],
      "metadata": {
        "colab": {
          "base_uri": "https://localhost:8080/",
          "height": 106
        },
        "id": "MIUH76MMmXtk",
        "outputId": "922b1e9c-3353-47cd-f490-a3d73a3518d2"
      },
      "execution_count": 18,
      "outputs": [
        {
          "output_type": "execute_result",
          "data": {
            "text/plain": [
              "'computer science is the study of computers and computing including their theoretical and algorithmic foundations hardware and software and their uses for processing information he discipline of computer science includes the study of algorithms and data structures computer and network design modeling data and information processes and artificial intelligence omputer science draws some of its foundations from mathematics and engineering and therefore incorporates techniques from areas such as queueing theory probability and statistics and electronic circuit design omputer science also makes heavy use of hypothesis testing and experimentation during the conceptualization design measurement and refinement of new algorithms'"
            ],
            "application/vnd.google.colaboratory.intrinsic+json": {
              "type": "string"
            }
          },
          "metadata": {},
          "execution_count": 18
        }
      ]
    },
    {
      "cell_type": "code",
      "source": [
        "caesar_pla2"
      ],
      "metadata": {
        "colab": {
          "base_uri": "https://localhost:8080/",
          "height": 35
        },
        "id": "g0Nihy9mmYeW",
        "outputId": "4f014a70-a242-4325-a7fd-1fa714290266"
      },
      "execution_count": 19,
      "outputs": [
        {
          "output_type": "execute_result",
          "data": {
            "text/plain": [
              "'common sense is not so common'"
            ],
            "application/vnd.google.colaboratory.intrinsic+json": {
              "type": "string"
            }
          },
          "metadata": {},
          "execution_count": 19
        }
      ]
    },
    {
      "cell_type": "markdown",
      "source": [
        "# Hack Caesar Cipher"
      ],
      "metadata": {
        "id": "gtMCDVzZHbGq"
      }
    },
    {
      "cell_type": "code",
      "source": [
        "for key_token in range(len(Letters)):\n",
        "  bf_result = caesar_dec(caesar_cip1, key_token)\n",
        "  print('Key is: ', key_token, 'Possible Plaintext is: ', bf_result, '\\n')"
      ],
      "metadata": {
        "colab": {
          "base_uri": "https://localhost:8080/"
        },
        "id": "xsdkTQLQHMRY",
        "outputId": "83050ecc-c478-47df-bb37-7e7cee6c9e30"
      },
      "execution_count": 20,
      "outputs": [
        {
          "output_type": "stream",
          "name": "stdout",
          "text": [
            "Key is:  0 Possible Plaintext is:  o yafeqcldouqzoqludletqldefpjl rlo yafeqcdlmzplo yafeuzsluzoxfpuzsletqucletq cqeuomxlmzplmxs cuetyuolr fzpmeu zdltmcphmcqlmzpld rehmcqlmzpletquclfdqdlr clac oqdduzsluzr cymeu zltqlpudouaxuzql rlo yafeqcldouqzoqluzoxfpqdletqldefpjl rlmxs cuetydlmzplpmemldecfoefcqdlo yafeqclmzplzqeh cwlpqduszly pqxuzslpmemlmzpluzr cymeu zlac oqddqdlmzplmceuruoumxluzeqxxusqzoql yafeqcldouqzoqlpcmhdld yql rluedlr fzpmeu zdlrc ylymetqymeuodlmzplqzsuzqqcuzslmzpletqcqr cqluzo ca cmeqdleqotzubfqdlrc ylmcqmdldfotlmdlbfqfquzsletq cjlac nmnuxuejlmzpldemeudeuodlmzplqxqoec zuoloucofuelpqduszl yafeqcldouqzoqlmxd lymwqdltqmgjlfdql rltja etqdudleqdeuzslmzplqiaqcuyqzemeu zlpfcuzsletqlo zoqaefmxukmeu zlpqduszlyqmdfcqyqzelmzplcqruzqyqzel rlzqhlmxs cuetyd \n",
            "\n",
            "Key is:  1 Possible Plaintext is:  nzx edpbkcntpynpktckdspkcdeoikzqknzx edpbcklyoknzx edtyrktynweotyrkdsptbkdspzbpdtnlwklyoklwrzbtdsxtnkqzeyoldtzyckslboglbpklyokczqdglbpklyokdsptbkecpckqzbk bznpcctyrktyqzbxldtzykspkotcnt wtypkzqknzx edpbkcntpynpktynweopckdspkcdeoikzqklwrzbtdsxcklyokoldlkcdbendebpcknzx edpbklyokypdgzbvkopctrykxzopwtyrkoldlklyoktyqzbxldtzyk bznpccpcklyoklbdtqtntlwktydpwwtrpynpkzx edpbkcntpynpkoblgckczxpkzqktdckqzeyoldtzyckqbzxkxldspxldtncklyokpyrtyppbtyrklyokdspbpqzbpktynzb zbldpckdpnsytaepckqbzxklbplckcensklckaepeptyrkdspzbik bzmlmtwtdiklyokcdldtcdtncklyokpwpndbzytnkntbnetdkopctrykzx edpbkcntpynpklwczkxlvpcksplfikecpkzqksi zdspctckdpcdtyrklyokph pbtxpydldtzykoebtyrkdspknzynp delwtjldtzykopctrykxplcebpxpydklyokbpqtypxpydkzqkypgklwrzbtdsxc \n",
            "\n",
            "Key is:  2 Possible Plaintext is:  mywzdcoajbmsoxmojsbjcrojbcdnhjypjmywzdcoabjkxnjmywzdcsxqjsxmvdnsxqjcrosajcroyaocsmkvjkxnjkvqyascrwsmjpydxnkcsyxbjrkanfkaojkxnjbypcfkaojkxnjcrosajdbobjpyajzaymobbsxqjsxpyawkcsyxjrojnsbmszvsxojypjmywzdcoajbmsoxmojsxmvdnobjcrojbcdnhjypjkvqyascrwbjkxnjnkckjbcadmcdaobjmywzdcoajkxnjxocfyaujnobsqxjwynovsxqjnkckjkxnjsxpyawkcsyxjzaymobbobjkxnjkacspsmskvjsxcovvsqoxmojywzdcoajbmsoxmojnakfbjbywojypjscbjpydxnkcsyxbjpaywjwkcrowkcsmbjkxnjoxqsxooasxqjkxnjcroaopyaojsxmyazyakcobjcomrxs dobjpaywjkaokbjbdmrjkbj dodosxqjcroyahjzaylklsvschjkxnjbckcsbcsmbjkxnjovomcayxsmjmsamdscjnobsqxjywzdcoajbmsoxmojkvbyjwkuobjrokehjdbojypjrhzycrobsbjcobcsxqjkxnjogzoaswoxckcsyxjndasxqjcrojmyxmozcdkvsikcsyxjnobsqxjwokbdaowoxcjkxnjaopsxowoxcjypjxofjkvqyascrwb \n",
            "\n",
            "Key is:  3 Possible Plaintext is:  lxvycbn ialrnwlniraibqniabcmgixoilxvycbn aijwmilxvycbrwpirwlucmrwpibqnr ibqnx nbrljuijwmijupx rbqvrlioxcwmjbrxwaiqj mej nijwmiaxobej nijwmibqnr icanaiox iy xlnaarwpirwox vjbrxwiqnimralryurwnixoilxvycbn ialrnwlnirwlucmnaibqniabcmgixoijupx rbqvaijwmimjbjiab clbc nailxvycbn ijwmiwnbex timnarpwivxmnurwpimjbjijwmirwox vjbrxwiy xlnaanaijwmij brorlrjuirwbnuurpnwlnixvycbn ialrnwlnim jeaiaxvnixoirbaioxcwmjbrxwaio xvivjbqnvjbrlaijwminwprwnn rwpijwmibqn nox nirwlx yx jbnaibnlqwrzcnaio xvij njaiaclqijaizcncnrwpibqnx giy xkjkrurbgijwmiabjbrabrlaijwminunlb xwrlilr lcrbimnarpwixvycbn ialrnwlnijuaxivjtnaiqnjdgicanixoiqgyxbqnaraibnabrwpijwminfyn rvnwbjbrxwimc rwpibqnilxwlnybcjurhjbrxwimnarpwivnjac nvnwbijwmi norwnvnwbixoiwneijupx rbqva \n",
            "\n",
            "Key is:  4 Possible Plaintext is:  kwuxbamzh kqmvkmhq hapmh ablfhwnhkwuxbamz hivlhkwuxbaqvohqvktblqvohapmqzhapmwzmaqkithivlhitowzqapuqkhnwbvliaqwv hpizldizmhivlh wnadizmhivlhapmqzhb m hnwzhxzwkm  qvohqvnwzuiaqwvhpmhlq kqxtqvmhwnhkwuxbamzh kqmvkmhqvktblm hapmh ablfhwnhitowzqapu hivlhliaih azbkabzm hkwuxbamzhivlhvmadwzshlm qovhuwlmtqvohliaihivlhqvnwzuiaqwvhxzwkm  m hivlhizaqnqkqithqvamttqomvkmhwuxbamzh kqmvkmhlzid h wumhwnhqa hnwbvliaqwv hnzwuhuiapmuiaqk hivlhmvoqvmmzqvohivlhapmzmnwzmhqvkwzxwziam hamkpvqybm hnzwuhizmi h bkphi hybmbmqvohapmwzfhxzwjijqtqafhivlh aiaq aqk hivlhmtmkazwvqkhkqzkbqahlm qovhwuxbamzh kqmvkmhit whuism hpmicfhb mhwnhpfxwapm q ham aqvohivlhmexmzqumvaiaqwvhlbzqvohapmhkwvkmxabitqgiaqwvhlm qovhumi bzmumvahivlhzmnqvmumvahwnhvmdhitowzqapu  \n",
            "\n",
            "Key is:  5 Possible Plaintext is:  jvtwa lygzjplujlgpzg olgz akegvmgjvtwa lyzghukgjvtwa pungpujsakpung olpyg olvyl pjhsghukghsnvyp otpjgmvaukh pvuzgohykchylghukgzvm chylghukg olpygazlzgmvygwyvjlzzpungpumvyth pvugolgkpzjpwspulgvmgjvtwa lygzjplujlgpujsaklzg olgz akegvmghsnvyp otzghukgkh hgz yaj aylzgjvtwa lyghukgul cvyrgklzpnugtvklspungkh hghukgpumvyth pvugwyvjlzzlzghukghy pmpjphsgpu lsspnlujlgvtwa lygzjplujlgkyhczgzvtlgvmgp zgmvaukh pvuzgmyvtgth olth pjzghukglunpullypunghukg olylmvylgpujvywvyh lzg ljoupxalzgmyvtghylhzgzajoghzgxalalpung olvyegwyvihipsp eghukgz h pz pjzghukglslj yvupjgjpyjap gklzpnugvtwa lygzjplujlghszvgthrlzgolhbegazlgvmgoewv olzpzg lz punghukgldwlyptlu h pvugkaypung olgjvujlw ahspfh pvugklzpnugtlhzayltlu ghukgylmpultlu gvmgulcghsnvyp otz \n",
            "\n",
            "Key is:  6 Possible Plaintext is:  iusv zkxfyioktikfoyfznkfyz jdfulfiusv zkxyfgtjfiusv zotmfotir jotmfznkoxfznkuxkzoigrfgtjfgrmuxoznsoiflu tjgzoutyfngxjbgxkfgtjfyulzbgxkfgtjfznkoxf ykyfluxfvxuikyyotmfotluxsgzoutfnkfjoyiovrotkfulfiusv zkxfyioktikfotir jkyfznkfyz jdfulfgrmuxoznsyfgtjfjgzgfyzx iz xkyfiusv zkxfgtjftkzbuxqfjkyomtfsujkrotmfjgzgfgtjfotluxsgzoutfvxuikyykyfgtjfgxzoloiogrfotzkrromktikfusv zkxfyioktikfjxgbyfyuskfulfozyflu tjgzoutyflxusfsgznksgzoiyfgtjfktmotkkxotmfgtjfznkxkluxkfotiuxvuxgzkyfzkintow kyflxusfgxkgyfy infgyfw k kotmfznkuxdfvxuhghorozdfgtjfyzgzoyzoiyfgtjfkrkizxutoifioxi ozfjkyomtfusv zkxfyioktikfgryufsgqkyfnkgadf ykfulfndvuznkyoyfzkyzotmfgtjfkcvkxosktzgzoutfj xotmfznkfiutikvz groegzoutfjkyomtfskgy xksktzfgtjfxklotksktzfulftkbfgrmuxoznsy \n",
            "\n",
            "Key is:  7 Possible Plaintext is:  htruzyjwexhnjshjenxeymjexyzicetkehtruzyjwxefsiehtruzynslenshqzinsleymjnweymjtwjynhfqefsiefqltwnymrnhektzsifyntsxemfwiafwjefsiextkyafwjefsieymjnwezxjxektweuwthjxxnslensktwrfyntsemjeinxhnuqnsjetkehtruzyjwexhnjshjenshqzijxeymjexyzicetkefqltwnymrxefsieifyfexywzhyzwjxehtruzyjwefsiesjyatwpeijxnlsertijqnsleifyfefsiensktwrfyntseuwthjxxjxefsiefwynknhnfqensyjqqnljshjetruzyjwexhnjshjeiwfaxextrjetkenyxektzsifyntsxekwtrerfymjrfynhxefsiejslnsjjwnslefsieymjwjktwjenshtwutwfyjxeyjhmsnvzjxekwtrefwjfxexzhmefxevzjzjnsleymjtwceuwtgfgnqnycefsiexyfynxynhxefsiejqjhywtsnhehnwhznyeijxnlsetruzyjwexhnjshjefqxterfpjxemjf cezxjetkemcutymjxnxeyjxynslefsiejbujwnrjsyfyntseizwnsleymjehtshjuyzfqndfyntseijxnlserjfxzwjrjsyefsiewjknsjrjsyetkesjaefqltwnymrx \n",
            "\n",
            "Key is:  8 Possible Plaintext is:  gsqtyxivdwgmirgidmwdxlidwxyhbdsjdgsqtyxivwderhdgsqtyxmrkdmrgpyhmrkdxlimvdxlisvixmgepderhdepksvmxlqmgdjsyrhexmsrwdlevh eviderhdwsjx eviderhdxlimvdywiwdjsvdtvsgiwwmrkdmrjsvqexmsrdlidhmwgmtpmridsjdgsqtyxivdwgmirgidmrgpyhiwdxlidwxyhbdsjdepksvmxlqwderhdhexedwxvygxyviwdgsqtyxivderhdrix svodhiwmkrdqshipmrkdhexederhdmrjsvqexmsrdtvsgiwwiwderhdevxmjmgmepdmrxippmkirgidsqtyxivdwgmirgidhve wdwsqidsjdmxwdjsyrhexmsrwdjvsqdqexliqexmgwderhdirkmriivmrkderhdxlivijsvidmrgsvtsvexiwdxiglrmuyiwdjvsqdeviewdwygldewduyiyimrkdxlisvbdtvsfefmpmxbderhdwxexmwxmgwderhdipigxvsrmgdgmvgymxdhiwmkrdsqtyxivdwgmirgidepwsdqeoiwdliezbdywidsjdlbtsxliwmwdxiwxmrkderhdiativmqirxexmsrdhyvmrkdxlidgsrgitxyepmcexmsrdhiwmkrdqiewyviqirxderhdvijmriqirxdsjdri depksvmxlqw \n",
            "\n",
            "Key is:  9 Possible Plaintext is:  frpsxwhucvflhqfhclvcwkhcvwxgacricfrpsxwhuvcdqgcfrpsxwlqjclqfoxglqjcwkhlucwkhruhwlfdocdqgcdojrulwkplfcirxqgdwlrqvckdugzduhcdqgcvriwzduhcdqgcwkhlucxvhvcirucsurfhvvlqjclqirupdwlrqckhcglvflsolqhcricfrpsxwhucvflhqfhclqfoxghvcwkhcvwxgacricdojrulwkpvcdqgcgdwdcvwuxfwxuhvcfrpsxwhucdqgcqhwzruncghvljqcprgholqjcgdwdcdqgclqirupdwlrqcsurfhvvhvcdqgcduwlilfldoclqwhooljhqfhcrpsxwhucvflhqfhcgudzvcvrphcriclwvcirxqgdwlrqvciurpcpdwkhpdwlfvcdqgchqjlqhhulqjcdqgcwkhuhiruhclqfrusrudwhvcwhfkqltxhvciurpcduhdvcvxfkcdvctxhxhlqjcwkhruacsuredelolwacdqgcvwdwlvwlfvcdqgchohfwurqlfcflufxlwcghvljqcrpsxwhucvflhqfhcdovrcpdnhvckhdyacxvhcrickasrwkhvlvcwhvwlqjcdqgch shulphqwdwlrqcgxulqjcwkhcfrqfhswxdolbdwlrqcghvljqcphdvxuhphqwcdqgcuhilqhphqwcricqhzcdojrulwkpv \n",
            "\n",
            "Key is:  10 Possible Plaintext is:  eqorwvgtbuekgpegbkubvjgbuvwf bqhbeqorwvgtubcpfbeqorwvkpibkpenwfkpibvjgktbvjgqtgvkecnbcpfbcniqtkvjokebhqwpfcvkqpubjctfyctgbcpfbuqhvyctgbcpfbvjgktbwugubhqtbrtqeguukpibkphqtocvkqpbjgbfkuekrnkpgbqhbeqorwvgtbuekgpegbkpenwfgubvjgbuvwf bqhbcniqtkvjoubcpfbfcvcbuvtwevwtgubeqorwvgtbcpfbpgvyqtmbfgukipboqfgnkpibfcvcbcpfbkphqtocvkqpbrtqeguugubcpfbctvkhkekcnbkpvgnnkigpegbqorwvgtbuekgpegbftcyubuqogbqhbkvubhqwpfcvkqpubhtqobocvjgocvkeubcpfbgpikpggtkpibcpfbvjgtghqtgbkpeqtrqtcvgubvgejpkswgubhtqobctgcubuwejbcubswgwgkpibvjgqt brtqdcdknkv bcpfbuvcvkuvkeubcpfbgngevtqpkebektewkvbfgukipbqorwvgtbuekgpegbcnuqbocmgubjgcx bwugbqhbj rqvjgukubvguvkpibcpfbgzrgtkogpvcvkqpbfwtkpibvjgbeqpegrvwcnkacvkqpbfgukipbogcuwtgogpvbcpfbtghkpgogpvbqhbpgybcniqtkvjou \n",
            "\n",
            "Key is:  11 Possible Plaintext is:  dpnqvufsatdjfodfajtauifatuvezapgadpnqvufstaboeadpnqvujohajodmvejohauifjsauifpsfujdbmaboeabmhpsjuinjdagpvoebujpotaibsexbsfaboeatpguxbsfaboeauifjsavtftagpsaqspdfttjohajogpsnbujpoaifaejtdjqmjofapgadpnqvufsatdjfodfajodmveftauifatuvezapgabmhpsjuintaboeaebubatusvduvsftadpnqvufsaboeaofuxpslaeftjhoanpefmjohaebubaboeajogpsnbujpoaqspdfttftaboeabsujgjdjbmajoufmmjhfodfapnqvufsatdjfodfaesbxtatpnfapgajutagpvoebujpotagspnanbuifnbujdtaboeafohjoffsjohaboeauifsfgpsfajodpsqpsbuftaufdiojrvftagspnabsfbtatvdiabtarvfvfjohauifpszaqspcbcjmjuzaboeatubujtujdtaboeafmfduspojdadjsdvjuaeftjhoapnqvufsatdjfodfabmtpanblftaifbwzavtfapgaizqpuiftjtauftujohaboeafyqfsjnfoubujpoaevsjohauifadpodfquvbmj bujpoaeftjhoanfbtvsfnfouaboeasfgjofnfouapgaofxabmhpsjuint \n",
            "\n",
            "Key is:  12 Possible Plaintext is:  computer science is the study of computers and computing including their theoretical and algorithmic foundations hardware and software and their uses for processing information he discipline of computer science includes the study of algorithms and data structures computer and network design modeling data and information processes and artificial intelligence omputer science draws some of its foundations from mathematics and engineering and therefore incorporates techniques from areas such as queueing theory probability and statistics and electronic circuit design omputer science also makes heavy use of hypothesis testing and experimentation during the conceptualization design measurement and refinement of new algorithms \n",
            "\n",
            "Key is:  13 Possible Plaintext is:  bnlotsdqzrbhdmbdzhrzsgdzrstcxznezbnlotsdqrz mczbnlotshmfzhmbktchmfzsgdhqzsgdnqdshb kz mcz kfnqhsglhbzentmc shnmrzg qcv qdz mczrnesv qdz mczsgdhqztrdrzenqzoqnbdrrhmfzhmenql shnmzgdzchrbhokhmdznezbnlotsdqzrbhdmbdzhmbktcdrzsgdzrstcxznez kfnqhsglrz mczc s zrsqtbstqdrzbnlotsdqz mczmdsvnqjzcdrhfmzlncdkhmfzc s z mczhmenql shnmzoqnbdrrdrz mcz qshehbh kzhmsdkkhfdmbdznlotsdqzrbhdmbdzcq vrzrnldznezhsrzentmc shnmrzeqnlzl sgdl shbrz mczdmfhmddqhmfz mczsgdqdenqdzhmbnqonq sdrzsdbgmhptdrzeqnlz qd rzrtbgz rzptdtdhmfzsgdnqxzoqna ahkhsxz mczrs shrshbrz mczdkdbsqnmhbzbhqbthszcdrhfmznlotsdqzrbhdmbdz krnzl jdrzgd uxztrdznezgxonsgdrhrzsdrshmfz mczdwodqhldms shnmzctqhmfzsgdzbnmbdost khy shnmzcdrhfmzld rtqdldmsz mczqdehmdldmsznezmdvz kfnqhsglr \n",
            "\n",
            "Key is:  14 Possible Plaintext is:  amknsrcpyqagclacygqyrfcyqrsbwymdyamknsrcpqyzlbyamknsrgleyglajsbgleyrfcgpyrfcmpcrgazjyzlbyzjempgrfkgaydmslbzrgmlqyfzpbuzpcyzlbyqmdruzpcyzlbyrfcgpysqcqydmpynpmacqqgleygldmpkzrgmlyfcybgqagnjglcymdyamknsrcpyqagclacyglajsbcqyrfcyqrsbwymdyzjempgrfkqyzlbybzrzyqrpsarspcqyamknsrcpyzlbylcrumpiybcqgelykmbcjgleybzrzyzlbygldmpkzrgmlynpmacqqcqyzlbyzprgdgagzjyglrcjjgeclacymknsrcpyqagclacybpzuqyqmkcymdygrqydmslbzrgmlqydpmkykzrfckzrgaqyzlbycleglccpgleyzlbyrfcpcdmpcyglampnmpzrcqyrcaflgoscqydpmkyzpczqyqsafyzqyoscscgleyrfcmpwynpm z gjgrwyzlbyqrzrgqrgaqyzlbycjcarpmlgayagpasgrybcqgelymknsrcpyqagclacyzjqmykzicqyfcztwysqcymdyfwnmrfcqgqyrcqrgleyzlbycvncpgkclrzrgmlybspgleyrfcyamlacnrszjgxzrgmlybcqgelykczqspckclryzlbypcdglckclrymdylcuyzjempgrfkq \n",
            "\n",
            "Key is:  15 Possible Plaintext is:   ljmrqboxp fbk bxfpxqebxpqravxlcx ljmrqbopxykax ljmrqfkdxfk irafkdxqebfoxqeblobqf yixykaxyidlofqejf xclrkayqflkpxeyoatyobxykaxplcqtyobxykaxqebfoxrpbpxcloxmol bppfkdxfkclojyqflkxebxafp fmifkbxlcx ljmrqboxp fbk bxfk irabpxqebxpqravxlcxyidlofqejpxykaxayqyxpqor qrobpx ljmrqboxykaxkbqtlohxabpfdkxjlabifkdxayqyxykaxfkclojyqflkxmol bppbpxykaxyoqfcf fyixfkqbiifdbk bxljmrqboxp fbk bxaoytpxpljbxlcxfqpxclrkayqflkpxcoljxjyqebjyqf pxykaxbkdfkbbofkdxykaxqebobclobxfk lomloyqbpxqb ekfnrbpxcoljxyobypxpr exypxnrbrbfkdxqeblovxmolzyzfifqvxykaxpqyqfpqf pxykaxbib qolkf x fo rfqxabpfdkxljmrqboxp fbk bxyiplxjyhbpxebysvxrpbxlcxevmlqebpfpxqbpqfkdxykaxbumbofjbkqyqflkxarofkdxqebx lk bmqryifwyqflkxabpfdkxjbyprobjbkqxykaxobcfkbjbkqxlcxkbtxyidlofqejp \n",
            "\n",
            "Key is:  16 Possible Plaintext is:  zkilqpanwozeajzaweowpdawopq uwkbwzkilqpanowxj wzkilqpejcwejzhq ejcwpdaenwpdaknapezxhwxj wxhcknepdiezwbkqj xpekjowdxn sxnawxj wokbpsxnawxj wpdaenwqoaowbknwlnkzaooejcwejbknixpekjwdaw eozelhejawkbwzkilqpanwozeajzawejzhq aowpdawopq uwkbwxhcknepdiowxj w xpxwopnqzpqnaowzkilqpanwxj wjapskngw aoecjwik ahejcw xpxwxj wejbknixpekjwlnkzaooaowxj wxnpebezexhwejpahhecajzawkilqpanwozeajzaw nxsowokiawkbwepowbkqj xpekjowbnkiwixpdaixpezowxj wajcejaanejcwxj wpdanabknawejzknlknxpaowpazdjemqaowbnkiwxnaxowoqzdwxowmqaqaejcwpdaknuwlnkyxyehepuwxj wopxpeopezowxj wahazpnkjezwzenzqepw aoecjwkilqpanwozeajzawxhokwixgaowdaxruwqoawkbwdulkpdaoeowpaopejcwxj watlaneiajpxpekjw qnejcwpdawzkjzalpqxhevxpekjw aoecjwiaxoqnaiajpwxj wnabejaiajpwkbwjaswxhcknepdio \n",
            "\n",
            "Key is:  17 Possible Plaintext is:  yjhkpo mvnyd iy vdnvoc vnopztvjavyjhkpo mnvwizvyjhkpodibvdiygpzdibvoc dmvoc jm odywgvwizvwgbjmdochdyvajpizwodjinvcwmzrwm vwizvnjaorwm vwizvoc dmvpn nvajmvkmjy nndibvdiajmhwodjivc vzdnydkgdi vjavyjhkpo mvnyd iy vdiygpz nvoc vnopztvjavwgbjmdochnvwizvzwowvnompyopm nvyjhkpo mvwizvi orjmfvz ndbivhjz gdibvzwowvwizvdiajmhwodjivkmjy nn nvwizvwmodadydwgvdio ggdb iy vjhkpo mvnyd iy vzmwrnvnjh vjavdonvajpizwodjinvamjhvhwoc hwodynvwizv ibdi  mdibvwizvoc m ajm vdiyjmkjmwo nvo ycidlp nvamjhvwm wnvnpycvwnvlp p dibvoc jmtvkmjxwxdgdotvwizvnowodnodynvwizv g yomjidyvydmypdovz ndbivjhkpo mvnyd iy vwgnjvhwf nvc wqtvpn vjavctkjoc ndnvo nodibvwizv sk mdh iowodjivzpmdibvoc vyjiy kopwgduwodjivz ndbivh wnpm h iovwizvm adi h iovjavi rvwgbjmdochn \n",
            "\n",
            "Key is:  18 Possible Plaintext is:  xigjonzlumxczhxzucmunbzumnoysui uxigjonzlmuvhyuxigjonchauchxfoychaunbzclunbzilzncxvfuvhyuvfailcnbgcxu iohyvncihmubvlyqvlzuvhyumi nqvlzuvhyunbzcluomzmu ilujlixzmmchauch ilgvncihubzuycmxcjfchzui uxigjonzlumxczhxzuchxfoyzmunbzumnoysui uvfailcnbgmuvhyuyvnvumnloxnolzmuxigjonzluvhyuhznqileuyzmcahugiyzfchauyvnvuvhyuch ilgvncihujlixzmmzmuvhyuvlnc cxcvfuchnzffcazhxzuigjonzlumxczhxzuylvqmumigzui ucnmu iohyvncihmu ligugvnbzgvncxmuvhyuzhachzzlchauvhyunbzlz ilzuchxiljilvnzmunzxbhckozmu liguvlzvmumoxbuvmukozozchaunbzilsujliwvwcfcnsuvhyumnvncmncxmuvhyuzfzxnlihcxuxclxocnuyzmcahuigjonzlumxczhxzuvfmiugvezmubzvpsuomzui ubsjinbzmcmunzmnchauvhyuzrjzlcgzhnvncihuyolchaunbzuxihxzjnovfctvncihuyzmcahugzvmolzgzhnuvhyulz chzgzhnui uhzquvfailcnbgm \n",
            "\n",
            "Key is:  19 Possible Plaintext is:  whfinmyktlwbygwytbltmaytlmnxrthztwhfinmykltugxtwhfinmbg tbgwenxbg tmaybktmayhkymbwuetugxtue hkbmafbwtzhngxumbhgltaukxpukytugxtlhzmpukytugxtmaybktnlyltzhktikhwyllbg tbgzhkfumbhgtaytxblwbiebgythztwhfinmyktlwbygwytbgwenxyltmaytlmnxrthztue hkbmafltugxtxumutlmknwmnkyltwhfinmyktugxtgymphkdtxylb gtfhxyebg txumutugxtbgzhkfumbhgtikhwyllyltugxtukmbzbwbuetbgmyeeb ygwythfinmyktlwbygwytxkupltlhfythztbmltzhngxumbhgltzkhftfumayfumbwltugxtyg bgyykbg tugxtmaykyzhkytbgwhkihkumyltmywagbjnyltzkhftukyultlnwatultjnynybg tmayhkrtikhvuvbebmrtugxtlmumblmbwltugxtyeywmkhgbwtwbkwnbmtxylb gthfinmyktlwbygwytuelhtfudyltayuortnlythztarihmaylbltmylmbg tugxtyqiykbfygmumbhgtxnkbg tmaytwhgwyimnuebsumbhgtxylb gtfyulnkyfygmtugxtkyzbgyfygmthztgyptue hkbmafl \n",
            "\n",
            "Key is:  20 Possible Plaintext is:  vgehmlxjskvaxfvxsaksl xsklmwqsgysvgehmlxjkstfwsvgehmlafzsafvdmwafzsl xajsl xgjxlavtdstfwstdzgjal eavsygmfwtlagfks tjwotjxstfwskgylotjxstfwsl xajsmkxksygjshjgvxkkafzsafygjetlagfs xswakvahdafxsgysvgehmlxjskvaxfvxsafvdmwxksl xsklmwqsgystdzgjal ekstfwswtltskljmvlmjxksvgehmlxjstfwsfxlogjcswxkazfsegwxdafzswtltstfwsafygjetlagfshjgvxkkxkstfwstjlayavatdsaflxddazxfvxsgehmlxjskvaxfvxswjtokskgexsgysalksygmfwtlagfksyjgesetl xetlavkstfwsxfzafxxjafzstfwsl xjxygjxsafvgjhgjtlxkslxv faimxksyjgestjxtkskmv stksimxmxafzsl xgjqshjgutuadalqstfwskltlaklavkstfwsxdxvljgfavsvajvmalswxkazfsgehmlxjskvaxfvxstdkgsetcxks xtnqsmkxsgys qhgl xkakslxklafzstfwsxphxjaexfltlagfswmjafzsl xsvgfvxhlmtdartlagfswxkazfsextkmjxexflstfwsjxyafxexflsgysfxostdzgjal ek \n",
            "\n",
            "Key is:  21 Possible Plaintext is:  ufdglkwirju weuwr jrkzwrjklvprfxrufdglkwijrsevrufdglk eyr euclv eyrkzw irkzwfiwk uscrsevrscyfi kzd urxflevsk fejrzsivnsiwrsevrjfxknsiwrsevrkzw irljwjrxfirgifuwjj eyr exfidsk ferzwrv ju gc ewrfxrufdglkwirju weuwr euclvwjrkzwrjklvprfxrscyfi kzdjrsevrvsksrjkilukliwjrufdglkwirsevrewknfibrvwj yerdfvwc eyrvsksrsevr exfidsk fergifuwjjwjrsevrsik x u scr ekwcc yweuwrfdglkwirju weuwrvisnjrjfdwrfxr kjrxflevsk fejrxifdrdskzwdsk ujrsevrwey ewwi eyrsevrkzwiwxfiwr eufigfiskwjrkwuze hlwjrxifdrsiwsjrjluzrsjrhlwlw eyrkzwfiprgiftst c kprsevrjksk jk ujrsevrwcwukife uru iul krvwj yerfdglkwirju weuwrscjfrdsbwjrzwsmprljwrfxrzpgfkzwj jrkwjk eyrsevrwogwi dweksk fervli eyrkzwrufeuwgklsc qsk fervwj yerdwsjliwdwekrsevriwx ewdwekrfxrewnrscyfi kzdj \n",
            "\n",
            "Key is:  22 Possible Plaintext is:  tecfkjvhqitzvdtvqziqjyvqijkuoqewqtecfkjvhiqrduqtecfkjzdxqzdtbkuzdxqjyvzhqjyvehvjztrbqrduqrbxehzjycztqwekdurjzediqyrhumrhvqrduqiewjmrhvqrduqjyvzhqkiviqwehqfhetviizdxqzdwehcrjzedqyvquzitzfbzdvqewqtecfkjvhqitzvdtvqzdtbkuviqjyvqijkuoqewqrbxehzjyciqrduqurjrqijhktjkhviqtecfkjvhqrduqdvjmehaquvizxdqceuvbzdxqurjrqrduqzdwehcrjzedqfhetviiviqrduqrhjzwztzrbqzdjvbbzxvdtvqecfkjvhqitzvdtvquhrmiqiecvqewqzjiqwekdurjzediqwhecqcrjyvcrjztiqrduqvdxzdvvhzdxqrduqjyvhvwehvqzdtehfehrjviqjvtydzgkviqwhecqrhvriqiktyqriqgkvkvzdxqjyvehoqfhesrszbzjoqrduqijrjzijztiqrduqvbvtjhedztqtzhtkzjquvizxdqecfkjvhqitzvdtvqrbieqcraviqyvrloqkivqewqyofejyviziqjvijzdxqrduqvnfvhzcvdjrjzedqukhzdxqjyvqtedtvfjkrbzprjzedquvizxdqcvrikhvcvdjqrduqhvwzdvcvdjqewqdvmqrbxehzjyci \n",
            "\n",
            "Key is:  23 Possible Plaintext is:  sdbejiugphsyucsupyhpixuphijtnpdvpsdbejiughpqctpsdbejiycwpycsajtycwpixuygpixudguiysqapqctpqawdgyixbyspvdjctqiydchpxqgtlqgupqctphdvilqgupqctpixuygpjhuhpvdgpegdsuhhycwpycvdgbqiydcpxuptyhsyeaycupdvpsdbejiugphsyucsupycsajtuhpixuphijtnpdvpqawdgyixbhpqctptqiqphigjsijguhpsdbejiugpqctpcuildg ptuhywcpbdtuaycwptqiqpqctpycvdgbqiydcpegdsuhhuhpqctpqgiyvysyqapyciuaaywucsupdbejiugphsyucsuptgqlhphdbupdvpyihpvdjctqiydchpvgdbpbqixubqiyshpqctpucwycuugycwpqctpixuguvdgupycsdgedgqiuhpiusxcyfjuhpvgdbpqguqhphjsxpqhpfjujuycwpixudgnpegdrqryayinpqctphiqiyhiyshpqctpuausigdcyspsygsjyiptuhywcpdbejiugphsyucsupqahdpbq uhpxuqknpjhupdvpxnedixuhyhpiuhiycwpqctpumeugybuciqiydcptjgycwpixupsdcsueijqayoqiydcptuhywcpbuqhjgubucipqctpguvycubucipdvpculpqawdgyixbh \n",
            "\n",
            "Key is:  24 Possible Plaintext is:  rcadihtfogrxtbrtoxgohwtoghismocuorcadihtfgopbsorcadihxbvoxbr isxbvohwtxfohwtcfthxrp opbsop vcfxhwaxroucibsphxcbgowpfskpftopbsogcuhkpftopbsohwtxfoigtgoucfodfcrtggxbvoxbucfaphxcbowtosxgrxd xbtocuorcadihtfogrxtbrtoxbr istgohwtoghismocuop vcfxhwagopbsosphpoghfirhiftgorcadihtfopbsobthkcfzostgxvboacst xbvosphpopbsoxbucfaphxcbodfcrtggtgopbsopfhxuxrxp oxbht  xvtbrtocadihtfogrxtbrtosfpkgogcatocuoxhgoucibsphxcbgoufcaoaphwtaphxrgopbsotbvxbttfxbvopbsohwtftucftoxbrcfdcfphtgohtrwbxeitgoufcaopftpgogirwopgoeititxbvohwtcfmodfcqpqx xhmopbsoghphxghxrgopbsot trhfcbxrorxfrixhostgxvbocadihtfogrxtbrtop gcoapztgowtpjmoigtocuowmdchwtgxgohtghxbvopbsotldtfxatbhphxcbosifxbvohwtorcbrtdhip xnphxcbostgxvboatpgiftatbhopbsoftuxbtatbhocuobtkop vcfxhwag \n",
            "\n",
            "Key is:  25 Possible Plaintext is:  qb chgsenfqwsaqsnwfngvsnfghrlnbtnqb chgsefnoarnqb chgwaunwaqzhrwaungvswengvsbesgwqoznoarnozubewgv wqntbharogwbafnvoerjoesnoarnfbtgjoesnoarngvswenhfsfntbencebqsffwaunwatbe ogwbanvsnrwfqwczwasnbtnqb chgsenfqwsaqsnwaqzhrsfngvsnfghrlnbtnozubewgv fnoarnrogonfgehqghesfnqb chgsenoarnasgjbeynrsfwuan brszwaunrogonoarnwatbe ogwbancebqsffsfnoarnoegwtwqwoznwagszzwusaqsnb chgsenfqwsaqsnreojfnfb snbtnwgfntbharogwbafnteb n ogvs ogwqfnoarnsauwassewaunoarngvsestbesnwaqbecbeogsfngsqvawdhsfnteb noesofnfhqvnofndhshswaungvsbelncebpopwzwglnoarnfgogwfgwqfnoarnszsqgebawqnqweqhwgnrsfwuanb chgsenfqwsaqsnozfbn oysfnvsoilnhfsnbtnvlcbgvsfwfngsfgwaunoarnskcsew sagogwbanrhewaungvsnqbaqscghozwmogwbanrsfwuan sofhes sagnoarnestwas sagnbtnasjnozubewgv f \n",
            "\n",
            "Key is:  26 Possible Plaintext is:  pazbgfrdmepvr prmvemfurmefgqkmasmpazbgfrdemn qmpazbgfv tmv pygqv tmfurvdmfuradrfvpnymn qmnytadvfuzvpmsag qnfva emundqindrmn qmeasfindrmn qmfurvdmgeremsadmbdapreev tmv sadznfva murmqvepvbyv rmasmpazbgfrdmepvr prmv pygqremfurmefgqkmasmnytadvfuzemn qmqnfnmefdgpfgdrempazbgfrdmn qm rfiadxmqrevt mzaqryv tmqnfnmn qmv sadznfva mbdapreeremn qmndfvsvpvnymv fryyvtr prmazbgfrdmepvr prmqdniemeazrmasmvfemsag qnfva emsdazmznfurznfvpemn qmr tv rrdv tmn qmfurdrsadrmv padbadnfremfrpu vcgremsdazmndrnemegpumnemcgrgrv tmfuradkmbdaonovyvfkmn qmefnfvefvpemn qmryrpfda vpmpvdpgvfmqrevt mazbgfrdmepvr prmnyeamznxremurnhkmgermasmukbafurevemfrefv tmn qmrjbrdvzr fnfva mqgdv tmfurmpa prbfgnyvlnfva mqrevt mzrnegdrzr fmn qmdrsv rzr fmasm rimnytadvfuze \n",
            "\n"
          ]
        }
      ]
    },
    {
      "cell_type": "code",
      "source": [
        "for key_token in range(len(Letters)):\n",
        "  bf_result = caesar_dec(caesar_cip2, key_token)\n",
        "  print('Key is: ', key_token, 'Possible Plaintext is: ', bf_result, '\\n')"
      ],
      "metadata": {
        "id": "h6vnyJdCIBjL",
        "colab": {
          "base_uri": "https://localhost:8080/"
        },
        "outputId": "f5d7085d-a7b7-47f2-9c0f-ab0a6df19796"
      },
      "execution_count": 21,
      "outputs": [
        {
          "output_type": "stream",
          "name": "stdout",
          "text": [
            "Key is:  0 Possible Plaintext is:  o yy zldqzdqludlz eld lo yy z \n",
            "\n",
            "Key is:  1 Possible Plaintext is:  nzxxzykcpycpktckyzdkczknzxxzy \n",
            "\n",
            "Key is:  2 Possible Plaintext is:  mywwyxjboxbojsbjxycjbyjmywwyx \n",
            "\n",
            "Key is:  3 Possible Plaintext is:  lxvvxwianwaniraiwxbiaxilxvvxw \n",
            "\n",
            "Key is:  4 Possible Plaintext is:  kwuuwvh mv mhq hvwah whkwuuwv \n",
            "\n",
            "Key is:  5 Possible Plaintext is:  jvttvugzluzlgpzguv gzvgjvttvu \n",
            "\n",
            "Key is:  6 Possible Plaintext is:  iussutfyktykfoyftuzfyufiussut \n",
            "\n",
            "Key is:  7 Possible Plaintext is:  htrrtsexjsxjenxestyextehtrrts \n",
            "\n",
            "Key is:  8 Possible Plaintext is:  gsqqsrdwirwidmwdrsxdwsdgsqqsr \n",
            "\n",
            "Key is:  9 Possible Plaintext is:  frpprqcvhqvhclvcqrwcvrcfrpprq \n",
            "\n",
            "Key is:  10 Possible Plaintext is:  eqooqpbugpugbkubpqvbuqbeqooqp \n",
            "\n",
            "Key is:  11 Possible Plaintext is:  dpnnpoatfotfajtaopuatpadpnnpo \n",
            "\n",
            "Key is:  12 Possible Plaintext is:  common sense is not so common \n",
            "\n",
            "Key is:  13 Possible Plaintext is:  bnllnmzrdmrdzhrzmnszrnzbnllnm \n",
            "\n",
            "Key is:  14 Possible Plaintext is:  amkkmlyqclqcygqylmryqmyamkkml \n",
            "\n",
            "Key is:  15 Possible Plaintext is:   ljjlkxpbkpbxfpxklqxplx ljjlk \n",
            "\n",
            "Key is:  16 Possible Plaintext is:  zkiikjwoajoaweowjkpwokwzkiikj \n",
            "\n",
            "Key is:  17 Possible Plaintext is:  yjhhjivn in vdnvijovnjvyjhhji \n",
            "\n",
            "Key is:  18 Possible Plaintext is:  xiggihumzhmzucmuhinumiuxiggih \n",
            "\n",
            "Key is:  19 Possible Plaintext is:  whffhgtlyglytbltghmtlhtwhffhg \n",
            "\n",
            "Key is:  20 Possible Plaintext is:  vgeegfskxfkxsaksfglskgsvgeegf \n",
            "\n",
            "Key is:  21 Possible Plaintext is:  ufddferjwejwr jrefkrjfrufddfe \n",
            "\n",
            "Key is:  22 Possible Plaintext is:  teccedqivdivqziqdejqieqtecced \n",
            "\n",
            "Key is:  23 Possible Plaintext is:  sdbbdcphuchupyhpcdiphdpsdbbdc \n",
            "\n",
            "Key is:  24 Possible Plaintext is:  rcaacbogtbgtoxgobchogcorcaacb \n",
            "\n",
            "Key is:  25 Possible Plaintext is:  qb  banfsafsnwfnabgnfbnqb  ba \n",
            "\n",
            "Key is:  26 Possible Plaintext is:  pazza mer ermvem afmeampazza  \n",
            "\n"
          ]
        }
      ]
    },
    {
      "cell_type": "markdown",
      "source": [],
      "metadata": {
        "id": "JFuuYdgXm7r-"
      }
    },
    {
      "cell_type": "markdown",
      "source": [
        "# English Detection"
      ],
      "metadata": {
        "id": "kC2AZgMyJIxT"
      }
    },
    {
      "cell_type": "code",
      "source": [
        "!pip install langdetect\n",
        "from langdetect import detect"
      ],
      "metadata": {
        "colab": {
          "base_uri": "https://localhost:8080/"
        },
        "id": "wo5wAB5Sm9yJ",
        "outputId": "50faaac9-acb2-4a46-a07a-aa2e110ad1f4"
      },
      "execution_count": 22,
      "outputs": [
        {
          "output_type": "stream",
          "name": "stdout",
          "text": [
            "Looking in indexes: https://pypi.org/simple, https://us-python.pkg.dev/colab-wheels/public/simple/\n",
            "Collecting langdetect\n",
            "  Downloading langdetect-1.0.9.tar.gz (981 kB)\n",
            "\u001b[K     |████████████████████████████████| 981 kB 5.1 MB/s \n",
            "\u001b[?25hRequirement already satisfied: six in /usr/local/lib/python3.7/dist-packages (from langdetect) (1.15.0)\n",
            "Building wheels for collected packages: langdetect\n",
            "  Building wheel for langdetect (setup.py) ... \u001b[?25l\u001b[?25hdone\n",
            "  Created wheel for langdetect: filename=langdetect-1.0.9-py3-none-any.whl size=993242 sha256=2625a4d9c42c46d4f047bbc93b88debabc1136568f3785b5700d7d31c1205037\n",
            "  Stored in directory: /root/.cache/pip/wheels/c5/96/8a/f90c59ed25d75e50a8c10a1b1c2d4c402e4dacfa87f3aff36a\n",
            "Successfully built langdetect\n",
            "Installing collected packages: langdetect\n",
            "Successfully installed langdetect-1.0.9\n"
          ]
        }
      ]
    },
    {
      "cell_type": "code",
      "source": [
        "detect(plaintext2)"
      ],
      "metadata": {
        "colab": {
          "base_uri": "https://localhost:8080/",
          "height": 35
        },
        "id": "Y4W6NTUNnE_7",
        "outputId": "96d8ffeb-b249-4f1a-a057-14cafe71ad2f"
      },
      "execution_count": 23,
      "outputs": [
        {
          "output_type": "execute_result",
          "data": {
            "text/plain": [
              "'en'"
            ],
            "application/vnd.google.colaboratory.intrinsic+json": {
              "type": "string"
            }
          },
          "metadata": {},
          "execution_count": 23
        }
      ]
    },
    {
      "cell_type": "code",
      "source": [
        "detect('你好 世界 这句是中文')"
      ],
      "metadata": {
        "colab": {
          "base_uri": "https://localhost:8080/",
          "height": 35
        },
        "id": "TE1bQpQ8nFvc",
        "outputId": "bbc6c641-c86d-46e9-e8c7-4517f34f8934"
      },
      "execution_count": 24,
      "outputs": [
        {
          "output_type": "execute_result",
          "data": {
            "text/plain": [
              "'zh-cn'"
            ],
            "application/vnd.google.colaboratory.intrinsic+json": {
              "type": "string"
            }
          },
          "metadata": {},
          "execution_count": 24
        }
      ]
    },
    {
      "cell_type": "markdown",
      "source": [
        "**English Detection Model Development**"
      ],
      "metadata": {
        "id": "ajo0Uue9nLcw"
      }
    },
    {
      "cell_type": "code",
      "source": [
        "from google.colab import files\n",
        "uploaded = files.upload()"
      ],
      "metadata": {
        "colab": {
          "base_uri": "https://localhost:8080/",
          "height": 37
        },
        "id": "s3evbNANnN1W",
        "outputId": "c5094ffa-cc51-45e4-ba0e-0dd0b13eae42"
      },
      "execution_count": null,
      "outputs": [
        {
          "output_type": "display_data",
          "data": {
            "text/plain": [
              "<IPython.core.display.HTML object>"
            ],
            "text/html": [
              "\n",
              "     <input type=\"file\" id=\"files-0c1a776f-2e0c-492a-9690-ee96f2fa3bbb\" name=\"files[]\" multiple disabled\n",
              "        style=\"border:none\" />\n",
              "     <output id=\"result-0c1a776f-2e0c-492a-9690-ee96f2fa3bbb\">\n",
              "      Upload widget is only available when the cell has been executed in the\n",
              "      current browser session. Please rerun this cell to enable.\n",
              "      </output>\n",
              "      <script>// Copyright 2017 Google LLC\n",
              "//\n",
              "// Licensed under the Apache License, Version 2.0 (the \"License\");\n",
              "// you may not use this file except in compliance with the License.\n",
              "// You may obtain a copy of the License at\n",
              "//\n",
              "//      http://www.apache.org/licenses/LICENSE-2.0\n",
              "//\n",
              "// Unless required by applicable law or agreed to in writing, software\n",
              "// distributed under the License is distributed on an \"AS IS\" BASIS,\n",
              "// WITHOUT WARRANTIES OR CONDITIONS OF ANY KIND, either express or implied.\n",
              "// See the License for the specific language governing permissions and\n",
              "// limitations under the License.\n",
              "\n",
              "/**\n",
              " * @fileoverview Helpers for google.colab Python module.\n",
              " */\n",
              "(function(scope) {\n",
              "function span(text, styleAttributes = {}) {\n",
              "  const element = document.createElement('span');\n",
              "  element.textContent = text;\n",
              "  for (const key of Object.keys(styleAttributes)) {\n",
              "    element.style[key] = styleAttributes[key];\n",
              "  }\n",
              "  return element;\n",
              "}\n",
              "\n",
              "// Max number of bytes which will be uploaded at a time.\n",
              "const MAX_PAYLOAD_SIZE = 100 * 1024;\n",
              "\n",
              "function _uploadFiles(inputId, outputId) {\n",
              "  const steps = uploadFilesStep(inputId, outputId);\n",
              "  const outputElement = document.getElementById(outputId);\n",
              "  // Cache steps on the outputElement to make it available for the next call\n",
              "  // to uploadFilesContinue from Python.\n",
              "  outputElement.steps = steps;\n",
              "\n",
              "  return _uploadFilesContinue(outputId);\n",
              "}\n",
              "\n",
              "// This is roughly an async generator (not supported in the browser yet),\n",
              "// where there are multiple asynchronous steps and the Python side is going\n",
              "// to poll for completion of each step.\n",
              "// This uses a Promise to block the python side on completion of each step,\n",
              "// then passes the result of the previous step as the input to the next step.\n",
              "function _uploadFilesContinue(outputId) {\n",
              "  const outputElement = document.getElementById(outputId);\n",
              "  const steps = outputElement.steps;\n",
              "\n",
              "  const next = steps.next(outputElement.lastPromiseValue);\n",
              "  return Promise.resolve(next.value.promise).then((value) => {\n",
              "    // Cache the last promise value to make it available to the next\n",
              "    // step of the generator.\n",
              "    outputElement.lastPromiseValue = value;\n",
              "    return next.value.response;\n",
              "  });\n",
              "}\n",
              "\n",
              "/**\n",
              " * Generator function which is called between each async step of the upload\n",
              " * process.\n",
              " * @param {string} inputId Element ID of the input file picker element.\n",
              " * @param {string} outputId Element ID of the output display.\n",
              " * @return {!Iterable<!Object>} Iterable of next steps.\n",
              " */\n",
              "function* uploadFilesStep(inputId, outputId) {\n",
              "  const inputElement = document.getElementById(inputId);\n",
              "  inputElement.disabled = false;\n",
              "\n",
              "  const outputElement = document.getElementById(outputId);\n",
              "  outputElement.innerHTML = '';\n",
              "\n",
              "  const pickedPromise = new Promise((resolve) => {\n",
              "    inputElement.addEventListener('change', (e) => {\n",
              "      resolve(e.target.files);\n",
              "    });\n",
              "  });\n",
              "\n",
              "  const cancel = document.createElement('button');\n",
              "  inputElement.parentElement.appendChild(cancel);\n",
              "  cancel.textContent = 'Cancel upload';\n",
              "  const cancelPromise = new Promise((resolve) => {\n",
              "    cancel.onclick = () => {\n",
              "      resolve(null);\n",
              "    };\n",
              "  });\n",
              "\n",
              "  // Wait for the user to pick the files.\n",
              "  const files = yield {\n",
              "    promise: Promise.race([pickedPromise, cancelPromise]),\n",
              "    response: {\n",
              "      action: 'starting',\n",
              "    }\n",
              "  };\n",
              "\n",
              "  cancel.remove();\n",
              "\n",
              "  // Disable the input element since further picks are not allowed.\n",
              "  inputElement.disabled = true;\n",
              "\n",
              "  if (!files) {\n",
              "    return {\n",
              "      response: {\n",
              "        action: 'complete',\n",
              "      }\n",
              "    };\n",
              "  }\n",
              "\n",
              "  for (const file of files) {\n",
              "    const li = document.createElement('li');\n",
              "    li.append(span(file.name, {fontWeight: 'bold'}));\n",
              "    li.append(span(\n",
              "        `(${file.type || 'n/a'}) - ${file.size} bytes, ` +\n",
              "        `last modified: ${\n",
              "            file.lastModifiedDate ? file.lastModifiedDate.toLocaleDateString() :\n",
              "                                    'n/a'} - `));\n",
              "    const percent = span('0% done');\n",
              "    li.appendChild(percent);\n",
              "\n",
              "    outputElement.appendChild(li);\n",
              "\n",
              "    const fileDataPromise = new Promise((resolve) => {\n",
              "      const reader = new FileReader();\n",
              "      reader.onload = (e) => {\n",
              "        resolve(e.target.result);\n",
              "      };\n",
              "      reader.readAsArrayBuffer(file);\n",
              "    });\n",
              "    // Wait for the data to be ready.\n",
              "    let fileData = yield {\n",
              "      promise: fileDataPromise,\n",
              "      response: {\n",
              "        action: 'continue',\n",
              "      }\n",
              "    };\n",
              "\n",
              "    // Use a chunked sending to avoid message size limits. See b/62115660.\n",
              "    let position = 0;\n",
              "    do {\n",
              "      const length = Math.min(fileData.byteLength - position, MAX_PAYLOAD_SIZE);\n",
              "      const chunk = new Uint8Array(fileData, position, length);\n",
              "      position += length;\n",
              "\n",
              "      const base64 = btoa(String.fromCharCode.apply(null, chunk));\n",
              "      yield {\n",
              "        response: {\n",
              "          action: 'append',\n",
              "          file: file.name,\n",
              "          data: base64,\n",
              "        },\n",
              "      };\n",
              "\n",
              "      let percentDone = fileData.byteLength === 0 ?\n",
              "          100 :\n",
              "          Math.round((position / fileData.byteLength) * 100);\n",
              "      percent.textContent = `${percentDone}% done`;\n",
              "\n",
              "    } while (position < fileData.byteLength);\n",
              "  }\n",
              "\n",
              "  // All done.\n",
              "  yield {\n",
              "    response: {\n",
              "      action: 'complete',\n",
              "    }\n",
              "  };\n",
              "}\n",
              "\n",
              "scope.google = scope.google || {};\n",
              "scope.google.colab = scope.google.colab || {};\n",
              "scope.google.colab._files = {\n",
              "  _uploadFiles,\n",
              "  _uploadFilesContinue,\n",
              "};\n",
              "})(self);\n",
              "</script> "
            ]
          },
          "metadata": {}
        }
      ]
    },
    {
      "cell_type": "code",
      "source": [
        "def load_file():\n",
        "  dict_file = open('dictionary.txt')\n",
        "  english_dict = {}\n",
        "  for word in dict_file.read().split('\\n'):\n",
        "    english_dict[word] = None\n",
        "  dict_file.close()\n",
        "  return english_dict"
      ],
      "metadata": {
        "id": "9UUv49senScR"
      },
      "execution_count": null,
      "outputs": []
    },
    {
      "cell_type": "code",
      "source": [
        "English_file = load_file()"
      ],
      "metadata": {
        "id": "ngXg0Ur3nbes"
      },
      "execution_count": null,
      "outputs": []
    },
    {
      "cell_type": "code",
      "source": [
        "#English_file"
      ],
      "metadata": {
        "id": "YNLmOQxDncrq"
      },
      "execution_count": null,
      "outputs": []
    },
    {
      "cell_type": "code",
      "source": [
        "# do some preprocessing on the input sentence\n",
        "# we only want to check the word but not other symbols\n",
        "def remove_non_letter(input_message):\n",
        "  letter_only =[]\n",
        "  for token in input_message:\n",
        "    if token in LETTERS_SYM:\n",
        "      letter_only.append(token)\n",
        "  return ''.join(letter_only)"
      ],
      "metadata": {
        "id": "iYNWTx6KnjrB"
      },
      "execution_count": null,
      "outputs": []
    },
    {
      "cell_type": "code",
      "source": [
        "# return the ratio of valid english word from the list of possible words\n",
        "def get_word_count(input_message):\n",
        "  input_message = input_message.upper()\n",
        "  input_message = remove_non_letter(input_message)\n",
        "  poss_word = input_message.split()\n",
        "  if poss_word == []:\n",
        "    return 0.0 # mean no valid word at all\n",
        "  match = 0\n",
        "  for word in poss_word:\n",
        "    if word in English_file:\n",
        "      match = match + 1\n",
        "  return float(match)/len(poss_word)"
      ],
      "metadata": {
        "id": "DRGwvhlcnmVP"
      },
      "execution_count": null,
      "outputs": []
    },
    {
      "cell_type": "code",
      "source": [
        "def is_English(input_message, word_ratio = 60, letter_ratio = 80):\n",
        "  word_match_ratio = get_word_count(input_message)*100 >= word_ratio\n",
        "  letter_num = len(remove_non_letter(input_message))\n",
        "  letter_match_ratio = float(letter_num)/len(input_message)*100 >= letter_ratio\n",
        "  return word_match_ratio and letter_match_ratio\n",
        "                              "
      ],
      "metadata": {
        "id": "TqvGBtwInpWC"
      },
      "execution_count": null,
      "outputs": []
    },
    {
      "cell_type": "code",
      "source": [
        "is_English(plaintext2)"
      ],
      "metadata": {
        "id": "4YGTOro0nsZB"
      },
      "execution_count": null,
      "outputs": []
    },
    {
      "cell_type": "code",
      "source": [
        "is_English('kjiek jeajiekj kjakjei jgijeiage jgkeaigj 这是一个中文')"
      ],
      "metadata": {
        "id": "rpEZFr7rn3zh"
      },
      "execution_count": null,
      "outputs": []
    },
    {
      "cell_type": "code",
      "source": [
        "for key_token in range(len(Letters)):\n",
        "  bf_result = caesar_dec(caesar_cip1, key_token)\n",
        "  if is_English(bf_result):\n",
        "    print('Key is: ', key_token, 'Possible Plaintext is: ', bf_result, '\\n')"
      ],
      "metadata": {
        "id": "iJPLXE0YPA6R"
      },
      "execution_count": null,
      "outputs": []
    }
  ]
}